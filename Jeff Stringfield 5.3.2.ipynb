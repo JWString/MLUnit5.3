{
 "metadata": {
  "language_info": {
   "codemirror_mode": {
    "name": "ipython",
    "version": 3
   },
   "file_extension": ".py",
   "mimetype": "text/x-python",
   "name": "python",
   "nbconvert_exporter": "python",
   "pygments_lexer": "ipython3",
   "version": "3.8.5"
  },
  "orig_nbformat": 2,
  "kernelspec": {
   "name": "python385jvsc74a57bd0d0d13a48fbe1ccbf9e50f6e28e1ba818bf944a1ede3f7ed8ee8e21e08eb1c218",
   "display_name": "Python 3.8.5 64-bit ('base': conda)"
  }
 },
 "nbformat": 4,
 "nbformat_minor": 2,
 "cells": [
  {
   "source": [
    "## Intro"
   ],
   "cell_type": "markdown",
   "metadata": {}
  },
  {
   "cell_type": "code",
   "execution_count": 39,
   "metadata": {},
   "outputs": [],
   "source": [
    "#Set-up\n",
    "\n",
    "from __future__ import (absolute_import, division,\n",
    "                        print_function, unicode_literals)\n",
    "from future import standard_library\n",
    "standard_library.install_aliases()\n",
    "from future.builtins import (\n",
    "         bytes, dict, int, list, object, range, str,\n",
    "         ascii, chr, hex, input, next, oct, open,\n",
    "         pow, round, super, filter, map, zip)"
   ]
  },
  {
   "cell_type": "code",
   "execution_count": 40,
   "metadata": {},
   "outputs": [
    {
     "output_type": "execute_result",
     "data": {
      "text/plain": [
       "'1.2.3'"
      ]
     },
     "metadata": {},
     "execution_count": 40
    }
   ],
   "source": [
    "import pandas as pd\n",
    "pd.__version__"
   ]
  },
  {
   "cell_type": "code",
   "execution_count": 41,
   "metadata": {},
   "outputs": [],
   "source": [
    "# to imbed plots, prevents pop-up windows for plots\n",
    "%matplotlib inline"
   ]
  },
  {
   "source": [
    "## Data Reading"
   ],
   "cell_type": "markdown",
   "metadata": {}
  },
  {
   "cell_type": "code",
   "execution_count": 9,
   "metadata": {},
   "outputs": [
    {
     "output_type": "execute_result",
     "data": {
      "text/plain": [
       "              Open    High     Low   Close     Volume\n",
       "Date                                                 \n",
       "2010-01-04  313.16  314.44  311.81  313.06        NaN\n",
       "2010-01-05  313.28  313.61  310.46  311.68        NaN\n",
       "2010-01-06  312.62  312.62  302.88  303.83        NaN\n",
       "2010-01-07  304.40  304.70  296.03  296.75        NaN\n",
       "2010-01-08  295.70  301.32  294.26  300.71        NaN\n",
       "...            ...     ...     ...     ...        ...\n",
       "2014-12-24  530.51  531.76  527.02  528.77   704035.0\n",
       "2014-12-26  528.77  534.25  527.31  534.03  1037727.0\n",
       "2014-12-29  532.19  535.48  530.01  530.33  2276104.0\n",
       "2014-12-30  528.09  531.15  527.13  530.42   873923.0\n",
       "2014-12-31  531.25  532.60  525.80  526.40  1371819.0\n",
       "\n",
       "[1257 rows x 5 columns]"
      ],
      "text/html": "<div>\n<style scoped>\n    .dataframe tbody tr th:only-of-type {\n        vertical-align: middle;\n    }\n\n    .dataframe tbody tr th {\n        vertical-align: top;\n    }\n\n    .dataframe thead th {\n        text-align: right;\n    }\n</style>\n<table border=\"1\" class=\"dataframe\">\n  <thead>\n    <tr style=\"text-align: right;\">\n      <th></th>\n      <th>Open</th>\n      <th>High</th>\n      <th>Low</th>\n      <th>Close</th>\n      <th>Volume</th>\n    </tr>\n    <tr>\n      <th>Date</th>\n      <th></th>\n      <th></th>\n      <th></th>\n      <th></th>\n      <th></th>\n    </tr>\n  </thead>\n  <tbody>\n    <tr>\n      <th>2010-01-04</th>\n      <td>313.16</td>\n      <td>314.44</td>\n      <td>311.81</td>\n      <td>313.06</td>\n      <td>NaN</td>\n    </tr>\n    <tr>\n      <th>2010-01-05</th>\n      <td>313.28</td>\n      <td>313.61</td>\n      <td>310.46</td>\n      <td>311.68</td>\n      <td>NaN</td>\n    </tr>\n    <tr>\n      <th>2010-01-06</th>\n      <td>312.62</td>\n      <td>312.62</td>\n      <td>302.88</td>\n      <td>303.83</td>\n      <td>NaN</td>\n    </tr>\n    <tr>\n      <th>2010-01-07</th>\n      <td>304.40</td>\n      <td>304.70</td>\n      <td>296.03</td>\n      <td>296.75</td>\n      <td>NaN</td>\n    </tr>\n    <tr>\n      <th>2010-01-08</th>\n      <td>295.70</td>\n      <td>301.32</td>\n      <td>294.26</td>\n      <td>300.71</td>\n      <td>NaN</td>\n    </tr>\n    <tr>\n      <th>...</th>\n      <td>...</td>\n      <td>...</td>\n      <td>...</td>\n      <td>...</td>\n      <td>...</td>\n    </tr>\n    <tr>\n      <th>2014-12-24</th>\n      <td>530.51</td>\n      <td>531.76</td>\n      <td>527.02</td>\n      <td>528.77</td>\n      <td>704035.0</td>\n    </tr>\n    <tr>\n      <th>2014-12-26</th>\n      <td>528.77</td>\n      <td>534.25</td>\n      <td>527.31</td>\n      <td>534.03</td>\n      <td>1037727.0</td>\n    </tr>\n    <tr>\n      <th>2014-12-29</th>\n      <td>532.19</td>\n      <td>535.48</td>\n      <td>530.01</td>\n      <td>530.33</td>\n      <td>2276104.0</td>\n    </tr>\n    <tr>\n      <th>2014-12-30</th>\n      <td>528.09</td>\n      <td>531.15</td>\n      <td>527.13</td>\n      <td>530.42</td>\n      <td>873923.0</td>\n    </tr>\n    <tr>\n      <th>2014-12-31</th>\n      <td>531.25</td>\n      <td>532.60</td>\n      <td>525.80</td>\n      <td>526.40</td>\n      <td>1371819.0</td>\n    </tr>\n  </tbody>\n</table>\n<p>1257 rows × 5 columns</p>\n</div>"
     },
     "metadata": {},
     "execution_count": 9
    }
   ],
   "source": [
    "# Reading data from a file\n",
    "google = pd.read_csv('strata_data/data/goog.csv', index_col='Date', parse_dates=True)\n",
    "google"
   ]
  },
  {
   "cell_type": "code",
   "execution_count": 10,
   "metadata": {},
   "outputs": [
    {
     "output_type": "error",
     "ename": "NotImplementedError",
     "evalue": "data_source='google' is not implemented",
     "traceback": [
      "\u001b[1;31m---------------------------------------------------------------------------\u001b[0m",
      "\u001b[1;31mNotImplementedError\u001b[0m                       Traceback (most recent call last)",
      "\u001b[1;32m<ipython-input-10-736512a83f66>\u001b[0m in \u001b[0;36m<module>\u001b[1;34m\u001b[0m\n\u001b[0;32m      3\u001b[0m \u001b[0mstart\u001b[0m  \u001b[1;33m=\u001b[0m \u001b[0mpd\u001b[0m\u001b[1;33m.\u001b[0m\u001b[0mTimestamp\u001b[0m\u001b[1;33m(\u001b[0m\u001b[1;34m'2010-1-1'\u001b[0m\u001b[1;33m)\u001b[0m\u001b[1;33m\u001b[0m\u001b[1;33m\u001b[0m\u001b[0m\n\u001b[0;32m      4\u001b[0m \u001b[0mend\u001b[0m    \u001b[1;33m=\u001b[0m \u001b[0mpd\u001b[0m\u001b[1;33m.\u001b[0m\u001b[0mTimestamp\u001b[0m\u001b[1;33m(\u001b[0m\u001b[1;34m'2014-12-31'\u001b[0m\u001b[1;33m)\u001b[0m\u001b[1;33m\u001b[0m\u001b[1;33m\u001b[0m\u001b[0m\n\u001b[1;32m----> 5\u001b[1;33m \u001b[0mgoogle\u001b[0m \u001b[1;33m=\u001b[0m \u001b[0mpd_data\u001b[0m\u001b[1;33m.\u001b[0m\u001b[0mDataReader\u001b[0m\u001b[1;33m(\u001b[0m\u001b[1;34m\"GOOG\"\u001b[0m\u001b[1;33m,\u001b[0m \u001b[1;34m'google'\u001b[0m\u001b[1;33m,\u001b[0m \u001b[0mstart\u001b[0m\u001b[1;33m,\u001b[0m \u001b[0mend\u001b[0m\u001b[1;33m)\u001b[0m\u001b[1;33m\u001b[0m\u001b[1;33m\u001b[0m\u001b[0m\n\u001b[0m",
      "\u001b[1;32m~\\anaconda3\\lib\\site-packages\\pandas\\util\\_decorators.py\u001b[0m in \u001b[0;36mwrapper\u001b[1;34m(*args, **kwargs)\u001b[0m\n\u001b[0;32m    197\u001b[0m                 \u001b[1;32melse\u001b[0m\u001b[1;33m:\u001b[0m\u001b[1;33m\u001b[0m\u001b[1;33m\u001b[0m\u001b[0m\n\u001b[0;32m    198\u001b[0m                     \u001b[0mkwargs\u001b[0m\u001b[1;33m[\u001b[0m\u001b[0mnew_arg_name\u001b[0m\u001b[1;33m]\u001b[0m \u001b[1;33m=\u001b[0m \u001b[0mnew_arg_value\u001b[0m\u001b[1;33m\u001b[0m\u001b[1;33m\u001b[0m\u001b[0m\n\u001b[1;32m--> 199\u001b[1;33m             \u001b[1;32mreturn\u001b[0m \u001b[0mfunc\u001b[0m\u001b[1;33m(\u001b[0m\u001b[1;33m*\u001b[0m\u001b[0margs\u001b[0m\u001b[1;33m,\u001b[0m \u001b[1;33m**\u001b[0m\u001b[0mkwargs\u001b[0m\u001b[1;33m)\u001b[0m\u001b[1;33m\u001b[0m\u001b[1;33m\u001b[0m\u001b[0m\n\u001b[0m\u001b[0;32m    200\u001b[0m \u001b[1;33m\u001b[0m\u001b[0m\n\u001b[0;32m    201\u001b[0m         \u001b[1;32mreturn\u001b[0m \u001b[0mcast\u001b[0m\u001b[1;33m(\u001b[0m\u001b[0mF\u001b[0m\u001b[1;33m,\u001b[0m \u001b[0mwrapper\u001b[0m\u001b[1;33m)\u001b[0m\u001b[1;33m\u001b[0m\u001b[1;33m\u001b[0m\u001b[0m\n",
      "\u001b[1;32m~\\anaconda3\\lib\\site-packages\\pandas_datareader\\data.py\u001b[0m in \u001b[0;36mDataReader\u001b[1;34m(name, data_source, start, end, retry_count, pause, session, api_key)\u001b[0m\n\u001b[0;32m    371\u001b[0m     \u001b[1;32mif\u001b[0m \u001b[0mdata_source\u001b[0m \u001b[1;32mnot\u001b[0m \u001b[1;32min\u001b[0m \u001b[0mexpected_source\u001b[0m\u001b[1;33m:\u001b[0m\u001b[1;33m\u001b[0m\u001b[1;33m\u001b[0m\u001b[0m\n\u001b[0;32m    372\u001b[0m         \u001b[0mmsg\u001b[0m \u001b[1;33m=\u001b[0m \u001b[1;34m\"data_source=%r is not implemented\"\u001b[0m \u001b[1;33m%\u001b[0m \u001b[0mdata_source\u001b[0m\u001b[1;33m\u001b[0m\u001b[1;33m\u001b[0m\u001b[0m\n\u001b[1;32m--> 373\u001b[1;33m         \u001b[1;32mraise\u001b[0m \u001b[0mNotImplementedError\u001b[0m\u001b[1;33m(\u001b[0m\u001b[0mmsg\u001b[0m\u001b[1;33m)\u001b[0m\u001b[1;33m\u001b[0m\u001b[1;33m\u001b[0m\u001b[0m\n\u001b[0m\u001b[0;32m    374\u001b[0m \u001b[1;33m\u001b[0m\u001b[0m\n\u001b[0;32m    375\u001b[0m     \u001b[1;32mif\u001b[0m \u001b[0mdata_source\u001b[0m \u001b[1;33m==\u001b[0m \u001b[1;34m\"yahoo\"\u001b[0m\u001b[1;33m:\u001b[0m\u001b[1;33m\u001b[0m\u001b[1;33m\u001b[0m\u001b[0m\n",
      "\u001b[1;31mNotImplementedError\u001b[0m: data_source='google' is not implemented"
     ]
    }
   ],
   "source": [
    "# Reading data from the Web\n",
    "from pandas_datareader import data as pd_data\n",
    "\n",
    "start  = pd.Timestamp('2010-1-1')\n",
    "end    = pd.Timestamp('2014-12-31')\n",
    "google = pd_data.DataReader(\"GOOG\", 'google', start, end)"
   ]
  },
  {
   "source": [
    "## Data Containers"
   ],
   "cell_type": "markdown",
   "metadata": {}
  },
  {
   "cell_type": "code",
   "execution_count": 11,
   "metadata": {},
   "outputs": [
    {
     "output_type": "execute_result",
     "data": {
      "text/plain": [
       "pandas.core.frame.DataFrame"
      ]
     },
     "metadata": {},
     "execution_count": 11
    }
   ],
   "source": [
    "type(google)"
   ]
  },
  {
   "source": [
    "## Data Inspection"
   ],
   "cell_type": "markdown",
   "metadata": {}
  },
  {
   "cell_type": "code",
   "execution_count": 15,
   "metadata": {},
   "outputs": [
    {
     "output_type": "execute_result",
     "data": {
      "text/plain": [
       "              Open    High     Low   Close  Volume\n",
       "Date                                              \n",
       "2010-01-04  313.16  314.44  311.81  313.06     NaN\n",
       "2010-01-05  313.28  313.61  310.46  311.68     NaN\n",
       "2010-01-06  312.62  312.62  302.88  303.83     NaN\n",
       "2010-01-07  304.40  304.70  296.03  296.75     NaN\n",
       "2010-01-08  295.70  301.32  294.26  300.71     NaN"
      ],
      "text/html": "<div>\n<style scoped>\n    .dataframe tbody tr th:only-of-type {\n        vertical-align: middle;\n    }\n\n    .dataframe tbody tr th {\n        vertical-align: top;\n    }\n\n    .dataframe thead th {\n        text-align: right;\n    }\n</style>\n<table border=\"1\" class=\"dataframe\">\n  <thead>\n    <tr style=\"text-align: right;\">\n      <th></th>\n      <th>Open</th>\n      <th>High</th>\n      <th>Low</th>\n      <th>Close</th>\n      <th>Volume</th>\n    </tr>\n    <tr>\n      <th>Date</th>\n      <th></th>\n      <th></th>\n      <th></th>\n      <th></th>\n      <th></th>\n    </tr>\n  </thead>\n  <tbody>\n    <tr>\n      <th>2010-01-04</th>\n      <td>313.16</td>\n      <td>314.44</td>\n      <td>311.81</td>\n      <td>313.06</td>\n      <td>NaN</td>\n    </tr>\n    <tr>\n      <th>2010-01-05</th>\n      <td>313.28</td>\n      <td>313.61</td>\n      <td>310.46</td>\n      <td>311.68</td>\n      <td>NaN</td>\n    </tr>\n    <tr>\n      <th>2010-01-06</th>\n      <td>312.62</td>\n      <td>312.62</td>\n      <td>302.88</td>\n      <td>303.83</td>\n      <td>NaN</td>\n    </tr>\n    <tr>\n      <th>2010-01-07</th>\n      <td>304.40</td>\n      <td>304.70</td>\n      <td>296.03</td>\n      <td>296.75</td>\n      <td>NaN</td>\n    </tr>\n    <tr>\n      <th>2010-01-08</th>\n      <td>295.70</td>\n      <td>301.32</td>\n      <td>294.26</td>\n      <td>300.71</td>\n      <td>NaN</td>\n    </tr>\n  </tbody>\n</table>\n</div>"
     },
     "metadata": {},
     "execution_count": 15
    }
   ],
   "source": [
    "google.head()"
   ]
  },
  {
   "cell_type": "code",
   "execution_count": 16,
   "metadata": {},
   "outputs": [
    {
     "output_type": "stream",
     "name": "stdout",
     "text": [
      "<class 'pandas.core.frame.DataFrame'>\nDatetimeIndex: 1257 entries, 2010-01-04 to 2014-12-31\nData columns (total 5 columns):\n #   Column  Non-Null Count  Dtype  \n---  ------  --------------  -----  \n 0   Open    1257 non-null   float64\n 1   High    1257 non-null   float64\n 2   Low     1257 non-null   float64\n 3   Close   1257 non-null   float64\n 4   Volume  194 non-null    float64\ndtypes: float64(5)\nmemory usage: 58.9 KB\n"
     ]
    }
   ],
   "source": [
    "google.info()"
   ]
  },
  {
   "source": [
    "## Data Indexing"
   ],
   "cell_type": "markdown",
   "metadata": {}
  },
  {
   "cell_type": "code",
   "execution_count": 42,
   "metadata": {},
   "outputs": [
    {
     "output_type": "execute_result",
     "data": {
      "text/plain": [
       "Date\n",
       "2010-01-04    313.16\n",
       "2010-01-05    313.28\n",
       "2010-01-06    312.62\n",
       "2010-01-07    304.40\n",
       "               ...  \n",
       "2014-12-26    528.77\n",
       "2014-12-29    532.19\n",
       "2014-12-30    528.09\n",
       "2014-12-31    531.25\n",
       "Name: Open, Length: 1257, dtype: float64"
      ]
     },
     "metadata": {},
     "execution_count": 42
    }
   ],
   "source": [
    "# Access an entire column using []\n",
    "google['Open']"
   ]
  },
  {
   "cell_type": "code",
   "execution_count": 18,
   "metadata": {},
   "outputs": [
    {
     "output_type": "execute_result",
     "data": {
      "text/plain": [
       "Date\n",
       "2010-01-04    313.16\n",
       "2010-01-05    313.28\n",
       "2010-01-06    312.62\n",
       "2010-01-07    304.40\n",
       "2010-01-08    295.70\n",
       "Name: Open, dtype: float64"
      ]
     },
     "metadata": {},
     "execution_count": 18
    }
   ],
   "source": [
    "# Inspect the first 5 rows or the 'Open' column, using integer indexing\n",
    "google['Open'].iloc[0:5]"
   ]
  },
  {
   "cell_type": "code",
   "execution_count": 19,
   "metadata": {},
   "outputs": [
    {
     "output_type": "execute_result",
     "data": {
      "text/plain": [
       "Date\n",
       "2010-01-04    313.16\n",
       "2010-01-05    313.28\n",
       "2010-01-06    312.62\n",
       "2010-01-07    304.40\n",
       "2010-01-08    295.70\n",
       "Name: Open, dtype: float64"
      ]
     },
     "metadata": {},
     "execution_count": 19
    }
   ],
   "source": [
    "# Inspect the first 5 rows or the 'Open' column, using date indexing\n",
    "google.loc['2010-01-04':'2010-01-08','Open']"
   ]
  },
  {
   "source": [
    "## Data Filtering"
   ],
   "cell_type": "markdown",
   "metadata": {}
  },
  {
   "cell_type": "code",
   "execution_count": 20,
   "metadata": {},
   "outputs": [
    {
     "output_type": "execute_result",
     "data": {
      "text/plain": [
       "              Open    High     Low   Close  Volume\n",
       "Date                                              \n",
       "2010-01-08  295.70  301.32  294.26  300.71     NaN\n",
       "2010-01-13  287.96  293.90  286.66  293.25     NaN\n",
       "2010-01-14  291.66  296.80  291.11  294.63     NaN\n",
       "2010-01-19  290.45  294.91  287.86  293.52     NaN\n",
       "2010-01-26  268.72  274.53  267.88  270.94     NaN"
      ],
      "text/html": "<div>\n<style scoped>\n    .dataframe tbody tr th:only-of-type {\n        vertical-align: middle;\n    }\n\n    .dataframe tbody tr th {\n        vertical-align: top;\n    }\n\n    .dataframe thead th {\n        text-align: right;\n    }\n</style>\n<table border=\"1\" class=\"dataframe\">\n  <thead>\n    <tr style=\"text-align: right;\">\n      <th></th>\n      <th>Open</th>\n      <th>High</th>\n      <th>Low</th>\n      <th>Close</th>\n      <th>Volume</th>\n    </tr>\n    <tr>\n      <th>Date</th>\n      <th></th>\n      <th></th>\n      <th></th>\n      <th></th>\n      <th></th>\n    </tr>\n  </thead>\n  <tbody>\n    <tr>\n      <th>2010-01-08</th>\n      <td>295.70</td>\n      <td>301.32</td>\n      <td>294.26</td>\n      <td>300.71</td>\n      <td>NaN</td>\n    </tr>\n    <tr>\n      <th>2010-01-13</th>\n      <td>287.96</td>\n      <td>293.90</td>\n      <td>286.66</td>\n      <td>293.25</td>\n      <td>NaN</td>\n    </tr>\n    <tr>\n      <th>2010-01-14</th>\n      <td>291.66</td>\n      <td>296.80</td>\n      <td>291.11</td>\n      <td>294.63</td>\n      <td>NaN</td>\n    </tr>\n    <tr>\n      <th>2010-01-19</th>\n      <td>290.45</td>\n      <td>294.91</td>\n      <td>287.86</td>\n      <td>293.52</td>\n      <td>NaN</td>\n    </tr>\n    <tr>\n      <th>2010-01-26</th>\n      <td>268.72</td>\n      <td>274.53</td>\n      <td>267.88</td>\n      <td>270.94</td>\n      <td>NaN</td>\n    </tr>\n  </tbody>\n</table>\n</div>"
     },
     "metadata": {},
     "execution_count": 20
    }
   ],
   "source": [
    "# Filtering by conditional\n",
    "google_up = google[ google['Close'] > google['Open'] ]\n",
    "google_up.head()"
   ]
  },
  {
   "cell_type": "code",
   "execution_count": 21,
   "metadata": {},
   "outputs": [
    {
     "output_type": "execute_result",
     "data": {
      "text/plain": [
       "              Open    High     Low   Close     Volume\n",
       "Date                                                 \n",
       "2014-03-27  564.86  565.40  550.50  556.58  3826676.0\n",
       "2014-03-28  558.94  566.03  558.33  559.51  2258918.0\n",
       "2014-03-31  564.63  566.93  555.87  556.70  1942277.0\n",
       "2014-04-01  559.57  568.18  558.44  566.88  2182626.0\n",
       "2014-04-02  282.43  571.83  561.44  566.98  2088804.0"
      ],
      "text/html": "<div>\n<style scoped>\n    .dataframe tbody tr th:only-of-type {\n        vertical-align: middle;\n    }\n\n    .dataframe tbody tr th {\n        vertical-align: top;\n    }\n\n    .dataframe thead th {\n        text-align: right;\n    }\n</style>\n<table border=\"1\" class=\"dataframe\">\n  <thead>\n    <tr style=\"text-align: right;\">\n      <th></th>\n      <th>Open</th>\n      <th>High</th>\n      <th>Low</th>\n      <th>Close</th>\n      <th>Volume</th>\n    </tr>\n    <tr>\n      <th>Date</th>\n      <th></th>\n      <th></th>\n      <th></th>\n      <th></th>\n      <th></th>\n    </tr>\n  </thead>\n  <tbody>\n    <tr>\n      <th>2014-03-27</th>\n      <td>564.86</td>\n      <td>565.40</td>\n      <td>550.50</td>\n      <td>556.58</td>\n      <td>3826676.0</td>\n    </tr>\n    <tr>\n      <th>2014-03-28</th>\n      <td>558.94</td>\n      <td>566.03</td>\n      <td>558.33</td>\n      <td>559.51</td>\n      <td>2258918.0</td>\n    </tr>\n    <tr>\n      <th>2014-03-31</th>\n      <td>564.63</td>\n      <td>566.93</td>\n      <td>555.87</td>\n      <td>556.70</td>\n      <td>1942277.0</td>\n    </tr>\n    <tr>\n      <th>2014-04-01</th>\n      <td>559.57</td>\n      <td>568.18</td>\n      <td>558.44</td>\n      <td>566.88</td>\n      <td>2182626.0</td>\n    </tr>\n    <tr>\n      <th>2014-04-02</th>\n      <td>282.43</td>\n      <td>571.83</td>\n      <td>561.44</td>\n      <td>566.98</td>\n      <td>2088804.0</td>\n    </tr>\n  </tbody>\n</table>\n</div>"
     },
     "metadata": {},
     "execution_count": 21
    }
   ],
   "source": [
    "# Filtering out missing data\n",
    "google_filtered = google[pd.isnull(google['Volume']) == False ]\n",
    "google_filtered.head()"
   ]
  },
  {
   "source": [
    "## Data Statistics"
   ],
   "cell_type": "markdown",
   "metadata": {}
  },
  {
   "source": [
    "google.describe()"
   ],
   "cell_type": "code",
   "metadata": {},
   "execution_count": 43,
   "outputs": [
    {
     "output_type": "execute_result",
     "data": {
      "text/plain": [
       "              Open         High          Low        Close        Volume  \\\n",
       "count  1257.000000  1257.000000  1257.000000  1257.000000  1.940000e+02   \n",
       "mean    375.275593   378.450247   372.132474   375.327064  1.937264e+06   \n",
       "std     115.684354   116.288827   114.935742   115.664301  9.842775e+05   \n",
       "min     218.940000   220.920000   216.600000   217.820000  7.040350e+05   \n",
       "25%     285.790000   288.760000   283.060000   285.450000  1.338451e+06   \n",
       "50%     318.330000   320.800000   315.180000   317.260000  1.684634e+06   \n",
       "75%     452.540000   456.020000   449.740000   452.830000  2.164369e+06   \n",
       "max     612.790000   613.830000   608.690000   609.470000  6.795393e+06   \n",
       "\n",
       "            Return    LogReturn   Volatility  \n",
       "count  1256.000000  1256.000000  1005.000000  \n",
       "mean      0.000536     0.000414     0.246663  \n",
       "std       0.015690     0.015621     0.035072  \n",
       "min      -0.083795    -0.087515     0.194855  \n",
       "25%      -0.007200    -0.007226     0.215669  \n",
       "50%       0.000267     0.000267     0.236553  \n",
       "75%       0.008572     0.008536     0.275793  \n",
       "max       0.137966     0.129242     0.308908  "
      ],
      "text/html": "<div>\n<style scoped>\n    .dataframe tbody tr th:only-of-type {\n        vertical-align: middle;\n    }\n\n    .dataframe tbody tr th {\n        vertical-align: top;\n    }\n\n    .dataframe thead th {\n        text-align: right;\n    }\n</style>\n<table border=\"1\" class=\"dataframe\">\n  <thead>\n    <tr style=\"text-align: right;\">\n      <th></th>\n      <th>Open</th>\n      <th>High</th>\n      <th>Low</th>\n      <th>Close</th>\n      <th>Volume</th>\n      <th>Return</th>\n      <th>LogReturn</th>\n      <th>Volatility</th>\n    </tr>\n  </thead>\n  <tbody>\n    <tr>\n      <th>count</th>\n      <td>1257.000000</td>\n      <td>1257.000000</td>\n      <td>1257.000000</td>\n      <td>1257.000000</td>\n      <td>1.940000e+02</td>\n      <td>1256.000000</td>\n      <td>1256.000000</td>\n      <td>1005.000000</td>\n    </tr>\n    <tr>\n      <th>mean</th>\n      <td>375.275593</td>\n      <td>378.450247</td>\n      <td>372.132474</td>\n      <td>375.327064</td>\n      <td>1.937264e+06</td>\n      <td>0.000536</td>\n      <td>0.000414</td>\n      <td>0.246663</td>\n    </tr>\n    <tr>\n      <th>std</th>\n      <td>115.684354</td>\n      <td>116.288827</td>\n      <td>114.935742</td>\n      <td>115.664301</td>\n      <td>9.842775e+05</td>\n      <td>0.015690</td>\n      <td>0.015621</td>\n      <td>0.035072</td>\n    </tr>\n    <tr>\n      <th>min</th>\n      <td>218.940000</td>\n      <td>220.920000</td>\n      <td>216.600000</td>\n      <td>217.820000</td>\n      <td>7.040350e+05</td>\n      <td>-0.083795</td>\n      <td>-0.087515</td>\n      <td>0.194855</td>\n    </tr>\n    <tr>\n      <th>25%</th>\n      <td>285.790000</td>\n      <td>288.760000</td>\n      <td>283.060000</td>\n      <td>285.450000</td>\n      <td>1.338451e+06</td>\n      <td>-0.007200</td>\n      <td>-0.007226</td>\n      <td>0.215669</td>\n    </tr>\n    <tr>\n      <th>50%</th>\n      <td>318.330000</td>\n      <td>320.800000</td>\n      <td>315.180000</td>\n      <td>317.260000</td>\n      <td>1.684634e+06</td>\n      <td>0.000267</td>\n      <td>0.000267</td>\n      <td>0.236553</td>\n    </tr>\n    <tr>\n      <th>75%</th>\n      <td>452.540000</td>\n      <td>456.020000</td>\n      <td>449.740000</td>\n      <td>452.830000</td>\n      <td>2.164369e+06</td>\n      <td>0.008572</td>\n      <td>0.008536</td>\n      <td>0.275793</td>\n    </tr>\n    <tr>\n      <th>max</th>\n      <td>612.790000</td>\n      <td>613.830000</td>\n      <td>608.690000</td>\n      <td>609.470000</td>\n      <td>6.795393e+06</td>\n      <td>0.137966</td>\n      <td>0.129242</td>\n      <td>0.308908</td>\n    </tr>\n  </tbody>\n</table>\n</div>"
     },
     "metadata": {},
     "execution_count": 43
    }
   ]
  },
  {
   "source": [
    "## Data Computations"
   ],
   "cell_type": "markdown",
   "metadata": {}
  },
  {
   "cell_type": "code",
   "execution_count": 23,
   "metadata": {},
   "outputs": [
    {
     "output_type": "execute_result",
     "data": {
      "text/plain": [
       "Date\n",
       "2010-01-04         NaN\n",
       "2010-01-05   -0.004408\n",
       "2010-01-06   -0.025186\n",
       "2010-01-07   -0.023303\n",
       "2010-01-08    0.013345\n",
       "Name: Return, dtype: float64"
      ]
     },
     "metadata": {},
     "execution_count": 23
    }
   ],
   "source": [
    "# Compute the returns from daily percent change\n",
    "# Append a new column\n",
    "google['Return'] = google['Close'].pct_change()\n",
    "google['Return'].iloc[0:5]"
   ]
  },
  {
   "cell_type": "code",
   "execution_count": 24,
   "metadata": {},
   "outputs": [
    {
     "output_type": "execute_result",
     "data": {
      "text/plain": [
       "Date\n",
       "2010-01-04         NaN\n",
       "2010-01-05   -0.004418\n",
       "2010-01-06   -0.025509\n",
       "2010-01-07   -0.023578\n",
       "2010-01-08    0.013256\n",
       "Name: LogReturn, dtype: float64"
      ]
     },
     "metadata": {},
     "execution_count": 24
    }
   ],
   "source": [
    "# Compute the log() of the return using numpy\n",
    "# Append another new column\n",
    "import numpy as np\n",
    "google['LogReturn'] = np.log(1+google['Return'])\n",
    "google['LogReturn'].iloc[0:5]"
   ]
  },
  {
   "cell_type": "code",
   "execution_count": 29,
   "metadata": {},
   "outputs": [
    {
     "output_type": "execute_result",
     "data": {
      "text/plain": [
       "Date\n",
       "2010-12-28         NaN\n",
       "2010-12-29         NaN\n",
       "2010-12-30         NaN\n",
       "2010-12-31         NaN\n",
       "2011-01-03         NaN\n",
       "2011-01-04    0.278561\n",
       "2011-01-05    0.278770\n",
       "2011-01-06    0.277694\n",
       "2011-01-07    0.276720\n",
       "2011-01-10    0.276432\n",
       "Name: Volatility, dtype: float64"
      ]
     },
     "metadata": {},
     "execution_count": 29
    }
   ],
   "source": [
    "# Compute volatility as rolling standard deviation of the log() of the returns\n",
    "# Append yet another new column\n",
    "window_size = 252\n",
    "# the following had some deprecated code which was updated blow\n",
    "# google['Volatility'] = pd.rolling_std(google['LogReturn'], window=window_size) * np.sqrt(window_size)\n",
    "google['Volatility'] = google['LogReturn'].rolling(window=window_size).std() * np.sqrt(window_size)\n",
    "google['Volatility'].iloc[window_size-5:window_size+5]"
   ]
  },
  {
   "source": [
    "## Data Visualization"
   ],
   "cell_type": "markdown",
   "metadata": {}
  },
  {
   "cell_type": "code",
   "execution_count": 30,
   "metadata": {},
   "outputs": [
    {
     "output_type": "stream",
     "name": "stdout",
     "text": [
      "<class 'pandas.core.frame.DataFrame'>\nDatetimeIndex: 1257 entries, 2010-01-04 to 2014-12-31\nData columns (total 8 columns):\n #   Column      Non-Null Count  Dtype  \n---  ------      --------------  -----  \n 0   Open        1257 non-null   float64\n 1   High        1257 non-null   float64\n 2   Low         1257 non-null   float64\n 3   Close       1257 non-null   float64\n 4   Volume      194 non-null    float64\n 5   Return      1256 non-null   float64\n 6   LogReturn   1256 non-null   float64\n 7   Volatility  1005 non-null   float64\ndtypes: float64(8)\nmemory usage: 120.7 KB\n"
     ]
    }
   ],
   "source": [
    "google.info()"
   ]
  },
  {
   "cell_type": "code",
   "execution_count": 31,
   "metadata": {},
   "outputs": [
    {
     "output_type": "execute_result",
     "data": {
      "text/plain": [
       "array([<AxesSubplot:xlabel='Date'>, <AxesSubplot:xlabel='Date'>],\n",
       "      dtype=object)"
      ]
     },
     "metadata": {},
     "execution_count": 31
    },
    {
     "output_type": "display_data",
     "data": {
      "text/plain": "<Figure size 1080x432 with 2 Axes>",
      "image/svg+xml": "<?xml version=\"1.0\" encoding=\"utf-8\" standalone=\"no\"?>\r\n<!DOCTYPE svg PUBLIC \"-//W3C//DTD SVG 1.1//EN\"\r\n  \"http://www.w3.org/Graphics/SVG/1.1/DTD/svg11.dtd\">\r\n<!-- Created with matplotlib (https://matplotlib.org/) -->\r\n<svg height=\"349.944627pt\" version=\"1.1\" viewBox=\"0 0 887.028125 349.944627\" width=\"887.028125pt\" xmlns=\"http://www.w3.org/2000/svg\" xmlns:xlink=\"http://www.w3.org/1999/xlink\">\r\n <metadata>\r\n  <rdf:RDF xmlns:cc=\"http://creativecommons.org/ns#\" xmlns:dc=\"http://purl.org/dc/elements/1.1/\" xmlns:rdf=\"http://www.w3.org/1999/02/22-rdf-syntax-ns#\">\r\n   <cc:Work>\r\n    <dc:type rdf:resource=\"http://purl.org/dc/dcmitype/StillImage\"/>\r\n    <dc:date>2021-04-08T13:42:22.150988</dc:date>\r\n    <dc:format>image/svg+xml</dc:format>\r\n    <dc:creator>\r\n     <cc:Agent>\r\n      <dc:title>Matplotlib v3.3.2, https://matplotlib.org/</dc:title>\r\n     </cc:Agent>\r\n    </dc:creator>\r\n   </cc:Work>\r\n  </rdf:RDF>\r\n </metadata>\r\n <defs>\r\n  <style type=\"text/css\">*{stroke-linecap:butt;stroke-linejoin:round;}</style>\r\n </defs>\r\n <g id=\"figure_1\">\r\n  <g id=\"patch_1\">\r\n   <path d=\"M 0 349.944627 \r\nL 887.028125 349.944627 \r\nL 887.028125 0 \r\nL 0 0 \r\nz\r\n\" style=\"fill:none;\"/>\r\n  </g>\r\n  <g id=\"axes_1\">\r\n   <g id=\"patch_2\">\r\n    <path d=\"M 42.828125 140.727273 \r\nL 879.828125 140.727273 \r\nL 879.828125 7.2 \r\nL 42.828125 7.2 \r\nz\r\n\" style=\"fill:#ffffff;\"/>\r\n   </g>\r\n   <g id=\"matplotlib.axis_1\">\r\n    <g id=\"xtick_1\">\r\n     <g id=\"line2d_1\">\r\n      <defs>\r\n       <path d=\"M 0 0 \r\nL 0 3.5 \r\n\" id=\"m37438f2d56\" style=\"stroke:#000000;stroke-width:0.8;\"/>\r\n      </defs>\r\n      <g>\r\n       <use style=\"stroke:#000000;stroke-width:0.8;\" x=\"79.620711\" xlink:href=\"#m37438f2d56\" y=\"140.727273\"/>\r\n      </g>\r\n     </g>\r\n    </g>\r\n    <g id=\"xtick_2\">\r\n     <g id=\"line2d_2\">\r\n      <g>\r\n       <use style=\"stroke:#000000;stroke-width:0.8;\" x=\"232.053103\" xlink:href=\"#m37438f2d56\" y=\"140.727273\"/>\r\n      </g>\r\n     </g>\r\n    </g>\r\n    <g id=\"xtick_3\">\r\n     <g id=\"line2d_3\">\r\n      <g>\r\n       <use style=\"stroke:#000000;stroke-width:0.8;\" x=\"384.485495\" xlink:href=\"#m37438f2d56\" y=\"140.727273\"/>\r\n      </g>\r\n     </g>\r\n    </g>\r\n    <g id=\"xtick_4\">\r\n     <g id=\"line2d_4\">\r\n      <g>\r\n       <use style=\"stroke:#000000;stroke-width:0.8;\" x=\"537.335509\" xlink:href=\"#m37438f2d56\" y=\"140.727273\"/>\r\n      </g>\r\n     </g>\r\n    </g>\r\n    <g id=\"xtick_5\">\r\n     <g id=\"line2d_5\">\r\n      <g>\r\n       <use style=\"stroke:#000000;stroke-width:0.8;\" x=\"689.767901\" xlink:href=\"#m37438f2d56\" y=\"140.727273\"/>\r\n      </g>\r\n     </g>\r\n    </g>\r\n    <g id=\"xtick_6\">\r\n     <g id=\"line2d_6\">\r\n      <g>\r\n       <use style=\"stroke:#000000;stroke-width:0.8;\" x=\"842.200293\" xlink:href=\"#m37438f2d56\" y=\"140.727273\"/>\r\n      </g>\r\n     </g>\r\n    </g>\r\n    <g id=\"xtick_7\">\r\n     <g id=\"line2d_7\">\r\n      <defs>\r\n       <path d=\"M 0 0 \r\nL 0 2 \r\n\" id=\"mbf28898f4d\" style=\"stroke:#000000;stroke-width:0.6;\"/>\r\n      </defs>\r\n      <g>\r\n       <use style=\"stroke:#000000;stroke-width:0.6;\" x=\"138.087929\" xlink:href=\"#mbf28898f4d\" y=\"140.727273\"/>\r\n      </g>\r\n     </g>\r\n    </g>\r\n    <g id=\"xtick_8\">\r\n     <g id=\"line2d_8\">\r\n      <g>\r\n       <use style=\"stroke:#000000;stroke-width:0.6;\" x=\"242.493677\" xlink:href=\"#mbf28898f4d\" y=\"140.727273\"/>\r\n      </g>\r\n     </g>\r\n    </g>\r\n    <g id=\"xtick_9\">\r\n     <g id=\"line2d_9\">\r\n      <g>\r\n       <use style=\"stroke:#000000;stroke-width:0.6;\" x=\"346.899425\" xlink:href=\"#mbf28898f4d\" y=\"140.727273\"/>\r\n      </g>\r\n     </g>\r\n    </g>\r\n    <g id=\"xtick_10\">\r\n     <g id=\"line2d_10\">\r\n      <g>\r\n       <use style=\"stroke:#000000;stroke-width:0.6;\" x=\"451.305173\" xlink:href=\"#mbf28898f4d\" y=\"140.727273\"/>\r\n      </g>\r\n     </g>\r\n    </g>\r\n    <g id=\"xtick_11\">\r\n     <g id=\"line2d_11\">\r\n      <g>\r\n       <use style=\"stroke:#000000;stroke-width:0.6;\" x=\"555.710921\" xlink:href=\"#mbf28898f4d\" y=\"140.727273\"/>\r\n      </g>\r\n     </g>\r\n    </g>\r\n    <g id=\"xtick_12\">\r\n     <g id=\"line2d_12\">\r\n      <g>\r\n       <use style=\"stroke:#000000;stroke-width:0.6;\" x=\"660.116669\" xlink:href=\"#mbf28898f4d\" y=\"140.727273\"/>\r\n      </g>\r\n     </g>\r\n    </g>\r\n    <g id=\"xtick_13\">\r\n     <g id=\"line2d_13\">\r\n      <g>\r\n       <use style=\"stroke:#000000;stroke-width:0.6;\" x=\"764.522417\" xlink:href=\"#mbf28898f4d\" y=\"140.727273\"/>\r\n      </g>\r\n     </g>\r\n    </g>\r\n    <g id=\"xtick_14\">\r\n     <g id=\"line2d_14\">\r\n      <g>\r\n       <use style=\"stroke:#000000;stroke-width:0.6;\" x=\"868.928165\" xlink:href=\"#mbf28898f4d\" y=\"140.727273\"/>\r\n      </g>\r\n     </g>\r\n    </g>\r\n   </g>\r\n   <g id=\"matplotlib.axis_2\">\r\n    <g id=\"ytick_1\">\r\n     <g id=\"line2d_15\">\r\n      <defs>\r\n       <path d=\"M 0 0 \r\nL -3.5 0 \r\n\" id=\"mfb027ff6cf\" style=\"stroke:#000000;stroke-width:0.8;\"/>\r\n      </defs>\r\n      <g>\r\n       <use style=\"stroke:#000000;stroke-width:0.8;\" x=\"42.828125\" xlink:href=\"#mfb027ff6cf\" y=\"140.181002\"/>\r\n      </g>\r\n     </g>\r\n     <g id=\"text_1\">\r\n      <!-- 200 -->\r\n      <g transform=\"translate(16.740625 143.98022)scale(0.1 -0.1)\">\r\n       <defs>\r\n        <path d=\"M 19.1875 8.296875 \r\nL 53.609375 8.296875 \r\nL 53.609375 0 \r\nL 7.328125 0 \r\nL 7.328125 8.296875 \r\nQ 12.9375 14.109375 22.625 23.890625 \r\nQ 32.328125 33.6875 34.8125 36.53125 \r\nQ 39.546875 41.84375 41.421875 45.53125 \r\nQ 43.3125 49.21875 43.3125 52.78125 \r\nQ 43.3125 58.59375 39.234375 62.25 \r\nQ 35.15625 65.921875 28.609375 65.921875 \r\nQ 23.96875 65.921875 18.8125 64.3125 \r\nQ 13.671875 62.703125 7.8125 59.421875 \r\nL 7.8125 69.390625 \r\nQ 13.765625 71.78125 18.9375 73 \r\nQ 24.125 74.21875 28.421875 74.21875 \r\nQ 39.75 74.21875 46.484375 68.546875 \r\nQ 53.21875 62.890625 53.21875 53.421875 \r\nQ 53.21875 48.921875 51.53125 44.890625 \r\nQ 49.859375 40.875 45.40625 35.40625 \r\nQ 44.1875 33.984375 37.640625 27.21875 \r\nQ 31.109375 20.453125 19.1875 8.296875 \r\nz\r\n\" id=\"DejaVuSans-50\"/>\r\n        <path d=\"M 31.78125 66.40625 \r\nQ 24.171875 66.40625 20.328125 58.90625 \r\nQ 16.5 51.421875 16.5 36.375 \r\nQ 16.5 21.390625 20.328125 13.890625 \r\nQ 24.171875 6.390625 31.78125 6.390625 \r\nQ 39.453125 6.390625 43.28125 13.890625 \r\nQ 47.125 21.390625 47.125 36.375 \r\nQ 47.125 51.421875 43.28125 58.90625 \r\nQ 39.453125 66.40625 31.78125 66.40625 \r\nz\r\nM 31.78125 74.21875 \r\nQ 44.046875 74.21875 50.515625 64.515625 \r\nQ 56.984375 54.828125 56.984375 36.375 \r\nQ 56.984375 17.96875 50.515625 8.265625 \r\nQ 44.046875 -1.421875 31.78125 -1.421875 \r\nQ 19.53125 -1.421875 13.0625 8.265625 \r\nQ 6.59375 17.96875 6.59375 36.375 \r\nQ 6.59375 54.828125 13.0625 64.515625 \r\nQ 19.53125 74.21875 31.78125 74.21875 \r\nz\r\n\" id=\"DejaVuSans-48\"/>\r\n       </defs>\r\n       <use xlink:href=\"#DejaVuSans-50\"/>\r\n       <use x=\"63.623047\" xlink:href=\"#DejaVuSans-48\"/>\r\n       <use x=\"127.246094\" xlink:href=\"#DejaVuSans-48\"/>\r\n      </g>\r\n     </g>\r\n    </g>\r\n    <g id=\"ytick_2\">\r\n     <g id=\"line2d_16\">\r\n      <g>\r\n       <use style=\"stroke:#000000;stroke-width:0.8;\" x=\"42.828125\" xlink:href=\"#mfb027ff6cf\" y=\"109.186892\"/>\r\n      </g>\r\n     </g>\r\n     <g id=\"text_2\">\r\n      <!-- 300 -->\r\n      <g transform=\"translate(16.740625 112.986111)scale(0.1 -0.1)\">\r\n       <defs>\r\n        <path d=\"M 40.578125 39.3125 \r\nQ 47.65625 37.796875 51.625 33 \r\nQ 55.609375 28.21875 55.609375 21.1875 \r\nQ 55.609375 10.40625 48.1875 4.484375 \r\nQ 40.765625 -1.421875 27.09375 -1.421875 \r\nQ 22.515625 -1.421875 17.65625 -0.515625 \r\nQ 12.796875 0.390625 7.625 2.203125 \r\nL 7.625 11.71875 \r\nQ 11.71875 9.328125 16.59375 8.109375 \r\nQ 21.484375 6.890625 26.8125 6.890625 \r\nQ 36.078125 6.890625 40.9375 10.546875 \r\nQ 45.796875 14.203125 45.796875 21.1875 \r\nQ 45.796875 27.640625 41.28125 31.265625 \r\nQ 36.765625 34.90625 28.71875 34.90625 \r\nL 20.21875 34.90625 \r\nL 20.21875 43.015625 \r\nL 29.109375 43.015625 \r\nQ 36.375 43.015625 40.234375 45.921875 \r\nQ 44.09375 48.828125 44.09375 54.296875 \r\nQ 44.09375 59.90625 40.109375 62.90625 \r\nQ 36.140625 65.921875 28.71875 65.921875 \r\nQ 24.65625 65.921875 20.015625 65.03125 \r\nQ 15.375 64.15625 9.8125 62.3125 \r\nL 9.8125 71.09375 \r\nQ 15.4375 72.65625 20.34375 73.4375 \r\nQ 25.25 74.21875 29.59375 74.21875 \r\nQ 40.828125 74.21875 47.359375 69.109375 \r\nQ 53.90625 64.015625 53.90625 55.328125 \r\nQ 53.90625 49.265625 50.4375 45.09375 \r\nQ 46.96875 40.921875 40.578125 39.3125 \r\nz\r\n\" id=\"DejaVuSans-51\"/>\r\n       </defs>\r\n       <use xlink:href=\"#DejaVuSans-51\"/>\r\n       <use x=\"63.623047\" xlink:href=\"#DejaVuSans-48\"/>\r\n       <use x=\"127.246094\" xlink:href=\"#DejaVuSans-48\"/>\r\n      </g>\r\n     </g>\r\n    </g>\r\n    <g id=\"ytick_3\">\r\n     <g id=\"line2d_17\">\r\n      <g>\r\n       <use style=\"stroke:#000000;stroke-width:0.8;\" x=\"42.828125\" xlink:href=\"#mfb027ff6cf\" y=\"78.192783\"/>\r\n      </g>\r\n     </g>\r\n     <g id=\"text_3\">\r\n      <!-- 400 -->\r\n      <g transform=\"translate(16.740625 81.992001)scale(0.1 -0.1)\">\r\n       <defs>\r\n        <path d=\"M 37.796875 64.3125 \r\nL 12.890625 25.390625 \r\nL 37.796875 25.390625 \r\nz\r\nM 35.203125 72.90625 \r\nL 47.609375 72.90625 \r\nL 47.609375 25.390625 \r\nL 58.015625 25.390625 \r\nL 58.015625 17.1875 \r\nL 47.609375 17.1875 \r\nL 47.609375 0 \r\nL 37.796875 0 \r\nL 37.796875 17.1875 \r\nL 4.890625 17.1875 \r\nL 4.890625 26.703125 \r\nz\r\n\" id=\"DejaVuSans-52\"/>\r\n       </defs>\r\n       <use xlink:href=\"#DejaVuSans-52\"/>\r\n       <use x=\"63.623047\" xlink:href=\"#DejaVuSans-48\"/>\r\n       <use x=\"127.246094\" xlink:href=\"#DejaVuSans-48\"/>\r\n      </g>\r\n     </g>\r\n    </g>\r\n    <g id=\"ytick_4\">\r\n     <g id=\"line2d_18\">\r\n      <g>\r\n       <use style=\"stroke:#000000;stroke-width:0.8;\" x=\"42.828125\" xlink:href=\"#mfb027ff6cf\" y=\"47.198673\"/>\r\n      </g>\r\n     </g>\r\n     <g id=\"text_4\">\r\n      <!-- 500 -->\r\n      <g transform=\"translate(16.740625 50.997892)scale(0.1 -0.1)\">\r\n       <defs>\r\n        <path d=\"M 10.796875 72.90625 \r\nL 49.515625 72.90625 \r\nL 49.515625 64.59375 \r\nL 19.828125 64.59375 \r\nL 19.828125 46.734375 \r\nQ 21.96875 47.46875 24.109375 47.828125 \r\nQ 26.265625 48.1875 28.421875 48.1875 \r\nQ 40.625 48.1875 47.75 41.5 \r\nQ 54.890625 34.8125 54.890625 23.390625 \r\nQ 54.890625 11.625 47.5625 5.09375 \r\nQ 40.234375 -1.421875 26.90625 -1.421875 \r\nQ 22.3125 -1.421875 17.546875 -0.640625 \r\nQ 12.796875 0.140625 7.71875 1.703125 \r\nL 7.71875 11.625 \r\nQ 12.109375 9.234375 16.796875 8.0625 \r\nQ 21.484375 6.890625 26.703125 6.890625 \r\nQ 35.15625 6.890625 40.078125 11.328125 \r\nQ 45.015625 15.765625 45.015625 23.390625 \r\nQ 45.015625 31 40.078125 35.4375 \r\nQ 35.15625 39.890625 26.703125 39.890625 \r\nQ 22.75 39.890625 18.8125 39.015625 \r\nQ 14.890625 38.140625 10.796875 36.28125 \r\nz\r\n\" id=\"DejaVuSans-53\"/>\r\n       </defs>\r\n       <use xlink:href=\"#DejaVuSans-53\"/>\r\n       <use x=\"63.623047\" xlink:href=\"#DejaVuSans-48\"/>\r\n       <use x=\"127.246094\" xlink:href=\"#DejaVuSans-48\"/>\r\n      </g>\r\n     </g>\r\n    </g>\r\n    <g id=\"ytick_5\">\r\n     <g id=\"line2d_19\">\r\n      <g>\r\n       <use style=\"stroke:#000000;stroke-width:0.8;\" x=\"42.828125\" xlink:href=\"#mfb027ff6cf\" y=\"16.204564\"/>\r\n      </g>\r\n     </g>\r\n     <g id=\"text_5\">\r\n      <!-- 600 -->\r\n      <g transform=\"translate(16.740625 20.003782)scale(0.1 -0.1)\">\r\n       <defs>\r\n        <path d=\"M 33.015625 40.375 \r\nQ 26.375 40.375 22.484375 35.828125 \r\nQ 18.609375 31.296875 18.609375 23.390625 \r\nQ 18.609375 15.53125 22.484375 10.953125 \r\nQ 26.375 6.390625 33.015625 6.390625 \r\nQ 39.65625 6.390625 43.53125 10.953125 \r\nQ 47.40625 15.53125 47.40625 23.390625 \r\nQ 47.40625 31.296875 43.53125 35.828125 \r\nQ 39.65625 40.375 33.015625 40.375 \r\nz\r\nM 52.59375 71.296875 \r\nL 52.59375 62.3125 \r\nQ 48.875 64.0625 45.09375 64.984375 \r\nQ 41.3125 65.921875 37.59375 65.921875 \r\nQ 27.828125 65.921875 22.671875 59.328125 \r\nQ 17.53125 52.734375 16.796875 39.40625 \r\nQ 19.671875 43.65625 24.015625 45.921875 \r\nQ 28.375 48.1875 33.59375 48.1875 \r\nQ 44.578125 48.1875 50.953125 41.515625 \r\nQ 57.328125 34.859375 57.328125 23.390625 \r\nQ 57.328125 12.15625 50.6875 5.359375 \r\nQ 44.046875 -1.421875 33.015625 -1.421875 \r\nQ 20.359375 -1.421875 13.671875 8.265625 \r\nQ 6.984375 17.96875 6.984375 36.375 \r\nQ 6.984375 53.65625 15.1875 63.9375 \r\nQ 23.390625 74.21875 37.203125 74.21875 \r\nQ 40.921875 74.21875 44.703125 73.484375 \r\nQ 48.484375 72.75 52.59375 71.296875 \r\nz\r\n\" id=\"DejaVuSans-54\"/>\r\n       </defs>\r\n       <use xlink:href=\"#DejaVuSans-54\"/>\r\n       <use x=\"63.623047\" xlink:href=\"#DejaVuSans-48\"/>\r\n       <use x=\"127.246094\" xlink:href=\"#DejaVuSans-48\"/>\r\n      </g>\r\n     </g>\r\n    </g>\r\n   </g>\r\n   <g id=\"line2d_20\">\r\n    <path clip-path=\"url(#p1606bbfd10)\" d=\"M 80.87358 105.139061 \r\nL 81.291203 105.56678 \r\nL 82.126449 110.194201 \r\nL 82.544072 108.966834 \r\nL 83.79694 109.109407 \r\nL 84.214563 110.755194 \r\nL 84.632186 111.278994 \r\nL 85.049809 110.851276 \r\nL 85.467432 112.376186 \r\nL 87.137924 111.19531 \r\nL 87.555547 112.314198 \r\nL 87.97317 111.914374 \r\nL 88.390793 117.019104 \r\nL 89.643662 118.568809 \r\nL 90.061285 118.19378 \r\nL 90.478908 118.243371 \r\nL 90.896531 119.452141 \r\nL 91.314154 120.124713 \r\nL 92.567023 119.650503 \r\nL 92.984646 119.944947 \r\nL 93.402269 118.441733 \r\nL 93.819892 120.61442 \r\nL 94.237515 119.917053 \r\nL 95.490384 119.579217 \r\nL 95.908007 119.120504 \r\nL 96.32563 119.427346 \r\nL 96.743253 119.126703 \r\nL 97.160876 119.635006 \r\nL 98.831368 118.367347 \r\nL 99.248991 118.847756 \r\nL 99.666614 118.069804 \r\nL 100.084237 118.451031 \r\nL 101.337106 118.134891 \r\nL 101.754729 119.331264 \r\nL 102.172352 119.889158 \r\nL 102.589975 120.67021 \r\nL 103.007598 120.611321 \r\nL 104.260467 119.700094 \r\nL 104.67809 118.40454 \r\nL 105.095713 117.744366 \r\nL 105.930959 114.821621 \r\nL 107.183828 115.088171 \r\nL 107.601451 115.444603 \r\nL 108.019074 112.924782 \r\nL 108.436697 112.19952 \r\nL 108.85432 112.447472 \r\nL 110.107189 114.979691 \r\nL 110.524812 114.666651 \r\nL 111.360058 114.480686 \r\nL 111.777681 115.472497 \r\nL 113.03055 115.859924 \r\nL 113.448173 117.174074 \r\nL 113.865796 115.884719 \r\nL 114.283419 115.026182 \r\nL 115.953911 115.094369 \r\nL 116.371534 114.434195 \r\nL 116.789157 114.369107 \r\nL 118.877272 113.767821 \r\nL 119.294895 114.19864 \r\nL 119.712518 114.923902 \r\nL 120.130141 114.313318 \r\nL 120.547764 114.508581 \r\nL 121.800633 113.501272 \r\nL 122.218256 111.328585 \r\nL 122.635879 110.981451 \r\nL 123.053502 110.008236 \r\nL 123.471125 116.997408 \r\nL 124.723994 117.006706 \r\nL 125.141617 116.241151 \r\nL 125.55924 116.35583 \r\nL 125.976863 117.474717 \r\nL 126.394486 117.797056 \r\nL 127.647355 119.864363 \r\nL 128.064978 120.264187 \r\nL 128.482601 120.242491 \r\nL 128.900224 119.808573 \r\nL 129.317847 120.784888 \r\nL 130.570716 120.025532 \r\nL 130.988339 123.775819 \r\nL 131.405962 123.24892 \r\nL 131.823585 124.965993 \r\nL 132.241208 125.82453 \r\nL 133.494077 121.410969 \r\nL 133.911699 123.360498 \r\nL 134.329322 123.927691 \r\nL 134.746945 123.078452 \r\nL 135.164568 123.596054 \r\nL 136.417437 123.527867 \r\nL 136.83506 125.012484 \r\nL 137.252683 125.623068 \r\nL 137.670306 128.629497 \r\nL 138.087929 129.08821 \r\nL 139.340798 128.29786 \r\nL 139.758421 128.310258 \r\nL 140.176044 128.55821 \r\nL 140.593667 126.239851 \r\nL 141.01129 126.986809 \r\nL 142.681782 127.492013 \r\nL 143.517028 123.893597 \r\nL 143.934651 124.959794 \r\nL 145.18752 127.002306 \r\nL 145.605143 127.116984 \r\nL 146.022766 128.784467 \r\nL 146.440389 126.77295 \r\nL 146.858012 126.540494 \r\nL 148.110881 127.364937 \r\nL 148.528504 125.071373 \r\nL 148.946127 124.566169 \r\nL 149.36375 124.749034 \r\nL 149.781373 124.758333 \r\nL 151.034242 126.531196 \r\nL 151.451865 126.890727 \r\nL 151.869488 127.541604 \r\nL 152.287111 128.617099 \r\nL 152.704734 128.992128 \r\nL 153.957603 129.08511 \r\nL 154.375226 131.843586 \r\nL 154.792849 133.284812 \r\nL 155.210472 134.127852 \r\nL 155.628095 134.583465 \r\nL 157.298587 134.657851 \r\nL 157.71621 132.472767 \r\nL 158.133833 131.487154 \r\nL 158.551456 129.794875 \r\nL 159.804325 128.502421 \r\nL 160.221948 126.432015 \r\nL 161.057194 125.688156 \r\nL 161.474817 131.016043 \r\nL 162.727686 129.996337 \r\nL 163.145309 127.61289 \r\nL 163.562932 128.24517 \r\nL 164.398178 126.301839 \r\nL 165.651047 126.469208 \r\nL 166.06867 125.902015 \r\nL 166.486293 127.185171 \r\nL 166.903916 127.08599 \r\nL 167.321539 127.107686 \r\nL 168.574408 126.24605 \r\nL 168.992031 126.335933 \r\nL 169.409654 123.782018 \r\nL 169.827277 123.506171 \r\nL 170.2449 124.727339 \r\nL 171.497769 123.933889 \r\nL 171.915392 124.188041 \r\nL 172.333015 126.041489 \r\nL 172.750638 125.998097 \r\nL 173.168261 126.87523 \r\nL 174.42113 126.993008 \r\nL 174.838753 126.230553 \r\nL 175.256376 127.526107 \r\nL 175.673999 129.72049 \r\nL 176.091622 130.641015 \r\nL 177.344491 130.324875 \r\nL 177.762114 132.286802 \r\nL 178.179737 131.787797 \r\nL 178.59736 132.351889 \r\nL 179.014983 131.133821 \r\nL 180.685475 132.500661 \r\nL 181.103098 130.901365 \r\nL 181.520721 130.461249 \r\nL 181.938344 129.360958 \r\nL 183.608836 130.272185 \r\nL 184.444081 128.449731 \r\nL 184.861704 128.45593 \r\nL 186.114573 127.50751 \r\nL 186.532196 127.792656 \r\nL 187.367442 127.693475 \r\nL 187.785065 126.286342 \r\nL 189.455557 122.678628 \r\nL 189.87318 122.285003 \r\nL 190.290803 122.675529 \r\nL 190.708426 120.536935 \r\nL 191.961295 120.053427 \r\nL 192.378918 120.555531 \r\nL 192.796541 120.474947 \r\nL 193.214164 120.769391 \r\nL 193.631787 120.794186 \r\nL 194.884656 121.302489 \r\nL 195.302279 118.841557 \r\nL 196.137525 120.115415 \r\nL 196.555148 119.132902 \r\nL 197.808017 118.748575 \r\nL 198.643263 118.057406 \r\nL 199.060886 118.426236 \r\nL 199.478509 109.056717 \r\nL 200.731378 106.536896 \r\nL 201.149001 108.068005 \r\nL 201.566624 108.043209 \r\nL 201.984247 107.423327 \r\nL 202.40187 107.339643 \r\nL 204.072362 106.400522 \r\nL 204.489985 106.729059 \r\nL 204.907608 106.403621 \r\nL 205.325231 107.159877 \r\nL 206.995723 106.865433 \r\nL 207.830969 105.523388 \r\nL 208.248592 105.396312 \r\nL 209.501461 105.135962 \r\nL 210.336707 105.737248 \r\nL 210.75433 106.61748 \r\nL 211.171953 108.771571 \r\nL 212.424822 109.980341 \r\nL 212.842445 111.799696 \r\nL 213.260068 111.82759 \r\nL 213.677691 109.812973 \r\nL 214.095314 110.699405 \r\nL 215.348183 110.640516 \r\nL 215.765806 111.911274 \r\nL 216.183429 110.057827 \r\nL 218.271544 112.050748 \r\nL 218.689167 116.135771 \r\nL 219.524413 113.643845 \r\nL 219.942036 113.46098 \r\nL 221.194905 112.630338 \r\nL 221.612528 111.269696 \r\nL 222.030151 110.745896 \r\nL 224.118266 110.113616 \r\nL 224.535889 110.067125 \r\nL 224.953512 110.783089 \r\nL 225.371135 110.563031 \r\nL 225.788758 110.705603 \r\nL 227.041627 110.045429 \r\nL 227.45925 108.805665 \r\nL 227.876873 108.430636 \r\nL 228.294496 108.625899 \r\nL 229.964988 108.911045 \r\nL 230.382611 109.447243 \r\nL 230.800234 109.124904 \r\nL 231.217857 109.456541 \r\nL 231.63548 110.212797 \r\nL 232.888349 108.607302 \r\nL 233.305972 108.951337 \r\nL 233.723595 107.875841 \r\nL 234.141218 107.190871 \r\nL 234.55884 106.735258 \r\nL 235.811709 107.079293 \r\nL 236.229332 106.800346 \r\nL 236.646955 106.667071 \r\nL 237.064578 106.694966 \r\nL 237.482201 105.535786 \r\nL 239.152693 103.143041 \r\nL 239.570316 104.364209 \r\nL 239.987939 105.135962 \r\nL 240.405562 107.448123 \r\nL 241.658431 107.5659 \r\nL 242.076054 106.195961 \r\nL 242.493677 106.72596 \r\nL 242.9113 106.679469 \r\nL 243.328923 109.128003 \r\nL 244.581792 109.224085 \r\nL 244.999415 107.572099 \r\nL 245.417038 107.423327 \r\nL 245.834661 107.708473 \r\nL 246.252284 107.581397 \r\nL 247.505153 107.066895 \r\nL 247.922776 106.434615 \r\nL 248.340399 106.72596 \r\nL 248.758022 106.735258 \r\nL 249.175645 105.486195 \r\nL 250.428514 104.922103 \r\nL 250.846137 105.541985 \r\nL 251.26376 105.529587 \r\nL 251.681383 105.368418 \r\nL 252.099006 104.624559 \r\nL 253.769498 107.699175 \r\nL 254.187121 107.528707 \r\nL 254.604744 107.913034 \r\nL 256.275236 107.206368 \r\nL 256.692859 109.162097 \r\nL 257.110482 109.158997 \r\nL 257.528105 107.798356 \r\nL 257.945728 109.183793 \r\nL 259.198597 110.572329 \r\nL 259.61622 110.470048 \r\nL 260.033843 110.553732 \r\nL 260.451466 112.329695 \r\nL 260.869089 112.884489 \r\nL 262.121958 113.925891 \r\nL 262.539581 113.990979 \r\nL 262.957204 115.921912 \r\nL 263.374827 115.261738 \r\nL 263.79245 115.308229 \r\nL 265.045319 112.918583 \r\nL 265.462942 112.791507 \r\nL 266.298188 111.309989 \r\nL 266.715811 112.416478 \r\nL 267.96868 113.095249 \r\nL 268.386303 112.109637 \r\nL 268.803926 112.09104 \r\nL 269.639172 110.550633 \r\nL 270.892041 111.186012 \r\nL 271.309664 114.065365 \r\nL 272.14491 112.376186 \r\nL 272.562533 112.661332 \r\nL 273.815402 112.782209 \r\nL 274.233025 113.82981 \r\nL 274.650648 112.952676 \r\nL 275.068271 112.605542 \r\nL 275.485894 120.010035 \r\nL 276.738763 120.605122 \r\nL 277.156386 121.429565 \r\nL 277.574009 120.778689 \r\nL 277.991632 120.874771 \r\nL 279.662124 120.884069 \r\nL 280.079747 119.681498 \r\nL 280.49737 118.915943 \r\nL 280.914993 118.88185 \r\nL 281.332616 117.93343 \r\nL 282.585485 118.791967 \r\nL 283.003108 119.514129 \r\nL 283.420731 119.219685 \r\nL 283.838354 119.455241 \r\nL 285.508845 118.928341 \r\nL 285.926468 118.156587 \r\nL 286.344091 119.272375 \r\nL 286.761714 119.334364 \r\nL 287.179337 120.186702 \r\nL 288.432206 121.909974 \r\nL 288.849829 120.047228 \r\nL 289.267452 120.146409 \r\nL 289.685075 119.923252 \r\nL 290.102698 121.042139 \r\nL 291.355567 121.913073 \r\nL 291.77319 121.934769 \r\nL 292.190813 121.714711 \r\nL 292.608436 121.953366 \r\nL 293.026059 121.525647 \r\nL 294.696551 120.267286 \r\nL 295.114174 120.797285 \r\nL 295.531797 120.416058 \r\nL 295.94942 121.187811 \r\nL 297.202289 121.500852 \r\nL 297.619912 121.813892 \r\nL 298.037535 121.792196 \r\nL 298.455158 122.170325 \r\nL 298.872781 123.289212 \r\nL 300.12565 124.029971 \r\nL 300.543273 123.465878 \r\nL 300.960896 124.305819 \r\nL 301.378519 124.705643 \r\nL 301.796142 127.079791 \r\nL 303.049011 127.147979 \r\nL 303.466634 125.846226 \r\nL 304.719503 128.651193 \r\nL 305.972372 127.411428 \r\nL 306.389995 125.743945 \r\nL 306.807618 125.136461 \r\nL 307.225241 123.77272 \r\nL 307.642864 121.507051 \r\nL 309.730979 119.287872 \r\nL 310.148602 117.546003 \r\nL 310.566225 119.808573 \r\nL 311.819094 120.536935 \r\nL 312.236717 119.495533 \r\nL 312.65434 118.838458 \r\nL 313.071963 120.279684 \r\nL 313.489586 109.648704 \r\nL 314.742455 110.064025 \r\nL 315.160078 108.886249 \r\nL 315.577701 109.998938 \r\nL 316.412947 106.456311 \r\nL 317.665816 106.341633 \r\nL 318.083439 105.793037 \r\nL 318.501062 108.160987 \r\nL 318.918685 107.587596 \r\nL 319.336308 108.709583 \r\nL 320.589177 108.232274 \r\nL 321.0068 110.188002 \r\nL 321.424423 109.100109 \r\nL 321.842046 112.760513 \r\nL 322.259669 112.524958 \r\nL 323.512538 117.635886 \r\nL 323.930161 113.395892 \r\nL 324.347784 117.174074 \r\nL 324.765407 115.14396 \r\nL 325.18303 114.889808 \r\nL 326.435899 115.900216 \r\nL 326.853522 118.72378 \r\nL 327.271145 119.628808 \r\nL 327.688768 124.005176 \r\nL 328.106391 126.168565 \r\nL 329.35926 125.043478 \r\nL 329.776883 121.847986 \r\nL 330.194506 121.156817 \r\nL 330.612129 121.658922 \r\nL 331.029752 120.602023 \r\nL 332.282621 118.711382 \r\nL 332.700244 118.46033 \r\nL 333.117867 118.420037 \r\nL 333.953113 120.915063 \r\nL 335.623604 121.327285 \r\nL 336.041227 119.492433 \r\nL 336.45885 119.349861 \r\nL 336.876473 120.915063 \r\nL 338.129342 120.099918 \r\nL 338.546965 120.189801 \r\nL 338.964588 119.796176 \r\nL 339.382211 118.172084 \r\nL 339.799834 117.533606 \r\nL 341.470326 117.542904 \r\nL 341.887949 118.692785 \r\nL 342.305572 121.56284 \r\nL 342.723195 120.812783 \r\nL 343.976064 119.82407 \r\nL 344.393687 118.67109 \r\nL 344.81131 120.295181 \r\nL 345.228933 120.502841 \r\nL 345.646556 122.433774 \r\nL 346.899425 125.4557 \r\nL 347.317048 124.466988 \r\nL 347.734671 124.033071 \r\nL 348.152294 122.483365 \r\nL 348.569917 122.421377 \r\nL 350.240409 118.076003 \r\nL 350.658032 117.251559 \r\nL 351.075655 115.627468 \r\nL 351.493278 110.569229 \r\nL 352.746147 112.004257 \r\nL 353.16377 110.748995 \r\nL 353.581393 112.267707 \r\nL 353.999016 111.808994 \r\nL 354.416639 110.752095 \r\nL 355.669508 109.834669 \r\nL 356.087131 111.886479 \r\nL 356.504754 111.399871 \r\nL 356.922377 109.484436 \r\nL 357.34 109.258179 \r\nL 358.592869 110.420458 \r\nL 359.010492 112.583846 \r\nL 359.428115 111.629228 \r\nL 359.845738 109.667301 \r\nL 360.263361 109.878061 \r\nL 361.933853 107.370637 \r\nL 362.351476 109.134202 \r\nL 362.769099 110.042329 \r\nL 363.186722 107.98742 \r\nL 364.439591 107.268357 \r\nL 364.857214 106.716662 \r\nL 365.274837 107.503912 \r\nL 365.69246 109.1466 \r\nL 366.110083 110.073324 \r\nL 367.362952 112.230514 \r\nL 367.780575 112.376186 \r\nL 368.198198 113.907295 \r\nL 369.033444 115.007586 \r\nL 370.286313 111.108527 \r\nL 370.703936 111.923672 \r\nL 371.539182 107.14748 \r\nL 371.956805 106.127773 \r\nL 373.209674 105.309529 \r\nL 373.627297 105.600874 \r\nL 374.04492 105.659762 \r\nL 374.462543 106.794147 \r\nL 374.880166 105.033681 \r\nL 376.133035 105.349821 \r\nL 376.550658 105.312628 \r\nL 376.968281 106.481106 \r\nL 377.385904 106.254849 \r\nL 377.803527 105.259938 \r\nL 379.056396 105.901516 \r\nL 379.474019 104.578068 \r\nL 379.891642 105.281634 \r\nL 380.726888 104.150349 \r\nL 382.39738 103.050058 \r\nL 382.815003 103.133742 \r\nL 383.650249 102.172925 \r\nL 385.320741 99.154099 \r\nL 385.738363 98.707784 \r\nL 387.826478 105.802335 \r\nL 388.244101 105.696955 \r\nL 389.079347 104.689647 \r\nL 389.49697 105.41181 \r\nL 391.167462 104.853916 \r\nL 391.585085 104.184443 \r\nL 392.002708 103.152339 \r\nL 392.420331 111.449462 \r\nL 393.6732 111.520749 \r\nL 394.090823 112.233613 \r\nL 394.508446 114.003377 \r\nL 394.926069 114.217236 \r\nL 395.343692 112.379285 \r\nL 396.596561 112.732618 \r\nL 397.014184 112.360689 \r\nL 397.431807 112.24911 \r\nL 397.84943 111.585836 \r\nL 398.267053 109.847067 \r\nL 399.519922 107.872742 \r\nL 399.937545 108.232274 \r\nL 400.355168 107.754964 \r\nL 400.772791 107.507011 \r\nL 401.190414 108.365548 \r\nL 402.443283 107.392333 \r\nL 402.860906 107.767362 \r\nL 403.278529 108.418238 \r\nL 403.696152 108.269466 \r\nL 404.113775 108.560811 \r\nL 405.784267 107.113386 \r\nL 406.20189 108.049408 \r\nL 406.619513 108.334554 \r\nL 407.037136 107.745666 \r\nL 408.290005 107.838648 \r\nL 408.707628 106.431516 \r\nL 409.125251 106.453212 \r\nL 409.542874 105.811634 \r\nL 409.960497 105.991399 \r\nL 411.213366 107.073094 \r\nL 411.630989 108.51122 \r\nL 412.048612 108.226075 \r\nL 412.466235 108.173385 \r\nL 412.883858 109.242681 \r\nL 414.136727 108.483326 \r\nL 414.55435 106.527597 \r\nL 414.971973 106.803445 \r\nL 415.807219 105.402511 \r\nL 417.060088 104.020174 \r\nL 417.477711 104.09456 \r\nL 418.312957 102.151229 \r\nL 418.73058 102.687427 \r\nL 419.983449 101.642926 \r\nL 420.401072 101.999358 \r\nL 420.818695 100.648015 \r\nL 421.653941 102.895088 \r\nL 422.90681 102.014855 \r\nL 423.324433 102.681228 \r\nL 423.742056 103.837309 \r\nL 424.159679 104.277425 \r\nL 425.830171 104.506782 \r\nL 426.247794 105.120465 \r\nL 426.665417 103.713332 \r\nL 427.08304 101.382575 \r\nL 427.500663 105.470698 \r\nL 428.753532 108.340753 \r\nL 429.171155 107.798356 \r\nL 429.588778 108.126894 \r\nL 430.006401 109.388354 \r\nL 430.424024 109.890458 \r\nL 431.676893 109.651804 \r\nL 432.094516 109.084612 \r\nL 432.512139 107.773561 \r\nL 432.929762 106.88403 \r\nL 433.347385 106.961515 \r\nL 434.600254 108.529817 \r\nL 435.017877 108.594905 \r\nL 435.853123 107.575198 \r\nL 436.270745 109.747885 \r\nL 437.523614 108.111396 \r\nL 437.941237 107.299351 \r\nL 438.35886 107.863444 \r\nL 438.776483 107.166076 \r\nL 439.194106 108.470928 \r\nL 440.446975 108.659992 \r\nL 440.864598 107.559701 \r\nL 441.282221 104.801226 \r\nL 441.699844 105.712452 \r\nL 442.117467 109.217886 \r\nL 443.370336 107.09479 \r\nL 443.787959 109.155898 \r\nL 444.205582 107.813853 \r\nL 444.623205 108.712682 \r\nL 445.040828 110.590925 \r\nL 446.71132 110.157008 \r\nL 447.546566 112.242911 \r\nL 447.964189 113.77402 \r\nL 449.217058 112.593145 \r\nL 449.634681 113.860804 \r\nL 450.052304 112.289402 \r\nL 450.469927 112.648934 \r\nL 450.88755 112.307999 \r\nL 452.975665 115.305129 \r\nL 453.393288 115.61817 \r\nL 453.810911 114.77513 \r\nL 455.06378 113.792617 \r\nL 455.481403 112.140631 \r\nL 455.899026 112.760513 \r\nL 456.316649 114.666651 \r\nL 456.734272 113.696535 \r\nL 457.987141 115.364018 \r\nL 458.822387 114.034371 \r\nL 459.24001 114.806124 \r\nL 459.657633 112.366888 \r\nL 460.910502 112.304899 \r\nL 461.328125 111.164316 \r\nL 462.163371 109.912154 \r\nL 462.580994 111.449462 \r\nL 463.833863 111.446363 \r\nL 464.251486 112.112736 \r\nL 464.669109 113.739927 \r\nL 465.086732 113.851506 \r\nL 465.504355 112.915483 \r\nL 466.757224 113.163436 \r\nL 467.174847 112.88139 \r\nL 467.59247 112.258408 \r\nL 468.010093 110.35537 \r\nL 468.427716 107.606192 \r\nL 469.680585 106.877831 \r\nL 470.098208 108.108297 \r\nL 470.515831 108.043209 \r\nL 470.933454 107.212567 \r\nL 471.351077 103.868303 \r\nL 472.603946 104.280525 \r\nL 473.021569 104.175145 \r\nL 473.439192 104.221636 \r\nL 473.856815 104.82912 \r\nL 474.274438 102.88269 \r\nL 475.527307 102.650234 \r\nL 475.94493 103.003567 \r\nL 476.362553 102.743217 \r\nL 477.197799 102.77731 \r\nL 478.450668 99.99094 \r\nL 478.868291 98.648895 \r\nL 479.285914 98.822462 \r\nL 480.12116 97.337844 \r\nL 481.374029 97.585797 \r\nL 481.791652 98.51872 \r\nL 482.209275 97.331645 \r\nL 482.626898 97.390534 \r\nL 483.044521 97.105388 \r\nL 484.29739 98.562111 \r\nL 484.715013 97.319248 \r\nL 485.132636 95.654864 \r\nL 485.550259 96.634278 \r\nL 485.967882 96.107378 \r\nL 488.055996 96.783049 \r\nL 488.473619 93.891299 \r\nL 488.891242 92.846798 \r\nL 490.144111 93.680539 \r\nL 490.561734 95.007087 \r\nL 490.979357 95.208549 \r\nL 491.39698 92.862295 \r\nL 491.814603 92.298202 \r\nL 493.067472 92.251711 \r\nL 493.902718 89.539726 \r\nL 494.320341 89.446744 \r\nL 494.737964 88.535517 \r\nL 495.990833 86.15207 \r\nL 496.408456 86.186163 \r\nL 497.243702 85.051779 \r\nL 497.661325 85.36172 \r\nL 498.914194 84.233535 \r\nL 499.331817 84.974294 \r\nL 500.167063 83.263419 \r\nL 500.584686 83.325407 \r\nL 501.837555 84.844118 \r\nL 502.255178 86.973414 \r\nL 502.672801 86.899028 \r\nL 503.090424 85.829731 \r\nL 503.508047 86.871133 \r\nL 504.760916 87.453823 \r\nL 505.178539 86.877332 \r\nL 505.596162 85.20675 \r\nL 506.013785 94.573169 \r\nL 506.431408 96.618781 \r\nL 507.684277 97.099189 \r\nL 508.1019 96.841938 \r\nL 508.519523 97.313049 \r\nL 508.937146 97.241762 \r\nL 509.354769 97.644686 \r\nL 511.442884 96.848137 \r\nL 511.860507 95.719952 \r\nL 512.27813 95.667262 \r\nL 513.948622 96.628079 \r\nL 514.783868 101.184213 \r\nL 515.201491 99.522929 \r\nL 516.45436 99.076614 \r\nL 517.707229 101.962165 \r\nL 518.124852 101.974563 \r\nL 519.377721 98.720181 \r\nL 519.795344 98.447433 \r\nL 520.212967 99.082812 \r\nL 521.048213 98.757374 \r\nL 522.301082 99.814273 \r\nL 522.718705 98.332755 \r\nL 523.136328 96.327436 \r\nL 523.971574 94.049369 \r\nL 525.224443 94.532877 \r\nL 526.059689 95.682759 \r\nL 526.477312 95.171356 \r\nL 526.894935 96.243752 \r\nL 528.147804 96.054688 \r\nL 528.565427 94.281825 \r\nL 528.98305 94.176445 \r\nL 529.400673 93.379896 \r\nL 529.818296 93.494574 \r\nL 531.071165 90.581128 \r\nL 531.488788 90.537736 \r\nL 531.906411 90.686508 \r\nL 532.324034 90.336275 \r\nL 532.741657 91.377677 \r\nL 533.994526 92.326097 \r\nL 534.829772 92.425278 \r\nL 535.247395 92.825102 \r\nL 535.665018 93.798317 \r\nL 536.917887 92.654634 \r\nL 537.753132 90.199901 \r\nL 538.170755 90.134813 \r\nL 538.588378 87.918734 \r\nL 540.25887 88.643996 \r\nL 541.094116 87.376337 \r\nL 541.511739 87.608793 \r\nL 542.764608 90.199901 \r\nL 543.182231 89.93955 \r\nL 543.599854 91.445864 \r\nL 544.017477 92.04715 \r\nL 544.4351 93.100949 \r\nL 546.105592 93.355101 \r\nL 546.523215 87.373238 \r\nL 546.940838 85.464001 \r\nL 547.358461 85.488796 \r\nL 548.61133 85.944409 \r\nL 549.028953 85.488796 \r\nL 549.446576 85.464001 \r\nL 549.864199 85.175755 \r\nL 550.281822 82.09804 \r\nL 551.534691 84.661253 \r\nL 551.952314 83.619851 \r\nL 552.78756 82.349093 \r\nL 553.205183 80.582428 \r\nL 554.875675 81.304591 \r\nL 555.293298 80.969855 \r\nL 556.128544 79.41705 \r\nL 557.799036 77.25676 \r\nL 558.216659 79.485237 \r\nL 558.634282 79.007928 \r\nL 559.051905 78.360151 \r\nL 560.304774 79.745587 \r\nL 560.722397 79.844769 \r\nL 561.14002 78.350853 \r\nL 561.557643 78.130794 \r\nL 563.228135 74.987992 \r\nL 563.645758 72.341095 \r\nL 564.063381 73.459982 \r\nL 564.481004 73.270918 \r\nL 564.898627 73.438286 \r\nL 566.151496 72.926883 \r\nL 566.569119 74.042671 \r\nL 566.986742 74.399104 \r\nL 567.404365 74.981793 \r\nL 567.821988 76.10378 \r\nL 569.074857 77.111088 \r\nL 569.910103 76.038692 \r\nL 570.327726 76.57489 \r\nL 570.745349 76.720562 \r\nL 571.998218 76.822843 \r\nL 572.415841 76.395124 \r\nL 573.251087 79.215588 \r\nL 574.921579 78.133894 \r\nL 575.339202 76.299043 \r\nL 575.756825 77.355942 \r\nL 576.592071 80.94196 \r\nL 577.84494 82.209619 \r\nL 578.262563 81.775702 \r\nL 578.680186 79.83857 \r\nL 579.515432 79.857166 \r\nL 580.768301 81.115527 \r\nL 581.185924 79.342664 \r\nL 581.603547 81.016346 \r\nL 582.02117 83.595056 \r\nL 582.438793 78.335356 \r\nL 583.691662 78.298163 \r\nL 584.109285 77.092492 \r\nL 584.526908 76.233955 \r\nL 584.944531 76.906527 \r\nL 585.362154 78.096701 \r\nL 587.032646 74.513782 \r\nL 587.450268 75.15536 \r\nL 587.867891 73.73273 \r\nL 588.285514 71.237704 \r\nL 589.538383 68.78917 \r\nL 589.956006 69.455543 \r\nL 590.373629 66.917126 \r\nL 590.791252 67.251862 \r\nL 591.208875 65.897419 \r\nL 592.461744 66.31274 \r\nL 592.879367 64.831222 \r\nL 593.29699 60.374269 \r\nL 593.714613 62.237015 \r\nL 594.132236 61.412572 \r\nL 595.385105 61.514852 \r\nL 595.802728 61.756606 \r\nL 596.220351 64.47169 \r\nL 596.637974 65.500695 \r\nL 597.055597 66.966716 \r\nL 598.726089 65.73625 \r\nL 599.143712 67.741569 \r\nL 599.561335 67.363441 \r\nL 599.978958 67.292154 \r\nL 601.231827 67.846949 \r\nL 601.64945 69.167298 \r\nL 602.067073 69.074316 \r\nL 602.484696 68.308761 \r\nL 602.902319 65.971805 \r\nL 604.155188 64.350813 \r\nL 604.990434 67.174377 \r\nL 605.408057 66.396425 \r\nL 605.82568 66.700167 \r\nL 607.078549 64.964497 \r\nL 607.496172 62.73912 \r\nL 607.913795 62.729821 \r\nL 608.331418 65.196952 \r\nL 610.419533 68.067007 \r\nL 610.837156 66.914026 \r\nL 611.672402 65.875723 \r\nL 612.925271 64.710345 \r\nL 613.342894 65.575081 \r\nL 614.595763 63.84251 \r\nL 615.848632 62.047951 \r\nL 616.683878 61.908477 \r\nL 617.101501 59.701697 \r\nL 617.519124 59.273978 \r\nL 618.771993 59.013628 \r\nL 619.189616 59.800878 \r\nL 619.607239 59.962047 \r\nL 620.024862 61.183215 \r\nL 620.442485 63.362101 \r\nL 621.695354 61.180116 \r\nL 622.112977 62.246313 \r\nL 622.5306 62.385787 \r\nL 622.948223 64.73824 \r\nL 623.365846 65.10397 \r\nL 624.618715 65.581279 \r\nL 625.036338 64.242334 \r\nL 625.453961 64.732041 \r\nL 625.871584 62.181226 \r\nL 626.289207 61.818595 \r\nL 627.542076 62.060349 \r\nL 627.959699 63.365201 \r\nL 628.377322 64.282626 \r\nL 628.794945 63.972685 \r\nL 629.212568 64.319819 \r\nL 630.465437 65.079175 \r\nL 630.88306 65.739349 \r\nL 631.718306 69.080514 \r\nL 632.135929 69.505134 \r\nL 633.388798 68.153791 \r\nL 633.806421 68.187884 \r\nL 634.641667 66.904728 \r\nL 635.05929 67.447125 \r\nL 636.312159 68.039112 \r\nL 636.729782 70.552735 \r\nL 637.147405 70.800687 \r\nL 637.565028 69.73449 \r\nL 637.98265 71.054839 \r\nL 639.653142 68.968936 \r\nL 640.070765 67.227067 \r\nL 640.488388 65.9997 \r\nL 640.906011 65.996601 \r\nL 642.15888 64.68555 \r\nL 642.576503 64.589468 \r\nL 642.994126 63.424089 \r\nL 643.829372 64.52748 \r\nL 645.082241 64.728941 \r\nL 645.499864 64.986193 \r\nL 645.917487 62.320699 \r\nL 646.33511 63.083154 \r\nL 646.752733 62.354793 \r\nL 648.005602 64.924204 \r\nL 648.423225 64.871514 \r\nL 648.840848 66.359232 \r\nL 649.258471 66.213559 \r\nL 649.676094 66.489407 \r\nL 650.928963 66.563793 \r\nL 651.346586 64.846719 \r\nL 651.764209 64.694848 \r\nL 652.181832 66.535898 \r\nL 652.599455 67.115488 \r\nL 653.852324 68.138293 \r\nL 654.269947 70.007238 \r\nL 654.68757 69.669402 \r\nL 655.105193 67.750867 \r\nL 655.522816 67.171277 \r\nL 656.775685 66.532799 \r\nL 657.193308 65.621572 \r\nL 657.610931 63.142043 \r\nL 658.028554 64.570871 \r\nL 658.446177 45.586979 \r\nL 659.699046 46.842241 \r\nL 660.116669 46.26885 \r\nL 660.534292 42.490668 \r\nL 660.951915 43.398795 \r\nL 661.369538 45.001191 \r\nL 662.622407 45.032185 \r\nL 663.04003 41.74371 \r\nL 663.457653 42.645638 \r\nL 663.875276 42.620843 \r\nL 664.292899 43.166339 \r\nL 665.545768 43.312012 \r\nL 665.963391 44.021777 \r\nL 666.381014 43.832713 \r\nL 666.798637 46.123178 \r\nL 667.21626 44.871016 \r\nL 668.469129 45.714055 \r\nL 668.886752 45.53119 \r\nL 669.304375 42.326399 \r\nL 669.721998 41.89868 \r\nL 670.139621 42.159031 \r\nL 671.39249 42.468972 \r\nL 671.810113 43.451485 \r\nL 672.227736 43.9009 \r\nL 672.645359 42.078446 \r\nL 673.062982 42.416282 \r\nL 674.315851 40.243595 \r\nL 674.733474 38.309563 \r\nL 675.151097 37.5843 \r\nL 677.656835 39.109211 \r\nL 678.074458 38.346755 \r\nL 678.492081 38.476931 \r\nL 678.909704 36.536699 \r\nL 680.162573 35.256643 \r\nL 680.580196 34.246235 \r\nL 681.833065 37.943832 \r\nL 683.085934 36.056291 \r\nL 683.503557 36.536699 \r\nL 683.92118 34.233837 \r\nL 684.338803 34.004481 \r\nL 684.756426 31.776004 \r\nL 686.009295 29.53513 \r\nL 686.426918 30.040334 \r\nL 687.262164 29.1694 \r\nL 687.679787 29.023727 \r\nL 688.932655 30.406065 \r\nL 689.350278 28.667295 \r\nL 690.185524 29.841972 \r\nL 690.603147 31.097233 \r\nL 691.856016 29.191096 \r\nL 692.273639 25.856129 \r\nL 692.691262 25.490399 \r\nL 693.108885 27.191975 \r\nL 693.526508 27.201274 \r\nL 694.779377 28.313962 \r\nL 695.197 24.22274 \r\nL 695.614623 24.343617 \r\nL 696.032246 23.16894 \r\nL 696.449869 24.049173 \r\nL 698.120361 22.00976 \r\nL 698.537984 21.805199 \r\nL 698.955607 22.567654 \r\nL 699.37323 28.183787 \r\nL 700.626099 31.683022 \r\nL 701.043722 28.310863 \r\nL 701.461345 30.79969 \r\nL 701.878968 26.392327 \r\nL 702.296591 19.338068 \r\nL 703.54946 26.69607 \r\nL 704.384706 25.183557 \r\nL 705.219952 19.883564 \r\nL 706.472821 20.580932 \r\nL 706.890444 17.912339 \r\nL 707.308067 18.451637 \r\nL 707.72569 16.406025 \r\nL 708.143313 15.956611 \r\nL 709.813805 14.707548 \r\nL 710.231428 16.027897 \r\nL 710.649051 15.755149 \r\nL 711.066674 15.80474 \r\nL 712.319543 14.453396 \r\nL 712.737166 13.294217 \r\nL 713.154789 13.269421 \r\nL 713.572412 13.415094 \r\nL 713.990035 13.966789 \r\nL 715.242904 15.975207 \r\nL 715.660527 14.081467 \r\nL 716.07815 13.563866 \r\nL 716.495773 13.353106 \r\nL 716.913396 14.100064 \r\nL 718.166265 14.599069 \r\nL 718.583888 16.390528 \r\nL 719.001511 15.259243 \r\nL 719.836757 20.602628 \r\nL 721.089626 17.614796 \r\nL 721.507249 14.648659 \r\nL 721.924872 16.505207 \r\nL 722.342495 16.830645 \r\nL 722.760118 19.015729 \r\nL 724.012987 22.902391 \r\nL 724.43061 22.781514 \r\nL 724.848233 26.922327 \r\nL 725.265856 29.662206 \r\nL 725.683479 28.754079 \r\nL 726.936348 29.625013 \r\nL 727.353971 26.469813 \r\nL 727.771594 26.438819 \r\nL 728.189217 25.583381 \r\nL 728.60684 33.827814 \r\nL 729.859709 35.37442 \r\nL 730.277332 30.182907 \r\nL 730.694955 27.319051 \r\nL 731.112578 34.506585 \r\nL 731.530201 37.714476 \r\nL 732.78307 37.119389 \r\nL 733.200693 35.90442 \r\nL 733.618316 29.674604 \r\nL 734.035939 36.0098 \r\nL 735.706431 38.328159 \r\nL 736.124054 36.409624 \r\nL 736.541677 38.84886 \r\nL 736.9593 39.400555 \r\nL 737.376923 42.183826 \r\nL 738.629792 41.883183 \r\nL 739.047414 38.613305 \r\nL 739.465037 38.935644 \r\nL 739.88266 37.48202 \r\nL 740.300283 38.542018 \r\nL 741.553152 38.579211 \r\nL 741.970775 42.506165 \r\nL 742.388398 44.11166 \r\nL 742.806021 43.789321 \r\nL 743.223644 41.393476 \r\nL 744.894136 36.942722 \r\nL 745.729382 41.00605 \r\nL 746.147005 40.804588 \r\nL 747.399874 38.253773 \r\nL 747.817497 37.971727 \r\nL 748.23512 35.129567 \r\nL 749.070366 30.864777 \r\nL 750.740858 26.758058 \r\nL 751.158481 28.081506 \r\nL 751.576104 28.577412 \r\nL 751.993727 28.636301 \r\nL 753.246596 30.48355 \r\nL 753.664219 33.26992 \r\nL 754.081842 33.356704 \r\nL 754.499465 30.492848 \r\nL 754.917088 29.739691 \r\nL 756.169957 27.945132 \r\nL 757.005203 28.961739 \r\nL 757.422826 31.283198 \r\nL 757.840449 31.156122 \r\nL 759.093318 33.474481 \r\nL 759.510941 33.868107 \r\nL 759.928564 30.657117 \r\nL 760.76381 29.730393 \r\nL 762.016679 27.067999 \r\nL 762.434302 27.17028 \r\nL 762.851925 22.821806 \r\nL 763.269548 23.64315 \r\nL 763.687171 23.258823 \r\nL 764.94004 23.866308 \r\nL 765.357663 21.575843 \r\nL 765.775286 21.678123 \r\nL 766.192909 20.937364 \r\nL 767.863401 21.706018 \r\nL 768.281024 25.164961 \r\nL 768.698647 23.618355 \r\nL 769.11627 25.161861 \r\nL 769.533893 22.657537 \r\nL 770.786762 20.893972 \r\nL 771.204385 20.921867 \r\nL 771.622008 21.578942 \r\nL 772.039631 24.346716 \r\nL 772.457254 17.729474 \r\nL 773.710123 19.468243 \r\nL 774.127746 17.834854 \r\nL 774.545369 17.450527 \r\nL 774.962992 18.265672 \r\nL 775.380615 19.607717 \r\nL 776.633484 19.11801 \r\nL 777.051107 20.664616 \r\nL 777.46873 20.103623 \r\nL 777.886353 25.006891 \r\nL 778.303976 26.720865 \r\nL 779.556845 24.526482 \r\nL 779.974468 27.030806 \r\nL 780.392091 26.627883 \r\nL 780.809714 27.560805 \r\nL 781.227337 25.884024 \r\nL 782.480206 26.159872 \r\nL 782.897829 27.756068 \r\nL 783.315452 24.021278 \r\nL 783.733075 24.06157 \r\nL 784.150698 24.424201 \r\nL 785.403567 21.733913 \r\nL 785.82119 20.27719 \r\nL 786.238813 21.01175 \r\nL 787.074059 21.609936 \r\nL 788.326928 22.341397 \r\nL 788.744551 23.066659 \r\nL 789.162173 25.192855 \r\nL 789.579796 25.750749 \r\nL 789.997419 25.006891 \r\nL 791.667911 23.230928 \r\nL 792.085534 23.041864 \r\nL 792.92078 20.518944 \r\nL 794.173649 19.390758 \r\nL 794.591272 22.090345 \r\nL 795.008895 21.442568 \r\nL 795.426518 21.984965 \r\nL 795.844141 23.760928 \r\nL 797.09701 24.541979 \r\nL 797.514633 22.418883 \r\nL 798.349879 19.530232 \r\nL 798.767502 17.419533 \r\nL 800.020371 20.11912 \r\nL 800.437994 22.053152 \r\nL 800.855617 19.926956 \r\nL 801.27324 23.934495 \r\nL 801.690863 23.302215 \r\nL 802.943732 23.531571 \r\nL 803.361355 23.22163 \r\nL 803.778978 26.038995 \r\nL 804.196601 25.478001 \r\nL 804.614224 23.866308 \r\nL 805.867093 23.224729 \r\nL 806.284716 27.443028 \r\nL 806.702339 24.727944 \r\nL 807.119962 28.329459 \r\nL 807.537585 33.409394 \r\nL 808.790454 36.905529 \r\nL 809.208077 35.439508 \r\nL 809.6257 37.891142 \r\nL 810.043323 39.602017 \r\nL 810.460946 43.736631 \r\nL 811.713815 40.739501 \r\nL 812.549061 37.0605 \r\nL 812.966684 33.567464 \r\nL 813.384307 34.869216 \r\nL 814.637176 34.562375 \r\nL 815.054799 32.042554 \r\nL 815.472422 31.909279 \r\nL 815.890045 31.605537 \r\nL 816.307668 28.887353 \r\nL 817.97816 30.42776 \r\nL 818.395783 32.966178 \r\nL 818.813406 34.16875 \r\nL 819.231029 34.487989 \r\nL 820.901521 31.611735 \r\nL 821.319144 32.53536 \r\nL 821.736767 33.133546 \r\nL 822.15439 33.437289 \r\nL 823.407259 35.882724 \r\nL 823.824882 36.341437 \r\nL 824.242505 35.733952 \r\nL 824.660128 36.403425 \r\nL 825.077751 35.575882 \r\nL 826.33062 35.027286 \r\nL 826.748243 34.466293 \r\nL 827.165866 34.686351 \r\nL 828.001112 34.233837 \r\nL 829.253981 36.722664 \r\nL 829.671604 36.738161 \r\nL 830.089227 37.491318 \r\nL 830.50685 35.634771 \r\nL 830.924473 39.369561 \r\nL 832.177342 38.836462 \r\nL 832.594965 36.855939 \r\nL 833.012588 39.121608 \r\nL 833.430211 38.414943 \r\nL 833.847834 41.415172 \r\nL 835.100703 42.921486 \r\nL 835.518326 48.627502 \r\nL 835.935949 45.683061 \r\nL 836.771195 42.131136 \r\nL 838.024064 39.490438 \r\nL 838.441687 37.717575 \r\nL 838.85931 38.281668 \r\nL 839.694555 36.651378 \r\nL 840.947424 37.79816 \r\nL 841.365047 37.770265 \r\nL 841.78267 39.016228 \r\nL 841.78267 39.016228 \r\n\" style=\"fill:none;stroke:#1f77b4;stroke-linecap:square;stroke-width:1.5;\"/>\r\n   </g>\r\n   <g id=\"patch_3\">\r\n    <path d=\"M 42.828125 140.727273 \r\nL 42.828125 7.2 \r\n\" style=\"fill:none;stroke:#000000;stroke-linecap:square;stroke-linejoin:miter;stroke-width:0.8;\"/>\r\n   </g>\r\n   <g id=\"patch_4\">\r\n    <path d=\"M 879.828125 140.727273 \r\nL 879.828125 7.2 \r\n\" style=\"fill:none;stroke:#000000;stroke-linecap:square;stroke-linejoin:miter;stroke-width:0.8;\"/>\r\n   </g>\r\n   <g id=\"patch_5\">\r\n    <path d=\"M 42.828125 140.727273 \r\nL 879.828125 140.727273 \r\n\" style=\"fill:none;stroke:#000000;stroke-linecap:square;stroke-linejoin:miter;stroke-width:0.8;\"/>\r\n   </g>\r\n   <g id=\"patch_6\">\r\n    <path d=\"M 42.828125 7.2 \r\nL 879.828125 7.2 \r\n\" style=\"fill:none;stroke:#000000;stroke-linecap:square;stroke-linejoin:miter;stroke-width:0.8;\"/>\r\n   </g>\r\n   <g id=\"legend_1\">\r\n    <g id=\"patch_7\">\r\n     <path d=\"M 49.828125 29.878125 \r\nL 109.070313 29.878125 \r\nQ 111.070313 29.878125 111.070313 27.878125 \r\nL 111.070313 14.2 \r\nQ 111.070313 12.2 109.070313 12.2 \r\nL 49.828125 12.2 \r\nQ 47.828125 12.2 47.828125 14.2 \r\nL 47.828125 27.878125 \r\nQ 47.828125 29.878125 49.828125 29.878125 \r\nz\r\n\" style=\"fill:#ffffff;opacity:0.8;stroke:#cccccc;stroke-linejoin:miter;\"/>\r\n    </g>\r\n    <g id=\"line2d_21\">\r\n     <path d=\"M 51.828125 20.298437 \r\nL 71.828125 20.298437 \r\n\" style=\"fill:none;stroke:#1f77b4;stroke-linecap:square;stroke-width:1.5;\"/>\r\n    </g>\r\n    <g id=\"line2d_22\"/>\r\n    <g id=\"text_6\">\r\n     <!-- Close -->\r\n     <g transform=\"translate(79.828125 23.798437)scale(0.1 -0.1)\">\r\n      <defs>\r\n       <path d=\"M 64.40625 67.28125 \r\nL 64.40625 56.890625 \r\nQ 59.421875 61.53125 53.78125 63.8125 \r\nQ 48.140625 66.109375 41.796875 66.109375 \r\nQ 29.296875 66.109375 22.65625 58.46875 \r\nQ 16.015625 50.828125 16.015625 36.375 \r\nQ 16.015625 21.96875 22.65625 14.328125 \r\nQ 29.296875 6.6875 41.796875 6.6875 \r\nQ 48.140625 6.6875 53.78125 8.984375 \r\nQ 59.421875 11.28125 64.40625 15.921875 \r\nL 64.40625 5.609375 \r\nQ 59.234375 2.09375 53.4375 0.328125 \r\nQ 47.65625 -1.421875 41.21875 -1.421875 \r\nQ 24.65625 -1.421875 15.125 8.703125 \r\nQ 5.609375 18.84375 5.609375 36.375 \r\nQ 5.609375 53.953125 15.125 64.078125 \r\nQ 24.65625 74.21875 41.21875 74.21875 \r\nQ 47.75 74.21875 53.53125 72.484375 \r\nQ 59.328125 70.75 64.40625 67.28125 \r\nz\r\n\" id=\"DejaVuSans-67\"/>\r\n       <path d=\"M 9.421875 75.984375 \r\nL 18.40625 75.984375 \r\nL 18.40625 0 \r\nL 9.421875 0 \r\nz\r\n\" id=\"DejaVuSans-108\"/>\r\n       <path d=\"M 30.609375 48.390625 \r\nQ 23.390625 48.390625 19.1875 42.75 \r\nQ 14.984375 37.109375 14.984375 27.296875 \r\nQ 14.984375 17.484375 19.15625 11.84375 \r\nQ 23.34375 6.203125 30.609375 6.203125 \r\nQ 37.796875 6.203125 41.984375 11.859375 \r\nQ 46.1875 17.53125 46.1875 27.296875 \r\nQ 46.1875 37.015625 41.984375 42.703125 \r\nQ 37.796875 48.390625 30.609375 48.390625 \r\nz\r\nM 30.609375 56 \r\nQ 42.328125 56 49.015625 48.375 \r\nQ 55.71875 40.765625 55.71875 27.296875 \r\nQ 55.71875 13.875 49.015625 6.21875 \r\nQ 42.328125 -1.421875 30.609375 -1.421875 \r\nQ 18.84375 -1.421875 12.171875 6.21875 \r\nQ 5.515625 13.875 5.515625 27.296875 \r\nQ 5.515625 40.765625 12.171875 48.375 \r\nQ 18.84375 56 30.609375 56 \r\nz\r\n\" id=\"DejaVuSans-111\"/>\r\n       <path d=\"M 44.28125 53.078125 \r\nL 44.28125 44.578125 \r\nQ 40.484375 46.53125 36.375 47.5 \r\nQ 32.28125 48.484375 27.875 48.484375 \r\nQ 21.1875 48.484375 17.84375 46.4375 \r\nQ 14.5 44.390625 14.5 40.28125 \r\nQ 14.5 37.15625 16.890625 35.375 \r\nQ 19.28125 33.59375 26.515625 31.984375 \r\nL 29.59375 31.296875 \r\nQ 39.15625 29.25 43.1875 25.515625 \r\nQ 47.21875 21.78125 47.21875 15.09375 \r\nQ 47.21875 7.46875 41.1875 3.015625 \r\nQ 35.15625 -1.421875 24.609375 -1.421875 \r\nQ 20.21875 -1.421875 15.453125 -0.5625 \r\nQ 10.6875 0.296875 5.421875 2 \r\nL 5.421875 11.28125 \r\nQ 10.40625 8.6875 15.234375 7.390625 \r\nQ 20.0625 6.109375 24.8125 6.109375 \r\nQ 31.15625 6.109375 34.5625 8.28125 \r\nQ 37.984375 10.453125 37.984375 14.40625 \r\nQ 37.984375 18.0625 35.515625 20.015625 \r\nQ 33.0625 21.96875 24.703125 23.78125 \r\nL 21.578125 24.515625 \r\nQ 13.234375 26.265625 9.515625 29.90625 \r\nQ 5.8125 33.546875 5.8125 39.890625 \r\nQ 5.8125 47.609375 11.28125 51.796875 \r\nQ 16.75 56 26.8125 56 \r\nQ 31.78125 56 36.171875 55.265625 \r\nQ 40.578125 54.546875 44.28125 53.078125 \r\nz\r\n\" id=\"DejaVuSans-115\"/>\r\n       <path d=\"M 56.203125 29.59375 \r\nL 56.203125 25.203125 \r\nL 14.890625 25.203125 \r\nQ 15.484375 15.921875 20.484375 11.0625 \r\nQ 25.484375 6.203125 34.421875 6.203125 \r\nQ 39.59375 6.203125 44.453125 7.46875 \r\nQ 49.3125 8.734375 54.109375 11.28125 \r\nL 54.109375 2.78125 \r\nQ 49.265625 0.734375 44.1875 -0.34375 \r\nQ 39.109375 -1.421875 33.890625 -1.421875 \r\nQ 20.796875 -1.421875 13.15625 6.1875 \r\nQ 5.515625 13.8125 5.515625 26.8125 \r\nQ 5.515625 40.234375 12.765625 48.109375 \r\nQ 20.015625 56 32.328125 56 \r\nQ 43.359375 56 49.78125 48.890625 \r\nQ 56.203125 41.796875 56.203125 29.59375 \r\nz\r\nM 47.21875 32.234375 \r\nQ 47.125 39.59375 43.09375 43.984375 \r\nQ 39.0625 48.390625 32.421875 48.390625 \r\nQ 24.90625 48.390625 20.390625 44.140625 \r\nQ 15.875 39.890625 15.1875 32.171875 \r\nz\r\n\" id=\"DejaVuSans-101\"/>\r\n      </defs>\r\n      <use xlink:href=\"#DejaVuSans-67\"/>\r\n      <use x=\"69.824219\" xlink:href=\"#DejaVuSans-108\"/>\r\n      <use x=\"97.607422\" xlink:href=\"#DejaVuSans-111\"/>\r\n      <use x=\"158.789062\" xlink:href=\"#DejaVuSans-115\"/>\r\n      <use x=\"210.888672\" xlink:href=\"#DejaVuSans-101\"/>\r\n     </g>\r\n    </g>\r\n   </g>\r\n  </g>\r\n  <g id=\"axes_2\">\r\n   <g id=\"patch_8\">\r\n    <path d=\"M 42.828125 300.96 \r\nL 879.828125 300.96 \r\nL 879.828125 167.432727 \r\nL 42.828125 167.432727 \r\nz\r\n\" style=\"fill:#ffffff;\"/>\r\n   </g>\r\n   <g id=\"matplotlib.axis_3\">\r\n    <g id=\"xtick_15\">\r\n     <g id=\"line2d_23\">\r\n      <g>\r\n       <use style=\"stroke:#000000;stroke-width:0.8;\" x=\"79.620711\" xlink:href=\"#m37438f2d56\" y=\"300.96\"/>\r\n      </g>\r\n     </g>\r\n     <g id=\"text_7\">\r\n      <!-- 2010 -->\r\n      <g transform=\"translate(56.54052 327.26544)rotate(-30)scale(0.1 -0.1)\">\r\n       <defs>\r\n        <path d=\"M 12.40625 8.296875 \r\nL 28.515625 8.296875 \r\nL 28.515625 63.921875 \r\nL 10.984375 60.40625 \r\nL 10.984375 69.390625 \r\nL 28.421875 72.90625 \r\nL 38.28125 72.90625 \r\nL 38.28125 8.296875 \r\nL 54.390625 8.296875 \r\nL 54.390625 0 \r\nL 12.40625 0 \r\nz\r\n\" id=\"DejaVuSans-49\"/>\r\n       </defs>\r\n       <use xlink:href=\"#DejaVuSans-50\"/>\r\n       <use x=\"63.623047\" xlink:href=\"#DejaVuSans-48\"/>\r\n       <use x=\"127.246094\" xlink:href=\"#DejaVuSans-49\"/>\r\n       <use x=\"190.869141\" xlink:href=\"#DejaVuSans-48\"/>\r\n      </g>\r\n     </g>\r\n    </g>\r\n    <g id=\"xtick_16\">\r\n     <g id=\"line2d_24\">\r\n      <g>\r\n       <use style=\"stroke:#000000;stroke-width:0.8;\" x=\"232.053103\" xlink:href=\"#m37438f2d56\" y=\"300.96\"/>\r\n      </g>\r\n     </g>\r\n     <g id=\"text_8\">\r\n      <!-- 2011 -->\r\n      <g transform=\"translate(208.972912 327.26544)rotate(-30)scale(0.1 -0.1)\">\r\n       <use xlink:href=\"#DejaVuSans-50\"/>\r\n       <use x=\"63.623047\" xlink:href=\"#DejaVuSans-48\"/>\r\n       <use x=\"127.246094\" xlink:href=\"#DejaVuSans-49\"/>\r\n       <use x=\"190.869141\" xlink:href=\"#DejaVuSans-49\"/>\r\n      </g>\r\n     </g>\r\n    </g>\r\n    <g id=\"xtick_17\">\r\n     <g id=\"line2d_25\">\r\n      <g>\r\n       <use style=\"stroke:#000000;stroke-width:0.8;\" x=\"384.485495\" xlink:href=\"#m37438f2d56\" y=\"300.96\"/>\r\n      </g>\r\n     </g>\r\n     <g id=\"text_9\">\r\n      <!-- 2012 -->\r\n      <g transform=\"translate(361.405304 327.26544)rotate(-30)scale(0.1 -0.1)\">\r\n       <use xlink:href=\"#DejaVuSans-50\"/>\r\n       <use x=\"63.623047\" xlink:href=\"#DejaVuSans-48\"/>\r\n       <use x=\"127.246094\" xlink:href=\"#DejaVuSans-49\"/>\r\n       <use x=\"190.869141\" xlink:href=\"#DejaVuSans-50\"/>\r\n      </g>\r\n     </g>\r\n    </g>\r\n    <g id=\"xtick_18\">\r\n     <g id=\"line2d_26\">\r\n      <g>\r\n       <use style=\"stroke:#000000;stroke-width:0.8;\" x=\"537.335509\" xlink:href=\"#m37438f2d56\" y=\"300.96\"/>\r\n      </g>\r\n     </g>\r\n     <g id=\"text_10\">\r\n      <!-- 2013 -->\r\n      <g transform=\"translate(514.255319 327.26544)rotate(-30)scale(0.1 -0.1)\">\r\n       <use xlink:href=\"#DejaVuSans-50\"/>\r\n       <use x=\"63.623047\" xlink:href=\"#DejaVuSans-48\"/>\r\n       <use x=\"127.246094\" xlink:href=\"#DejaVuSans-49\"/>\r\n       <use x=\"190.869141\" xlink:href=\"#DejaVuSans-51\"/>\r\n      </g>\r\n     </g>\r\n    </g>\r\n    <g id=\"xtick_19\">\r\n     <g id=\"line2d_27\">\r\n      <g>\r\n       <use style=\"stroke:#000000;stroke-width:0.8;\" x=\"689.767901\" xlink:href=\"#m37438f2d56\" y=\"300.96\"/>\r\n      </g>\r\n     </g>\r\n     <g id=\"text_11\">\r\n      <!-- 2014 -->\r\n      <g transform=\"translate(666.687711 327.26544)rotate(-30)scale(0.1 -0.1)\">\r\n       <use xlink:href=\"#DejaVuSans-50\"/>\r\n       <use x=\"63.623047\" xlink:href=\"#DejaVuSans-48\"/>\r\n       <use x=\"127.246094\" xlink:href=\"#DejaVuSans-49\"/>\r\n       <use x=\"190.869141\" xlink:href=\"#DejaVuSans-52\"/>\r\n      </g>\r\n     </g>\r\n    </g>\r\n    <g id=\"xtick_20\">\r\n     <g id=\"line2d_28\">\r\n      <g>\r\n       <use style=\"stroke:#000000;stroke-width:0.8;\" x=\"842.200293\" xlink:href=\"#m37438f2d56\" y=\"300.96\"/>\r\n      </g>\r\n     </g>\r\n     <g id=\"text_12\">\r\n      <!-- 2015 -->\r\n      <g transform=\"translate(819.120103 327.26544)rotate(-30)scale(0.1 -0.1)\">\r\n       <use xlink:href=\"#DejaVuSans-50\"/>\r\n       <use x=\"63.623047\" xlink:href=\"#DejaVuSans-48\"/>\r\n       <use x=\"127.246094\" xlink:href=\"#DejaVuSans-49\"/>\r\n       <use x=\"190.869141\" xlink:href=\"#DejaVuSans-53\"/>\r\n      </g>\r\n     </g>\r\n    </g>\r\n    <g id=\"xtick_21\">\r\n     <g id=\"line2d_29\">\r\n      <g>\r\n       <use style=\"stroke:#000000;stroke-width:0.6;\" x=\"138.087929\" xlink:href=\"#mbf28898f4d\" y=\"300.96\"/>\r\n      </g>\r\n     </g>\r\n    </g>\r\n    <g id=\"xtick_22\">\r\n     <g id=\"line2d_30\">\r\n      <g>\r\n       <use style=\"stroke:#000000;stroke-width:0.6;\" x=\"242.493677\" xlink:href=\"#mbf28898f4d\" y=\"300.96\"/>\r\n      </g>\r\n     </g>\r\n    </g>\r\n    <g id=\"xtick_23\">\r\n     <g id=\"line2d_31\">\r\n      <g>\r\n       <use style=\"stroke:#000000;stroke-width:0.6;\" x=\"346.899425\" xlink:href=\"#mbf28898f4d\" y=\"300.96\"/>\r\n      </g>\r\n     </g>\r\n    </g>\r\n    <g id=\"xtick_24\">\r\n     <g id=\"line2d_32\">\r\n      <g>\r\n       <use style=\"stroke:#000000;stroke-width:0.6;\" x=\"451.305173\" xlink:href=\"#mbf28898f4d\" y=\"300.96\"/>\r\n      </g>\r\n     </g>\r\n    </g>\r\n    <g id=\"xtick_25\">\r\n     <g id=\"line2d_33\">\r\n      <g>\r\n       <use style=\"stroke:#000000;stroke-width:0.6;\" x=\"555.710921\" xlink:href=\"#mbf28898f4d\" y=\"300.96\"/>\r\n      </g>\r\n     </g>\r\n    </g>\r\n    <g id=\"xtick_26\">\r\n     <g id=\"line2d_34\">\r\n      <g>\r\n       <use style=\"stroke:#000000;stroke-width:0.6;\" x=\"660.116669\" xlink:href=\"#mbf28898f4d\" y=\"300.96\"/>\r\n      </g>\r\n     </g>\r\n    </g>\r\n    <g id=\"xtick_27\">\r\n     <g id=\"line2d_35\">\r\n      <g>\r\n       <use style=\"stroke:#000000;stroke-width:0.6;\" x=\"764.522417\" xlink:href=\"#mbf28898f4d\" y=\"300.96\"/>\r\n      </g>\r\n     </g>\r\n    </g>\r\n    <g id=\"xtick_28\">\r\n     <g id=\"line2d_36\">\r\n      <g>\r\n       <use style=\"stroke:#000000;stroke-width:0.6;\" x=\"868.928165\" xlink:href=\"#mbf28898f4d\" y=\"300.96\"/>\r\n      </g>\r\n     </g>\r\n    </g>\r\n    <g id=\"text_13\">\r\n     <!-- Date -->\r\n     <g transform=\"translate(449.377344 340.66494)scale(0.1 -0.1)\">\r\n      <defs>\r\n       <path d=\"M 19.671875 64.796875 \r\nL 19.671875 8.109375 \r\nL 31.59375 8.109375 \r\nQ 46.6875 8.109375 53.6875 14.9375 \r\nQ 60.6875 21.78125 60.6875 36.53125 \r\nQ 60.6875 51.171875 53.6875 57.984375 \r\nQ 46.6875 64.796875 31.59375 64.796875 \r\nz\r\nM 9.8125 72.90625 \r\nL 30.078125 72.90625 \r\nQ 51.265625 72.90625 61.171875 64.09375 \r\nQ 71.09375 55.28125 71.09375 36.53125 \r\nQ 71.09375 17.671875 61.125 8.828125 \r\nQ 51.171875 0 30.078125 0 \r\nL 9.8125 0 \r\nz\r\n\" id=\"DejaVuSans-68\"/>\r\n       <path d=\"M 34.28125 27.484375 \r\nQ 23.390625 27.484375 19.1875 25 \r\nQ 14.984375 22.515625 14.984375 16.5 \r\nQ 14.984375 11.71875 18.140625 8.90625 \r\nQ 21.296875 6.109375 26.703125 6.109375 \r\nQ 34.1875 6.109375 38.703125 11.40625 \r\nQ 43.21875 16.703125 43.21875 25.484375 \r\nL 43.21875 27.484375 \r\nz\r\nM 52.203125 31.203125 \r\nL 52.203125 0 \r\nL 43.21875 0 \r\nL 43.21875 8.296875 \r\nQ 40.140625 3.328125 35.546875 0.953125 \r\nQ 30.953125 -1.421875 24.3125 -1.421875 \r\nQ 15.921875 -1.421875 10.953125 3.296875 \r\nQ 6 8.015625 6 15.921875 \r\nQ 6 25.140625 12.171875 29.828125 \r\nQ 18.359375 34.515625 30.609375 34.515625 \r\nL 43.21875 34.515625 \r\nL 43.21875 35.40625 \r\nQ 43.21875 41.609375 39.140625 45 \r\nQ 35.0625 48.390625 27.6875 48.390625 \r\nQ 23 48.390625 18.546875 47.265625 \r\nQ 14.109375 46.140625 10.015625 43.890625 \r\nL 10.015625 52.203125 \r\nQ 14.9375 54.109375 19.578125 55.046875 \r\nQ 24.21875 56 28.609375 56 \r\nQ 40.484375 56 46.34375 49.84375 \r\nQ 52.203125 43.703125 52.203125 31.203125 \r\nz\r\n\" id=\"DejaVuSans-97\"/>\r\n       <path d=\"M 18.3125 70.21875 \r\nL 18.3125 54.6875 \r\nL 36.8125 54.6875 \r\nL 36.8125 47.703125 \r\nL 18.3125 47.703125 \r\nL 18.3125 18.015625 \r\nQ 18.3125 11.328125 20.140625 9.421875 \r\nQ 21.96875 7.515625 27.59375 7.515625 \r\nL 36.8125 7.515625 \r\nL 36.8125 0 \r\nL 27.59375 0 \r\nQ 17.1875 0 13.234375 3.875 \r\nQ 9.28125 7.765625 9.28125 18.015625 \r\nL 9.28125 47.703125 \r\nL 2.6875 47.703125 \r\nL 2.6875 54.6875 \r\nL 9.28125 54.6875 \r\nL 9.28125 70.21875 \r\nz\r\n\" id=\"DejaVuSans-116\"/>\r\n      </defs>\r\n      <use xlink:href=\"#DejaVuSans-68\"/>\r\n      <use x=\"77.001953\" xlink:href=\"#DejaVuSans-97\"/>\r\n      <use x=\"138.28125\" xlink:href=\"#DejaVuSans-116\"/>\r\n      <use x=\"177.490234\" xlink:href=\"#DejaVuSans-101\"/>\r\n     </g>\r\n    </g>\r\n   </g>\r\n   <g id=\"matplotlib.axis_4\">\r\n    <g id=\"ytick_6\">\r\n     <g id=\"line2d_37\">\r\n      <g>\r\n       <use style=\"stroke:#000000;stroke-width:0.8;\" x=\"42.828125\" xlink:href=\"#mfb027ff6cf\" y=\"289.414542\"/>\r\n      </g>\r\n     </g>\r\n     <g id=\"text_14\">\r\n      <!-- 0.200 -->\r\n      <g transform=\"translate(7.2 293.213761)scale(0.1 -0.1)\">\r\n       <defs>\r\n        <path d=\"M 10.6875 12.40625 \r\nL 21 12.40625 \r\nL 21 0 \r\nL 10.6875 0 \r\nz\r\n\" id=\"DejaVuSans-46\"/>\r\n       </defs>\r\n       <use xlink:href=\"#DejaVuSans-48\"/>\r\n       <use x=\"63.623047\" xlink:href=\"#DejaVuSans-46\"/>\r\n       <use x=\"95.410156\" xlink:href=\"#DejaVuSans-50\"/>\r\n       <use x=\"159.033203\" xlink:href=\"#DejaVuSans-48\"/>\r\n       <use x=\"222.65625\" xlink:href=\"#DejaVuSans-48\"/>\r\n      </g>\r\n     </g>\r\n    </g>\r\n    <g id=\"ytick_7\">\r\n     <g id=\"line2d_38\">\r\n      <g>\r\n       <use style=\"stroke:#000000;stroke-width:0.8;\" x=\"42.828125\" xlink:href=\"#mfb027ff6cf\" y=\"262.806621\"/>\r\n      </g>\r\n     </g>\r\n     <g id=\"text_15\">\r\n      <!-- 0.225 -->\r\n      <g transform=\"translate(7.2 266.60584)scale(0.1 -0.1)\">\r\n       <use xlink:href=\"#DejaVuSans-48\"/>\r\n       <use x=\"63.623047\" xlink:href=\"#DejaVuSans-46\"/>\r\n       <use x=\"95.410156\" xlink:href=\"#DejaVuSans-50\"/>\r\n       <use x=\"159.033203\" xlink:href=\"#DejaVuSans-50\"/>\r\n       <use x=\"222.65625\" xlink:href=\"#DejaVuSans-53\"/>\r\n      </g>\r\n     </g>\r\n    </g>\r\n    <g id=\"ytick_8\">\r\n     <g id=\"line2d_39\">\r\n      <g>\r\n       <use style=\"stroke:#000000;stroke-width:0.8;\" x=\"42.828125\" xlink:href=\"#mfb027ff6cf\" y=\"236.1987\"/>\r\n      </g>\r\n     </g>\r\n     <g id=\"text_16\">\r\n      <!-- 0.250 -->\r\n      <g transform=\"translate(7.2 239.997919)scale(0.1 -0.1)\">\r\n       <use xlink:href=\"#DejaVuSans-48\"/>\r\n       <use x=\"63.623047\" xlink:href=\"#DejaVuSans-46\"/>\r\n       <use x=\"95.410156\" xlink:href=\"#DejaVuSans-50\"/>\r\n       <use x=\"159.033203\" xlink:href=\"#DejaVuSans-53\"/>\r\n       <use x=\"222.65625\" xlink:href=\"#DejaVuSans-48\"/>\r\n      </g>\r\n     </g>\r\n    </g>\r\n    <g id=\"ytick_9\">\r\n     <g id=\"line2d_40\">\r\n      <g>\r\n       <use style=\"stroke:#000000;stroke-width:0.8;\" x=\"42.828125\" xlink:href=\"#mfb027ff6cf\" y=\"209.590779\"/>\r\n      </g>\r\n     </g>\r\n     <g id=\"text_17\">\r\n      <!-- 0.275 -->\r\n      <g transform=\"translate(7.2 213.389998)scale(0.1 -0.1)\">\r\n       <defs>\r\n        <path d=\"M 8.203125 72.90625 \r\nL 55.078125 72.90625 \r\nL 55.078125 68.703125 \r\nL 28.609375 0 \r\nL 18.3125 0 \r\nL 43.21875 64.59375 \r\nL 8.203125 64.59375 \r\nz\r\n\" id=\"DejaVuSans-55\"/>\r\n       </defs>\r\n       <use xlink:href=\"#DejaVuSans-48\"/>\r\n       <use x=\"63.623047\" xlink:href=\"#DejaVuSans-46\"/>\r\n       <use x=\"95.410156\" xlink:href=\"#DejaVuSans-50\"/>\r\n       <use x=\"159.033203\" xlink:href=\"#DejaVuSans-55\"/>\r\n       <use x=\"222.65625\" xlink:href=\"#DejaVuSans-53\"/>\r\n      </g>\r\n     </g>\r\n    </g>\r\n    <g id=\"ytick_10\">\r\n     <g id=\"line2d_41\">\r\n      <g>\r\n       <use style=\"stroke:#000000;stroke-width:0.8;\" x=\"42.828125\" xlink:href=\"#mfb027ff6cf\" y=\"182.982858\"/>\r\n      </g>\r\n     </g>\r\n     <g id=\"text_18\">\r\n      <!-- 0.300 -->\r\n      <g transform=\"translate(7.2 186.782077)scale(0.1 -0.1)\">\r\n       <use xlink:href=\"#DejaVuSans-48\"/>\r\n       <use x=\"63.623047\" xlink:href=\"#DejaVuSans-46\"/>\r\n       <use x=\"95.410156\" xlink:href=\"#DejaVuSans-51\"/>\r\n       <use x=\"159.033203\" xlink:href=\"#DejaVuSans-48\"/>\r\n       <use x=\"222.65625\" xlink:href=\"#DejaVuSans-48\"/>\r\n      </g>\r\n     </g>\r\n    </g>\r\n   </g>\r\n   <g id=\"line2d_42\">\r\n    <path clip-path=\"url(#p2be0f6b711)\" d=\"M 233.305972 205.800703 \r\nL 233.723595 205.578054 \r\nL 234.55884 207.760267 \r\nL 236.229332 208.056644 \r\nL 236.646955 208.67896 \r\nL 237.064578 208.746656 \r\nL 237.482201 208.513303 \r\nL 239.152693 207.953701 \r\nL 239.570316 207.952777 \r\nL 239.987939 208.132559 \r\nL 240.405562 207.020939 \r\nL 241.658431 213.6885 \r\nL 242.076054 214.008424 \r\nL 242.9113 213.968991 \r\nL 243.328923 213.03261 \r\nL 244.581792 213.17507 \r\nL 244.999415 212.654555 \r\nL 245.417038 212.685956 \r\nL 245.834661 213.269993 \r\nL 246.252284 214.688064 \r\nL 248.758022 214.776343 \r\nL 249.175645 214.489767 \r\nL 250.428514 214.527023 \r\nL 250.846137 214.853527 \r\nL 252.099006 215.033445 \r\nL 253.769498 212.962488 \r\nL 254.187121 213.392042 \r\nL 254.604744 213.454991 \r\nL 255.022367 213.65199 \r\nL 256.275236 213.604647 \r\nL 256.692859 212.927615 \r\nL 257.110482 213.378168 \r\nL 257.528105 213.095723 \r\nL 257.945728 213.177058 \r\nL 260.033843 213.333575 \r\nL 260.451466 214.171906 \r\nL 260.869089 214.225586 \r\nL 262.121958 213.970707 \r\nL 262.539581 215.589581 \r\nL 262.957204 214.644871 \r\nL 263.374827 214.529545 \r\nL 263.79245 214.533609 \r\nL 265.045319 213.342106 \r\nL 265.462942 213.380551 \r\nL 266.298188 214.036083 \r\nL 266.715811 213.919239 \r\nL 267.96868 213.802934 \r\nL 268.386303 213.56969 \r\nL 268.803926 213.678543 \r\nL 269.639172 213.492766 \r\nL 270.892041 213.443276 \r\nL 271.309664 211.540326 \r\nL 271.727287 211.481005 \r\nL 272.14491 211.294871 \r\nL 272.562533 211.526509 \r\nL 273.815402 212.672681 \r\nL 274.233025 212.43427 \r\nL 274.650648 212.464233 \r\nL 275.068271 224.917711 \r\nL 275.485894 210.040564 \r\nL 276.738763 210.104604 \r\nL 277.156386 209.914965 \r\nL 277.574009 210.108217 \r\nL 277.991632 210.132237 \r\nL 279.662124 211.323023 \r\nL 280.079747 210.947268 \r\nL 280.49737 210.782485 \r\nL 281.332616 210.871091 \r\nL 282.585485 210.827152 \r\nL 283.003108 214.989799 \r\nL 283.420731 215.05106 \r\nL 283.838354 216.012491 \r\nL 284.255977 216.269357 \r\nL 285.508845 222.532841 \r\nL 285.926468 223.601163 \r\nL 286.344091 223.336924 \r\nL 286.761714 223.563744 \r\nL 287.179337 223.430764 \r\nL 288.849829 222.198783 \r\nL 289.267452 222.331144 \r\nL 289.685075 225.659434 \r\nL 290.102698 225.341277 \r\nL 292.190813 225.322872 \r\nL 292.608436 227.245869 \r\nL 293.026059 227.40512 \r\nL 294.696551 227.033103 \r\nL 295.531797 229.146184 \r\nL 295.94942 229.353748 \r\nL 297.202289 230.846642 \r\nL 297.619912 230.817129 \r\nL 298.037535 231.906737 \r\nL 298.455158 233.362015 \r\nL 298.872781 232.948271 \r\nL 300.12565 233.015077 \r\nL 300.543273 234.825627 \r\nL 301.378519 234.623534 \r\nL 301.796142 232.580589 \r\nL 303.049011 233.705751 \r\nL 303.466634 233.128878 \r\nL 303.884257 232.972223 \r\nL 304.30188 233.001404 \r\nL 305.972372 232.209358 \r\nL 306.389995 234.363648 \r\nL 306.807618 235.188913 \r\nL 307.225241 234.920194 \r\nL 307.642864 233.388839 \r\nL 309.313356 232.472226 \r\nL 309.730979 234.472657 \r\nL 310.566225 233.491596 \r\nL 311.819094 233.936089 \r\nL 312.236717 235.202474 \r\nL 312.65434 235.114369 \r\nL 313.071963 234.499477 \r\nL 313.489586 215.173247 \r\nL 314.742455 215.459775 \r\nL 315.160078 217.164811 \r\nL 315.995324 216.738371 \r\nL 316.412947 216.324983 \r\nL 318.083439 216.383914 \r\nL 318.501062 215.697752 \r\nL 318.918685 215.644977 \r\nL 319.336308 215.321543 \r\nL 320.589177 215.506856 \r\nL 321.0068 214.570001 \r\nL 321.424423 216.410001 \r\nL 321.842046 213.147434 \r\nL 322.259669 213.654838 \r\nL 323.512538 207.025756 \r\nL 323.930161 202.549714 \r\nL 324.347784 200.03431 \r\nL 324.765407 199.030201 \r\nL 325.18303 199.296225 \r\nL 326.435899 199.025052 \r\nL 326.853522 197.070962 \r\nL 327.271145 197.410354 \r\nL 327.688768 193.527898 \r\nL 328.106391 192.365054 \r\nL 329.35926 192.014563 \r\nL 329.776883 190.507015 \r\nL 330.612129 190.519756 \r\nL 331.029752 190.746593 \r\nL 332.282621 190.2031 \r\nL 332.700244 190.274217 \r\nL 333.117867 191.158453 \r\nL 333.53549 190.725149 \r\nL 333.953113 190.712821 \r\nL 335.623604 190.967554 \r\nL 336.041227 190.382207 \r\nL 336.45885 190.614766 \r\nL 336.876473 189.921938 \r\nL 338.964588 190.027304 \r\nL 339.382211 189.365101 \r\nL 339.799834 189.879546 \r\nL 341.052703 192.244099 \r\nL 341.470326 192.421596 \r\nL 341.887949 192.108593 \r\nL 342.305572 189.903688 \r\nL 342.723195 191.031164 \r\nL 343.976064 190.828333 \r\nL 344.393687 190.547862 \r\nL 344.81131 189.842908 \r\nL 345.228933 189.854941 \r\nL 345.646556 188.817634 \r\nL 346.899425 186.20876 \r\nL 347.317048 187.548419 \r\nL 347.734671 187.575487 \r\nL 348.152294 186.982309 \r\nL 348.569917 187.242395 \r\nL 349.822786 184.11025 \r\nL 350.658032 183.781986 \r\nL 351.075655 183.183248 \r\nL 351.493278 197.806696 \r\nL 352.746147 198.697696 \r\nL 353.16377 198.808055 \r\nL 353.581393 198.292249 \r\nL 353.999016 198.325419 \r\nL 354.416639 198.0673 \r\nL 355.669508 197.956885 \r\nL 356.087131 197.053934 \r\nL 356.504754 197.014994 \r\nL 356.922377 196.214584 \r\nL 357.34 196.316135 \r\nL 358.592869 196.036518 \r\nL 359.010492 195.000872 \r\nL 359.428115 194.892041 \r\nL 359.845738 194.111354 \r\nL 360.263361 194.107341 \r\nL 361.51623 193.35531 \r\nL 361.933853 193.290286 \r\nL 362.351476 192.666199 \r\nL 363.186722 192.696163 \r\nL 364.439591 192.907291 \r\nL 364.857214 193.592264 \r\nL 365.274837 193.460206 \r\nL 365.69246 193.776219 \r\nL 366.110083 193.762849 \r\nL 367.362952 192.731785 \r\nL 368.198198 193.313287 \r\nL 369.033444 193.15669 \r\nL 370.286313 189.96825 \r\nL 370.703936 193.778167 \r\nL 371.539182 192.091617 \r\nL 371.956805 191.900021 \r\nL 373.209674 191.926349 \r\nL 373.627297 192.308423 \r\nL 374.04492 192.363007 \r\nL 374.462543 192.10217 \r\nL 374.880166 191.50441 \r\nL 376.550658 191.50932 \r\nL 376.968281 191.348211 \r\nL 377.385904 191.34856 \r\nL 377.803527 191.16724 \r\nL 379.891642 191.084361 \r\nL 382.39738 190.843195 \r\nL 383.650249 190.941847 \r\nL 385.320741 189.891305 \r\nL 385.738363 189.893584 \r\nL 386.155986 189.744402 \r\nL 386.573609 189.474393 \r\nL 387.826478 186.101737 \r\nL 388.661724 186.102895 \r\nL 389.49697 185.944671 \r\nL 391.167462 186.146201 \r\nL 391.585085 187.13979 \r\nL 392.002708 187.219798 \r\nL 392.420331 173.825717 \r\nL 393.6732 174.815274 \r\nL 394.090823 174.714069 \r\nL 394.508446 174.419296 \r\nL 394.926069 174.458691 \r\nL 395.343692 173.698102 \r\nL 396.596561 174.825601 \r\nL 397.014184 174.794911 \r\nL 397.431807 175.341233 \r\nL 397.84943 175.247787 \r\nL 398.267053 174.625277 \r\nL 399.519922 173.848746 \r\nL 400.772791 173.910557 \r\nL 401.190414 173.768434 \r\nL 403.696152 173.895351 \r\nL 404.113775 173.885481 \r\nL 405.784267 173.576265 \r\nL 406.20189 175.180809 \r\nL 408.290005 175.136181 \r\nL 408.707628 174.808248 \r\nL 409.125251 175.566228 \r\nL 409.542874 175.491501 \r\nL 409.960497 175.846495 \r\nL 411.630989 175.995467 \r\nL 412.466235 175.983563 \r\nL 412.883858 176.426882 \r\nL 414.136727 176.386395 \r\nL 414.55435 175.910961 \r\nL 414.971973 175.895013 \r\nL 415.389596 176.669816 \r\nL 415.807219 176.70011 \r\nL 417.060088 176.372809 \r\nL 417.477711 177.617516 \r\nL 417.895334 177.451357 \r\nL 418.73058 177.464949 \r\nL 420.818695 177.55584 \r\nL 421.653941 177.196893 \r\nL 423.324433 177.195265 \r\nL 423.742056 178.797554 \r\nL 424.159679 178.882045 \r\nL 426.247794 178.98025 \r\nL 426.665417 178.638679 \r\nL 427.08304 177.977745 \r\nL 427.500663 175.079626 \r\nL 428.753532 173.502149 \r\nL 429.171155 186.705442 \r\nL 429.588778 186.786358 \r\nL 430.006401 186.636984 \r\nL 430.424024 186.674628 \r\nL 433.347385 186.643586 \r\nL 434.600254 186.329858 \r\nL 435.4355 186.653044 \r\nL 435.853123 186.612592 \r\nL 436.270745 185.620756 \r\nL 437.941237 185.011482 \r\nL 438.35886 185.073771 \r\nL 438.776483 185.334191 \r\nL 439.194106 184.968068 \r\nL 440.446975 185.167608 \r\nL 440.864598 185.801542 \r\nL 441.282221 185.277608 \r\nL 441.699844 185.102297 \r\nL 442.117467 182.588197 \r\nL 443.370336 182.087065 \r\nL 443.787959 181.417549 \r\nL 444.205582 181.085938 \r\nL 444.623205 180.910091 \r\nL 445.040828 180.162896 \r\nL 446.71132 180.172281 \r\nL 447.128943 180.364271 \r\nL 447.546566 180.14936 \r\nL 447.964189 179.640486 \r\nL 449.217058 179.517164 \r\nL 449.634681 179.171991 \r\nL 450.052304 178.681901 \r\nL 450.88755 178.674229 \r\nL 452.140419 178.254466 \r\nL 452.558042 178.352759 \r\nL 452.975665 178.332796 \r\nL 453.393288 178.522194 \r\nL 453.810911 178.427149 \r\nL 455.06378 179.99645 \r\nL 455.481403 179.440175 \r\nL 455.899026 179.82018 \r\nL 456.316649 179.244864 \r\nL 456.734272 179.434131 \r\nL 457.987141 178.99881 \r\nL 458.404764 179.381046 \r\nL 458.822387 180.093564 \r\nL 459.24001 180.036262 \r\nL 459.657633 179.26072 \r\nL 461.328125 181.180362 \r\nL 462.163371 180.914704 \r\nL 462.580994 181.133921 \r\nL 463.833863 182.468886 \r\nL 464.251486 182.514628 \r\nL 464.669109 182.173234 \r\nL 465.086732 182.273629 \r\nL 465.504355 182.64569 \r\nL 466.757224 210.290755 \r\nL 467.174847 210.306548 \r\nL 467.59247 210.529933 \r\nL 468.010093 209.945761 \r\nL 468.427716 208.982582 \r\nL 469.680585 209.522798 \r\nL 470.098208 209.200181 \r\nL 470.515831 209.264117 \r\nL 470.933454 210.31365 \r\nL 471.351077 208.071623 \r\nL 473.021569 208.363106 \r\nL 473.439192 209.23698 \r\nL 473.856815 209.415283 \r\nL 474.274438 211.859458 \r\nL 475.527307 211.86183 \r\nL 475.94493 218.78014 \r\nL 476.780176 227.491802 \r\nL 477.197799 228.58895 \r\nL 478.450668 227.08174 \r\nL 478.868291 227.078893 \r\nL 479.285914 229.474331 \r\nL 479.703537 229.660314 \r\nL 480.12116 236.108754 \r\nL 481.374029 237.919496 \r\nL 481.791652 238.087207 \r\nL 482.209275 241.234009 \r\nL 483.044521 241.460553 \r\nL 484.29739 241.288372 \r\nL 484.715013 242.079365 \r\nL 485.132636 241.60929 \r\nL 485.550259 241.384014 \r\nL 485.967882 241.959964 \r\nL 488.055996 242.456018 \r\nL 488.473619 241.976579 \r\nL 488.891242 241.819153 \r\nL 490.144111 242.543076 \r\nL 490.561734 242.322325 \r\nL 490.979357 242.313571 \r\nL 491.39698 241.41599 \r\nL 491.814603 242.12158 \r\nL 493.067472 242.213682 \r\nL 493.902718 241.679549 \r\nL 494.320341 242.160552 \r\nL 494.737964 244.950064 \r\nL 495.990833 244.258781 \r\nL 496.826079 244.811174 \r\nL 497.243702 245.77285 \r\nL 497.661325 245.770885 \r\nL 498.914194 247.059671 \r\nL 499.331817 250.554157 \r\nL 499.74944 250.764121 \r\nL 500.167063 250.728129 \r\nL 500.584686 251.45223 \r\nL 501.837555 250.982612 \r\nL 502.255178 253.834341 \r\nL 502.672801 254.055448 \r\nL 503.090424 254.075186 \r\nL 503.508047 254.559872 \r\nL 504.760916 261.722989 \r\nL 505.178539 262.345667 \r\nL 505.596162 262.310804 \r\nL 506.013785 246.706173 \r\nL 506.431408 245.873531 \r\nL 507.684277 246.085389 \r\nL 508.1019 246.275518 \r\nL 508.519523 247.399665 \r\nL 508.937146 247.450856 \r\nL 509.354769 248.334406 \r\nL 511.442884 248.229926 \r\nL 511.860507 248.387137 \r\nL 512.27813 249.735055 \r\nL 513.530999 249.817598 \r\nL 513.948622 250.787499 \r\nL 514.366245 249.700229 \r\nL 514.783868 249.415081 \r\nL 515.201491 248.926608 \r\nL 516.45436 249.71457 \r\nL 516.871983 249.689746 \r\nL 517.289606 250.515843 \r\nL 518.124852 250.549956 \r\nL 519.377721 248.45511 \r\nL 519.795344 249.162419 \r\nL 520.212967 249.310491 \r\nL 521.048213 250.614791 \r\nL 522.301082 250.361415 \r\nL 522.718705 250.646081 \r\nL 523.136328 250.276443 \r\nL 523.553951 254.204004 \r\nL 523.971574 254.246938 \r\nL 525.224443 255.890641 \r\nL 525.642066 257.030879 \r\nL 526.477312 257.320678 \r\nL 526.894935 257.093811 \r\nL 528.147804 257.091425 \r\nL 528.565427 256.836088 \r\nL 528.98305 257.573533 \r\nL 529.818296 257.489197 \r\nL 531.071165 256.304038 \r\nL 531.488788 256.311055 \r\nL 532.324034 256.627413 \r\nL 532.741657 256.797918 \r\nL 534.829772 256.815693 \r\nL 535.665018 256.900755 \r\nL 536.917887 256.666916 \r\nL 537.753132 255.608829 \r\nL 538.170755 255.665933 \r\nL 538.588378 256.803507 \r\nL 539.841247 256.786556 \r\nL 540.676493 257.635856 \r\nL 541.094116 262.121112 \r\nL 541.511739 262.104045 \r\nL 542.764608 260.835175 \r\nL 543.182231 260.894108 \r\nL 543.599854 260.57877 \r\nL 544.017477 260.559765 \r\nL 544.4351 260.417388 \r\nL 546.105592 260.638743 \r\nL 546.523215 272.655751 \r\nL 546.940838 272.067136 \r\nL 547.358461 272.259706 \r\nL 548.61133 273.284655 \r\nL 549.028953 273.296217 \r\nL 549.446576 274.250418 \r\nL 549.864199 274.307685 \r\nL 550.281822 272.794508 \r\nL 551.534691 271.522835 \r\nL 551.952314 271.471826 \r\nL 552.369937 272.213891 \r\nL 552.78756 273.184225 \r\nL 553.205183 272.779504 \r\nL 554.875675 272.745837 \r\nL 555.710921 273.136229 \r\nL 556.128544 273.125913 \r\nL 557.799036 272.621852 \r\nL 558.216659 271.720793 \r\nL 558.634282 271.74449 \r\nL 559.051905 272.204585 \r\nL 560.722397 272.159271 \r\nL 561.14002 271.922926 \r\nL 561.557643 271.932274 \r\nL 561.975266 272.333453 \r\nL 563.228135 271.561748 \r\nL 563.645758 270.706856 \r\nL 564.063381 270.492554 \r\nL 564.481004 270.875513 \r\nL 564.898627 271.527481 \r\nL 566.151496 271.517278 \r\nL 566.569119 271.276154 \r\nL 566.986742 271.63267 \r\nL 567.404365 271.66685 \r\nL 567.821988 272.358744 \r\nL 569.074857 272.192686 \r\nL 569.910103 272.338511 \r\nL 570.327726 272.698858 \r\nL 570.745349 272.694997 \r\nL 572.415841 273.062821 \r\nL 572.833464 272.743318 \r\nL 573.251087 272.647187 \r\nL 575.339202 272.454828 \r\nL 575.756825 272.605133 \r\nL 576.174448 272.420658 \r\nL 576.592071 271.942729 \r\nL 577.84494 271.765808 \r\nL 578.262563 272.129289 \r\nL 578.680186 271.635293 \r\nL 579.515432 271.783984 \r\nL 580.768301 271.925344 \r\nL 581.185924 272.721184 \r\nL 581.603547 276.651 \r\nL 582.02117 277.814942 \r\nL 582.438793 273.362449 \r\nL 583.691662 273.412873 \r\nL 584.109285 273.764442 \r\nL 584.526908 273.795123 \r\nL 584.944531 273.692251 \r\nL 586.615023 272.821325 \r\nL 587.032646 272.912646 \r\nL 587.450268 272.827227 \r\nL 587.867891 273.368992 \r\nL 588.285514 272.580101 \r\nL 589.538383 271.879017 \r\nL 589.956006 271.835134 \r\nL 590.791252 273.18237 \r\nL 591.208875 273.128051 \r\nL 592.461744 273.214052 \r\nL 592.879367 273.081952 \r\nL 593.29699 271.384943 \r\nL 593.714613 270.875374 \r\nL 594.132236 271.081485 \r\nL 595.385105 272.898784 \r\nL 595.802728 273.166952 \r\nL 596.220351 275.769111 \r\nL 597.055597 277.685531 \r\nL 598.726089 277.958172 \r\nL 599.143712 277.596336 \r\nL 599.561335 278.796872 \r\nL 599.978958 278.820415 \r\nL 601.64945 279.274742 \r\nL 602.067073 280.172078 \r\nL 602.484696 280.476864 \r\nL 602.902319 280.497802 \r\nL 604.155188 280.886026 \r\nL 604.990434 280.230845 \r\nL 605.408057 281.481142 \r\nL 605.82568 281.594611 \r\nL 607.078549 281.490383 \r\nL 607.496172 281.04573 \r\nL 607.913795 281.194582 \r\nL 608.331418 280.429434 \r\nL 608.749041 281.063029 \r\nL 610.00191 280.721476 \r\nL 610.419533 282.021874 \r\nL 610.837156 282.125032 \r\nL 611.254779 283.228403 \r\nL 611.672402 283.291597 \r\nL 612.925271 283.278222 \r\nL 613.342894 283.398515 \r\nL 613.760517 285.113478 \r\nL 614.595763 285.014077 \r\nL 615.848632 284.998043 \r\nL 616.266255 285.367978 \r\nL 616.683878 286.264835 \r\nL 617.101501 285.768217 \r\nL 617.519124 285.986144 \r\nL 618.771993 287.051517 \r\nL 619.189616 286.932659 \r\nL 619.607239 287.107434 \r\nL 620.024862 286.874726 \r\nL 620.442485 286.085278 \r\nL 621.695354 285.65339 \r\nL 622.112977 286.396008 \r\nL 622.5306 288.436916 \r\nL 622.948223 287.632094 \r\nL 623.365846 288.142052 \r\nL 625.036338 288.03795 \r\nL 625.453961 290.918828 \r\nL 625.871584 290.224746 \r\nL 627.542076 290.20453 \r\nL 627.959699 290.049842 \r\nL 628.377322 290.791605 \r\nL 630.465437 290.696335 \r\nL 630.88306 290.599736 \r\nL 631.300683 290.060427 \r\nL 631.718306 291.50662 \r\nL 632.135929 291.849623 \r\nL 633.388798 291.644114 \r\nL 634.224044 291.81281 \r\nL 634.641667 291.799808 \r\nL 635.05929 292.000725 \r\nL 636.312159 292.212881 \r\nL 636.729782 291.15405 \r\nL 637.147405 291.142153 \r\nL 637.565028 291.602187 \r\nL 639.653142 291.60199 \r\nL 640.488388 291.355906 \r\nL 640.906011 291.482596 \r\nL 642.15888 291.291748 \r\nL 642.576503 293.130861 \r\nL 643.411749 293.329369 \r\nL 643.829372 293.728949 \r\nL 645.082241 293.735015 \r\nL 645.499864 294.890579 \r\nL 645.917487 294.021485 \r\nL 646.33511 293.90998 \r\nL 646.752733 294.171206 \r\nL 648.005602 293.532646 \r\nL 648.423225 293.532215 \r\nL 648.840848 293.308673 \r\nL 649.258471 294.409361 \r\nL 649.676094 294.392366 \r\nL 650.928963 294.45964 \r\nL 651.346586 294.09995 \r\nL 651.764209 294.128905 \r\nL 652.181832 293.809175 \r\nL 652.599455 293.873608 \r\nL 653.852324 293.815987 \r\nL 654.269947 293.368209 \r\nL 655.105193 293.318083 \r\nL 655.522816 294.254637 \r\nL 656.775685 294.209119 \r\nL 657.193308 294.310747 \r\nL 657.610931 293.74878 \r\nL 658.028554 293.506885 \r\nL 658.446177 252.718492 \r\nL 659.699046 252.922885 \r\nL 660.116669 269.872314 \r\nL 660.534292 269.699662 \r\nL 660.951915 269.661855 \r\nL 661.369538 269.325884 \r\nL 662.622407 269.408267 \r\nL 663.04003 268.524522 \r\nL 663.457653 268.468566 \r\nL 664.292899 268.685248 \r\nL 665.963391 268.77324 \r\nL 666.381014 268.801364 \r\nL 666.798637 269.48177 \r\nL 667.21626 270.817699 \r\nL 668.886752 271.235314 \r\nL 669.304375 270.748222 \r\nL 670.139621 271.299723 \r\nL 671.39249 271.273941 \r\nL 671.810113 273.371658 \r\nL 673.062982 273.209083 \r\nL 674.315851 273.2274 \r\nL 674.733474 273.367646 \r\nL 675.151097 274.099088 \r\nL 675.986343 274.297725 \r\nL 677.656835 274.412622 \r\nL 678.492081 274.6257 \r\nL 678.909704 274.396424 \r\nL 680.162573 274.658798 \r\nL 680.580196 274.614266 \r\nL 680.997819 274.976897 \r\nL 681.833065 274.61202 \r\nL 683.085934 274.392153 \r\nL 683.503557 275.884476 \r\nL 683.92118 275.513736 \r\nL 684.338803 275.53553 \r\nL 684.756426 275.20885 \r\nL 686.009295 275.193204 \r\nL 686.426918 275.407147 \r\nL 687.679787 275.47136 \r\nL 689.350278 275.537206 \r\nL 690.185524 276.398552 \r\nL 690.603147 276.197573 \r\nL 691.856016 276.783345 \r\nL 692.273639 276.113433 \r\nL 692.691262 276.148304 \r\nL 693.108885 275.880414 \r\nL 693.526508 275.893467 \r\nL 694.779377 275.765209 \r\nL 695.197 276.125866 \r\nL 695.614623 276.110606 \r\nL 696.032246 276.649934 \r\nL 698.537984 276.82661 \r\nL 698.955607 283.554339 \r\nL 699.37323 281.228395 \r\nL 700.626099 280.0102 \r\nL 701.461345 278.619577 \r\nL 701.878968 277.186559 \r\nL 702.296591 273.635193 \r\nL 703.54946 270.589546 \r\nL 703.967083 271.890222 \r\nL 704.384706 271.999385 \r\nL 705.219952 271.218321 \r\nL 706.472821 271.561615 \r\nL 706.890444 271.219249 \r\nL 707.308067 271.204087 \r\nL 707.72569 270.98989 \r\nL 708.143313 271.041411 \r\nL 709.813805 271.034786 \r\nL 710.231428 271.46405 \r\nL 710.649051 272.414589 \r\nL 712.319543 272.372884 \r\nL 712.737166 272.737855 \r\nL 713.154789 272.747477 \r\nL 713.572412 273.002525 \r\nL 713.990035 272.950289 \r\nL 715.242904 272.624389 \r\nL 715.660527 273.180788 \r\nL 716.07815 274.082501 \r\nL 716.495773 274.339349 \r\nL 716.913396 274.264618 \r\nL 718.166265 274.241093 \r\nL 718.583888 273.951604 \r\nL 719.001511 274.155025 \r\nL 719.836757 273.021091 \r\nL 721.089626 272.737923 \r\nL 721.924872 272.143383 \r\nL 722.342495 272.133896 \r\nL 722.760118 271.774704 \r\nL 724.012987 270.500747 \r\nL 724.43061 270.511641 \r\nL 724.848233 269.026923 \r\nL 725.265856 268.753586 \r\nL 725.683479 269.063553 \r\nL 726.936348 269.098862 \r\nL 727.353971 268.84614 \r\nL 727.771594 269.075608 \r\nL 728.189217 269.617675 \r\nL 728.60684 264.438577 \r\nL 729.859709 264.507108 \r\nL 730.277332 262.476299 \r\nL 730.694955 262.437457 \r\nL 731.112578 258.033429 \r\nL 731.530201 257.060305 \r\nL 732.78307 257.356046 \r\nL 733.200693 257.681471 \r\nL 734.035939 253.042817 \r\nL 735.706431 256.594426 \r\nL 736.124054 256.340585 \r\nL 736.541677 255.924206 \r\nL 736.9593 255.956779 \r\nL 737.376923 255.282563 \r\nL 740.300283 255.78719 \r\nL 741.553152 256.559407 \r\nL 741.970775 255.830371 \r\nL 742.388398 255.636105 \r\nL 742.806021 256.403883 \r\nL 743.223644 255.95066 \r\nL 744.476513 255.168376 \r\nL 744.894136 255.139448 \r\nL 745.311759 254.992893 \r\nL 745.729382 256.849119 \r\nL 746.147005 257.287064 \r\nL 747.399874 256.823274 \r\nL 747.817497 256.824557 \r\nL 748.23512 256.206904 \r\nL 748.652743 256.901144 \r\nL 750.740858 255.792888 \r\nL 751.158481 255.773164 \r\nL 751.576104 256.315423 \r\nL 751.993727 256.31872 \r\nL 753.246596 256.003893 \r\nL 753.664219 255.372978 \r\nL 754.081842 255.637258 \r\nL 754.499465 255.059327 \r\nL 754.917088 255.084623 \r\nL 756.58758 255.736477 \r\nL 757.005203 256.070609 \r\nL 757.422826 255.81586 \r\nL 757.840449 255.869406 \r\nL 759.093318 255.404451 \r\nL 759.510941 255.707048 \r\nL 759.928564 255.490992 \r\nL 760.346187 255.483707 \r\nL 760.76381 256.285775 \r\nL 762.016679 255.873392 \r\nL 762.434302 256.303033 \r\nL 762.851925 255.098055 \r\nL 763.687171 255.165627 \r\nL 764.94004 255.135646 \r\nL 765.357663 254.948662 \r\nL 766.192909 255.076976 \r\nL 767.863401 255.119939 \r\nL 768.281024 254.494216 \r\nL 769.11627 254.145235 \r\nL 769.533893 254.244834 \r\nL 771.204385 254.074334 \r\nL 771.622008 254.121895 \r\nL 772.039631 253.518911 \r\nL 772.457254 250.85326 \r\nL 773.710123 251.229052 \r\nL 774.127746 251.568203 \r\nL 774.545369 251.736641 \r\nL 774.962992 251.67748 \r\nL 775.380615 252.258581 \r\nL 776.633484 252.286059 \r\nL 777.051107 252.124161 \r\nL 777.46873 252.285076 \r\nL 777.886353 250.51089 \r\nL 778.303976 250.940753 \r\nL 779.556845 250.647296 \r\nL 779.974468 250.147655 \r\nL 780.392091 250.381077 \r\nL 780.809714 250.421748 \r\nL 781.227337 250.258368 \r\nL 782.480206 250.271252 \r\nL 782.897829 250.137282 \r\nL 783.315452 249.297012 \r\nL 784.150698 250.093479 \r\nL 785.403567 249.705251 \r\nL 785.82119 249.779471 \r\nL 786.656436 249.725264 \r\nL 788.744551 249.752199 \r\nL 789.162173 250.273967 \r\nL 789.997419 250.339935 \r\nL 791.667911 250.4498 \r\nL 792.085534 250.930153 \r\nL 792.503157 251.170645 \r\nL 792.92078 251.234127 \r\nL 794.173649 251.179601 \r\nL 794.591272 250.762418 \r\nL 797.09701 250.612636 \r\nL 797.514633 250.36126 \r\nL 797.932256 250.264295 \r\nL 798.349879 250.911578 \r\nL 800.020371 250.238731 \r\nL 800.437994 250.795929 \r\nL 800.855617 250.541514 \r\nL 801.27324 249.638002 \r\nL 803.361355 249.638829 \r\nL 803.778978 249.294861 \r\nL 804.196601 249.284127 \r\nL 804.614224 249.613142 \r\nL 805.867093 249.66441 \r\nL 806.284716 248.437101 \r\nL 806.702339 248.492808 \r\nL 807.119962 247.451311 \r\nL 807.537585 245.760755 \r\nL 808.790454 244.736932 \r\nL 809.208077 244.628622 \r\nL 809.6257 244.169961 \r\nL 810.043323 244.557325 \r\nL 810.460946 243.291324 \r\nL 811.713815 281.909449 \r\nL 812.131438 281.786446 \r\nL 812.549061 281.480362 \r\nL 812.966684 281.825142 \r\nL 813.384307 281.751865 \r\nL 814.637176 282.022993 \r\nL 815.054799 281.471165 \r\nL 815.472422 282.548631 \r\nL 815.890045 282.63232 \r\nL 816.307668 282.010127 \r\nL 817.97816 281.900805 \r\nL 818.395783 281.36553 \r\nL 818.813406 281.227506 \r\nL 819.231029 281.78206 \r\nL 821.319144 281.528277 \r\nL 821.736767 282.522047 \r\nL 822.15439 282.527226 \r\nL 823.407259 281.971273 \r\nL 824.660128 282.010673 \r\nL 825.077751 282.279516 \r\nL 826.33062 282.267824 \r\nL 827.165866 283.055707 \r\nL 828.001112 283.086674 \r\nL 829.253981 282.533848 \r\nL 829.671604 282.595733 \r\nL 830.089227 282.544509 \r\nL 830.50685 282.277512 \r\nL 830.924473 280.950932 \r\nL 832.177342 281.282132 \r\nL 832.594965 281.059906 \r\nL 833.012588 280.672251 \r\nL 833.430211 280.73804 \r\nL 833.847834 279.986944 \r\nL 835.100703 279.951018 \r\nL 835.518326 276.953132 \r\nL 835.935949 276.035878 \r\nL 836.353572 276.141297 \r\nL 836.771195 275.873981 \r\nL 838.024064 275.633628 \r\nL 838.441687 275.769306 \r\nL 838.85931 275.761721 \r\nL 839.694555 275.57527 \r\nL 840.947424 275.463292 \r\nL 841.78267 275.744434 \r\nL 841.78267 275.744434 \r\n\" style=\"fill:none;stroke:#ff7f0e;stroke-linecap:square;stroke-width:1.5;\"/>\r\n   </g>\r\n   <g id=\"patch_9\">\r\n    <path d=\"M 42.828125 300.96 \r\nL 42.828125 167.432727 \r\n\" style=\"fill:none;stroke:#000000;stroke-linecap:square;stroke-linejoin:miter;stroke-width:0.8;\"/>\r\n   </g>\r\n   <g id=\"patch_10\">\r\n    <path d=\"M 879.828125 300.96 \r\nL 879.828125 167.432727 \r\n\" style=\"fill:none;stroke:#000000;stroke-linecap:square;stroke-linejoin:miter;stroke-width:0.8;\"/>\r\n   </g>\r\n   <g id=\"patch_11\">\r\n    <path d=\"M 42.828125 300.96 \r\nL 879.828125 300.96 \r\n\" style=\"fill:none;stroke:#000000;stroke-linecap:square;stroke-linejoin:miter;stroke-width:0.8;\"/>\r\n   </g>\r\n   <g id=\"patch_12\">\r\n    <path d=\"M 42.828125 167.432727 \r\nL 879.828125 167.432727 \r\n\" style=\"fill:none;stroke:#000000;stroke-linecap:square;stroke-linejoin:miter;stroke-width:0.8;\"/>\r\n   </g>\r\n   <g id=\"legend_2\">\r\n    <g id=\"patch_13\">\r\n     <path d=\"M 797.64375 190.110852 \r\nL 872.828125 190.110852 \r\nQ 874.828125 190.110852 874.828125 188.110852 \r\nL 874.828125 174.432727 \r\nQ 874.828125 172.432727 872.828125 172.432727 \r\nL 797.64375 172.432727 \r\nQ 795.64375 172.432727 795.64375 174.432727 \r\nL 795.64375 188.110852 \r\nQ 795.64375 190.110852 797.64375 190.110852 \r\nz\r\n\" style=\"fill:#ffffff;opacity:0.8;stroke:#cccccc;stroke-linejoin:miter;\"/>\r\n    </g>\r\n    <g id=\"line2d_43\">\r\n     <path d=\"M 799.64375 180.531165 \r\nL 819.64375 180.531165 \r\n\" style=\"fill:none;stroke:#ff7f0e;stroke-linecap:square;stroke-width:1.5;\"/>\r\n    </g>\r\n    <g id=\"line2d_44\"/>\r\n    <g id=\"text_19\">\r\n     <!-- Volatility -->\r\n     <g transform=\"translate(827.64375 184.031165)scale(0.1 -0.1)\">\r\n      <defs>\r\n       <path d=\"M 28.609375 0 \r\nL 0.78125 72.90625 \r\nL 11.078125 72.90625 \r\nL 34.1875 11.53125 \r\nL 57.328125 72.90625 \r\nL 67.578125 72.90625 \r\nL 39.796875 0 \r\nz\r\n\" id=\"DejaVuSans-86\"/>\r\n       <path d=\"M 9.421875 54.6875 \r\nL 18.40625 54.6875 \r\nL 18.40625 0 \r\nL 9.421875 0 \r\nz\r\nM 9.421875 75.984375 \r\nL 18.40625 75.984375 \r\nL 18.40625 64.59375 \r\nL 9.421875 64.59375 \r\nz\r\n\" id=\"DejaVuSans-105\"/>\r\n       <path d=\"M 32.171875 -5.078125 \r\nQ 28.375 -14.84375 24.75 -17.8125 \r\nQ 21.140625 -20.796875 15.09375 -20.796875 \r\nL 7.90625 -20.796875 \r\nL 7.90625 -13.28125 \r\nL 13.1875 -13.28125 \r\nQ 16.890625 -13.28125 18.9375 -11.515625 \r\nQ 21 -9.765625 23.484375 -3.21875 \r\nL 25.09375 0.875 \r\nL 2.984375 54.6875 \r\nL 12.5 54.6875 \r\nL 29.59375 11.921875 \r\nL 46.6875 54.6875 \r\nL 56.203125 54.6875 \r\nz\r\n\" id=\"DejaVuSans-121\"/>\r\n      </defs>\r\n      <use xlink:href=\"#DejaVuSans-86\"/>\r\n      <use x=\"60.658203\" xlink:href=\"#DejaVuSans-111\"/>\r\n      <use x=\"121.839844\" xlink:href=\"#DejaVuSans-108\"/>\r\n      <use x=\"149.623047\" xlink:href=\"#DejaVuSans-97\"/>\r\n      <use x=\"210.902344\" xlink:href=\"#DejaVuSans-116\"/>\r\n      <use x=\"250.111328\" xlink:href=\"#DejaVuSans-105\"/>\r\n      <use x=\"277.894531\" xlink:href=\"#DejaVuSans-108\"/>\r\n      <use x=\"305.677734\" xlink:href=\"#DejaVuSans-105\"/>\r\n      <use x=\"333.460938\" xlink:href=\"#DejaVuSans-116\"/>\r\n      <use x=\"372.669922\" xlink:href=\"#DejaVuSans-121\"/>\r\n     </g>\r\n    </g>\r\n   </g>\r\n  </g>\r\n </g>\r\n <defs>\r\n  <clipPath id=\"p1606bbfd10\">\r\n   <rect height=\"133.527273\" width=\"837\" x=\"42.828125\" y=\"7.2\"/>\r\n  </clipPath>\r\n  <clipPath id=\"p2be0f6b711\">\r\n   <rect height=\"133.527273\" width=\"837\" x=\"42.828125\" y=\"167.432727\"/>\r\n  </clipPath>\r\n </defs>\r\n</svg>\r\n",
      "image/png": "[encoded data removed]"
     },
     "metadata": {
      "needs_background": "light"
     }
    }
   ],
   "source": [
    "google[['Close','Volatility']].plot(subplots=True, figsize=(15,6))"
   ]
  },
  {
   "source": [
    "## Set up"
   ],
   "cell_type": "markdown",
   "metadata": {}
  },
  {
   "cell_type": "code",
   "execution_count": 34,
   "metadata": {},
   "outputs": [
    {
     "output_type": "execute_result",
     "data": {
      "text/plain": [
       "'1.2.3'"
      ]
     },
     "metadata": {},
     "execution_count": 34
    }
   ],
   "source": [
    "# Numerical computing\n",
    "import numpy as np\n",
    "\n",
    "# Draw pictures!\n",
    "import matplotlib.pyplot as plt\n",
    "%matplotlib inline\n",
    "\n",
    "# Python people are weird!\n",
    "import pandas as pd\n",
    "\n",
    "# Set Jupyter notebook display options\n",
    "pd.options.display.max_rows = 8\n",
    "pd.options.display.max_columns = 8\n",
    "\n",
    "# Check version number\n",
    "pd.__version__"
   ]
  },
  {
   "source": [
    "## Creating a Series"
   ],
   "cell_type": "markdown",
   "metadata": {}
  },
  {
   "cell_type": "code",
   "execution_count": 32,
   "metadata": {},
   "outputs": [
    {
     "output_type": "stream",
     "name": "stdout",
     "text": [
      "\n\n0          gamma Cep b\n1          HD 114762 b\n2       PSR B1257+12 B\n3       PSR B1257+12 A\n4           beta Gem b\n             ...      \n1637         HD 5319 c\n1638         WASP-89 b\n1639         HD 1666 b\n1640        HD 95127 b\n1641      Kepler-432 c\nName: NAME, Length: 1642, dtype: object\n\n\n<class 'pandas.core.series.Series'>\n"
     ]
    }
   ],
   "source": [
    "# Example: Creating a Series from a data column from file\n",
    "file   = \"strata_data/data/exoplanets.csv\"\n",
    "data   = pd.read_csv(file)\n",
    "series = data['NAME']\n",
    "\n",
    "print( \"\\n\" )\n",
    "print( series )\n",
    "\n",
    "print( \"\\n\" )\n",
    "print( type( series ) )"
   ]
  },
  {
   "cell_type": "code",
   "execution_count": 35,
   "metadata": {},
   "outputs": [
    {
     "output_type": "execute_result",
     "data": {
      "text/plain": [
       "0     5\n",
       "1    10\n",
       "2    15\n",
       "3    20\n",
       "4    25\n",
       "dtype: int64"
      ]
     },
     "metadata": {},
     "execution_count": 35
    }
   ],
   "source": [
    "# Example: Creating a Series a list\n",
    "new_list = [5,10,15,20,25]\n",
    "pd.Series(new_list)"
   ]
  },
  {
   "cell_type": "code",
   "execution_count": 36,
   "metadata": {},
   "outputs": [
    {
     "output_type": "execute_result",
     "data": {
      "text/plain": [
       "b    100.0\n",
       "a    200.0\n",
       "d    450.0\n",
       "c    700.0\n",
       "dtype: float64"
      ]
     },
     "metadata": {},
     "execution_count": 36
    }
   ],
   "source": [
    "# Example: Creating a Series from a dictionary... index will be sorted\n",
    "new_dictionary = {'b': 100, 'a': 200.0, 'd':450, 'c':700}\n",
    "pd.Series(new_dictionary)"
   ]
  },
  {
   "source": [
    "# Example: Creating a Series from an ORDERED dictionary\n",
    "#          ... to preserver order of the indices.\n",
    "from collections import OrderedDict\n",
    "od = OrderedDict([('b', 100), ('a',200), ('d',450), ('c',700)])\n",
    "pd.Series(od)"
   ],
   "cell_type": "code",
   "metadata": {},
   "execution_count": 37,
   "outputs": [
    {
     "output_type": "execute_result",
     "data": {
      "text/plain": [
       "b    100\n",
       "a    200\n",
       "d    450\n",
       "c    700\n",
       "dtype: int64"
      ]
     },
     "metadata": {},
     "execution_count": 37
    }
   ]
  },
  {
   "cell_type": "code",
   "execution_count": 38,
   "metadata": {},
   "outputs": [
    {
     "output_type": "stream",
     "name": "stdout",
     "text": [
      "\n\n[10. 20. 30. 40. 50.]\n<class 'numpy.ndarray'>\n\n\n0    10.0\n1    20.0\n2    30.0\n3    40.0\n4    50.0\ndtype: float64\n<class 'pandas.core.series.Series'>\n"
     ]
    }
   ],
   "source": [
    "# Example: Creating a Series from a NumPy array\n",
    "\n",
    "array1  = np.arange(1,6)*10.0\n",
    "series1 = pd.Series(array1)\n",
    "\n",
    "print( \"\\n\" )\n",
    "print( array1 )\n",
    "print( type(array1) )\n",
    "\n",
    "print( \"\\n\" )\n",
    "print( series1 )\n",
    "print( type(series1) )"
   ]
  },
  {
   "source": [
    "## Pandas Index"
   ],
   "cell_type": "markdown",
   "metadata": {}
  },
  {
   "cell_type": "code",
   "execution_count": 44,
   "metadata": {},
   "outputs": [
    {
     "output_type": "execute_result",
     "data": {
      "text/plain": [
       "RangeIndex(start=0, stop=5, step=1)"
      ]
     },
     "metadata": {},
     "execution_count": 44
    }
   ],
   "source": [
    "# The default Index is just a sequence of integers:\n",
    "array1  = np.arange(1,6)*10.0\n",
    "series1 = pd.Series(array1)\n",
    "\n",
    "series1.index"
   ]
  },
  {
   "cell_type": "code",
   "execution_count": 45,
   "metadata": {},
   "outputs": [
    {
     "output_type": "stream",
     "name": "stdout",
     "text": [
      "10.0\n"
     ]
    }
   ],
   "source": [
    "# The Index is used for indexing\n",
    "\n",
    "print( series1.iloc[0] )  # \"Positional\" indexing"
   ]
  },
  {
   "cell_type": "code",
   "execution_count": 49,
   "metadata": {},
   "outputs": [],
   "source": [
    "# The Index can be set to a sequence of labels:\n",
    "\n",
    "index2 = ['a','b','c','d','a']\n",
    "series2 = pd.Series(np.arange(1,6)*10.0, index=index2)"
   ]
  },
  {
   "cell_type": "code",
   "execution_count": 47,
   "metadata": {},
   "outputs": [
    {
     "output_type": "execute_result",
     "data": {
      "text/plain": [
       "a    10.0\n",
       "a    50.0\n",
       "dtype: float64"
      ]
     },
     "metadata": {},
     "execution_count": 47
    }
   ],
   "source": [
    "# Indexing when the label is not unique?\n",
    "\n",
    "series2.loc['a']"
   ]
  },
  {
   "source": [
    "## Iterating over a series"
   ],
   "cell_type": "markdown",
   "metadata": {}
  },
  {
   "cell_type": "code",
   "execution_count": 50,
   "metadata": {},
   "outputs": [
    {
     "output_type": "stream",
     "name": "stdout",
     "text": [
      "a 10.0\nb 20.0\nc 30.0\nd 40.0\na 50.0\n"
     ]
    }
   ],
   "source": [
    "for key, value in series2.iteritems():\n",
    "    print(key, value)"
   ]
  },
  {
   "source": [
    "## Slicing"
   ],
   "cell_type": "markdown",
   "metadata": {}
  },
  {
   "cell_type": "code",
   "execution_count": 51,
   "metadata": {},
   "outputs": [
    {
     "output_type": "execute_result",
     "data": {
      "text/plain": [
       "1    20.0\n",
       "2    30.0\n",
       "dtype: float64"
      ]
     },
     "metadata": {},
     "execution_count": 51
    }
   ],
   "source": [
    "# Positional indexing and slicing\n",
    "\n",
    "series1.iloc[1:3]"
   ]
  },
  {
   "cell_type": "code",
   "execution_count": 52,
   "metadata": {},
   "outputs": [
    {
     "output_type": "stream",
     "name": "stdout",
     "text": [
      "b    20.0\ndtype: float64\n\n\nb    20.0\nc    30.0\ndtype: float64\n"
     ]
    }
   ],
   "source": [
    "# Be careful when slicing with integers versus labels\n",
    "\n",
    "print( series2.iloc[1:2]     )  # Positional indexing is permitted with slicing\n",
    "print(\"\\n\")\n",
    "print( series2.loc['b':'c'] )  # Ranges of labels can be sliced (slicing here is *inclusive*)"
   ]
  },
  {
   "cell_type": "code",
   "execution_count": 53,
   "metadata": {},
   "outputs": [
    {
     "output_type": "execute_result",
     "data": {
      "text/plain": [
       "a    50.0\n",
       "dtype: float64"
      ]
     },
     "metadata": {},
     "execution_count": 53
    }
   ],
   "source": [
    "# Example: slice from the end\n",
    "series2.iloc[-1:]"
   ]
  },
  {
   "cell_type": "code",
   "execution_count": 54,
   "metadata": {},
   "outputs": [
    {
     "output_type": "execute_result",
     "data": {
      "text/plain": [
       "a    10.0\n",
       "b    20.0\n",
       "dtype: float64"
      ]
     },
     "metadata": {},
     "execution_count": 54
    }
   ],
   "source": [
    "# Example: slice from the beginning\n",
    "series2.iloc[:-3]"
   ]
  },
  {
   "cell_type": "code",
   "execution_count": 55,
   "metadata": {},
   "outputs": [
    {
     "output_type": "execute_result",
     "data": {
      "text/plain": [
       "d    40.0\n",
       "b    20.0\n",
       "dtype: float64"
      ]
     },
     "metadata": {},
     "execution_count": 55
    }
   ],
   "source": [
    "# Example: slice with labels, but with integer step size\n",
    "series2.loc['d':'b':-2]"
   ]
  },
  {
   "source": [
    "## Series arithmetic"
   ],
   "cell_type": "markdown",
   "metadata": {}
  },
  {
   "cell_type": "code",
   "execution_count": 56,
   "metadata": {},
   "outputs": [
    {
     "output_type": "stream",
     "name": "stdout",
     "text": [
      "0    10.0\n1    20.0\n2    30.0\n3    40.0\n4    50.0\ndtype: float64\n0     20.0\n1     40.0\n2     60.0\n3     80.0\n4    100.0\ndtype: float64\n0     60.0\n1    120.0\n2    180.0\n3    240.0\n4    300.0\ndtype: float64\n"
     ]
    }
   ],
   "source": [
    "# Arithmetic with Series is as with numpy arrays\n",
    "print(series1)\n",
    "\n",
    "series2 = series1 * 2 \n",
    "print(series2)\n",
    "\n",
    "series3 = series2 * 3\n",
    "print(series3)"
   ]
  },
  {
   "source": [
    "## Series with NumPy"
   ],
   "cell_type": "markdown",
   "metadata": {}
  },
  {
   "cell_type": "code",
   "execution_count": 57,
   "metadata": {},
   "outputs": [
    {
     "output_type": "execute_result",
     "data": {
      "text/plain": [
       "0    -3.141593\n",
       "1    -3.078126\n",
       "2    -3.014660\n",
       "3    -2.951193\n",
       "        ...   \n",
       "96    2.951193\n",
       "97    3.014660\n",
       "98    3.078126\n",
       "99    3.141593\n",
       "Length: 100, dtype: float64"
      ]
     },
     "metadata": {},
     "execution_count": 57
    }
   ],
   "source": [
    "# numpy ufuncs can be applied elementwise to Series\n",
    "\n",
    "series_2pi = pd.Series( np.linspace(-1*np.pi, +1*np.pi, 100) )\n",
    "series_2pi"
   ]
  },
  {
   "cell_type": "code",
   "execution_count": 58,
   "metadata": {},
   "outputs": [
    {
     "output_type": "stream",
     "name": "stdout",
     "text": [
      "0    -1.224647e-16\n1    -6.342392e-02\n2    -1.265925e-01\n3    -1.892512e-01\n          ...     \n96    1.892512e-01\n97    1.265925e-01\n98    6.342392e-02\n99    1.224647e-16\nLength: 100, dtype: float64\n<class 'pandas.core.series.Series'>\n"
     ]
    }
   ],
   "source": [
    "# Even though pandas was built on numpy, numpy methods on Series return a Series\n",
    "\n",
    "series_sin = np.sin( series_2pi )\n",
    "print( series_sin )\n",
    "print( type( series_sin ) )"
   ]
  },
  {
   "source": [
    "## Series with Matplotlib"
   ],
   "cell_type": "markdown",
   "metadata": {}
  },
  {
   "cell_type": "code",
   "execution_count": 59,
   "metadata": {},
   "outputs": [
    {
     "output_type": "execute_result",
     "data": {
      "text/plain": [
       "[<matplotlib.lines.Line2D at 0x16da88d7be0>]"
      ]
     },
     "metadata": {},
     "execution_count": 59
    },
    {
     "output_type": "display_data",
     "data": {
      "text/plain": "<Figure size 432x288 with 1 Axes>",
      "image/svg+xml": "<?xml version=\"1.0\" encoding=\"utf-8\" standalone=\"no\"?>\r\n<!DOCTYPE svg PUBLIC \"-//W3C//DTD SVG 1.1//EN\"\r\n  \"http://www.w3.org/Graphics/SVG/1.1/DTD/svg11.dtd\">\r\n<!-- Created with matplotlib (https://matplotlib.org/) -->\r\n<svg height=\"248.518125pt\" version=\"1.1\" viewBox=\"0 0 386.845312 248.518125\" width=\"386.845312pt\" xmlns=\"http://www.w3.org/2000/svg\" xmlns:xlink=\"http://www.w3.org/1999/xlink\">\r\n <metadata>\r\n  <rdf:RDF xmlns:cc=\"http://creativecommons.org/ns#\" xmlns:dc=\"http://purl.org/dc/elements/1.1/\" xmlns:rdf=\"http://www.w3.org/1999/02/22-rdf-syntax-ns#\">\r\n   <cc:Work>\r\n    <dc:type rdf:resource=\"http://purl.org/dc/dcmitype/StillImage\"/>\r\n    <dc:date>2021-04-08T14:06:05.442729</dc:date>\r\n    <dc:format>image/svg+xml</dc:format>\r\n    <dc:creator>\r\n     <cc:Agent>\r\n      <dc:title>Matplotlib v3.3.2, https://matplotlib.org/</dc:title>\r\n     </cc:Agent>\r\n    </dc:creator>\r\n   </cc:Work>\r\n  </rdf:RDF>\r\n </metadata>\r\n <defs>\r\n  <style type=\"text/css\">*{stroke-linecap:butt;stroke-linejoin:round;}</style>\r\n </defs>\r\n <g id=\"figure_1\">\r\n  <g id=\"patch_1\">\r\n   <path d=\"M 0 248.518125 \r\nL 386.845312 248.518125 \r\nL 386.845312 0 \r\nL 0 0 \r\nz\r\n\" style=\"fill:none;\"/>\r\n  </g>\r\n  <g id=\"axes_1\">\r\n   <g id=\"patch_2\">\r\n    <path d=\"M 44.845313 224.64 \r\nL 379.645313 224.64 \r\nL 379.645313 7.2 \r\nL 44.845313 7.2 \r\nz\r\n\" style=\"fill:#ffffff;\"/>\r\n   </g>\r\n   <g id=\"matplotlib.axis_1\">\r\n    <g id=\"xtick_1\">\r\n     <g id=\"line2d_1\">\r\n      <defs>\r\n       <path d=\"M 0 0 \r\nL 0 3.5 \r\n\" id=\"m8ee7f7bd75\" style=\"stroke:#000000;stroke-width:0.8;\"/>\r\n      </defs>\r\n      <g>\r\n       <use style=\"stroke:#000000;stroke-width:0.8;\" x=\"66.922381\" xlink:href=\"#m8ee7f7bd75\" y=\"224.64\"/>\r\n      </g>\r\n     </g>\r\n     <g id=\"text_1\">\r\n      <!-- −3 -->\r\n      <g transform=\"translate(59.551287 239.238437)scale(0.1 -0.1)\">\r\n       <defs>\r\n        <path d=\"M 10.59375 35.5 \r\nL 73.1875 35.5 \r\nL 73.1875 27.203125 \r\nL 10.59375 27.203125 \r\nz\r\n\" id=\"DejaVuSans-8722\"/>\r\n        <path d=\"M 40.578125 39.3125 \r\nQ 47.65625 37.796875 51.625 33 \r\nQ 55.609375 28.21875 55.609375 21.1875 \r\nQ 55.609375 10.40625 48.1875 4.484375 \r\nQ 40.765625 -1.421875 27.09375 -1.421875 \r\nQ 22.515625 -1.421875 17.65625 -0.515625 \r\nQ 12.796875 0.390625 7.625 2.203125 \r\nL 7.625 11.71875 \r\nQ 11.71875 9.328125 16.59375 8.109375 \r\nQ 21.484375 6.890625 26.8125 6.890625 \r\nQ 36.078125 6.890625 40.9375 10.546875 \r\nQ 45.796875 14.203125 45.796875 21.1875 \r\nQ 45.796875 27.640625 41.28125 31.265625 \r\nQ 36.765625 34.90625 28.71875 34.90625 \r\nL 20.21875 34.90625 \r\nL 20.21875 43.015625 \r\nL 29.109375 43.015625 \r\nQ 36.375 43.015625 40.234375 45.921875 \r\nQ 44.09375 48.828125 44.09375 54.296875 \r\nQ 44.09375 59.90625 40.109375 62.90625 \r\nQ 36.140625 65.921875 28.71875 65.921875 \r\nQ 24.65625 65.921875 20.015625 65.03125 \r\nQ 15.375 64.15625 9.8125 62.3125 \r\nL 9.8125 71.09375 \r\nQ 15.4375 72.65625 20.34375 73.4375 \r\nQ 25.25 74.21875 29.59375 74.21875 \r\nQ 40.828125 74.21875 47.359375 69.109375 \r\nQ 53.90625 64.015625 53.90625 55.328125 \r\nQ 53.90625 49.265625 50.4375 45.09375 \r\nQ 46.96875 40.921875 40.578125 39.3125 \r\nz\r\n\" id=\"DejaVuSans-51\"/>\r\n       </defs>\r\n       <use xlink:href=\"#DejaVuSans-8722\"/>\r\n       <use x=\"83.789062\" xlink:href=\"#DejaVuSans-51\"/>\r\n      </g>\r\n     </g>\r\n    </g>\r\n    <g id=\"xtick_2\">\r\n     <g id=\"line2d_2\">\r\n      <g>\r\n       <use style=\"stroke:#000000;stroke-width:0.8;\" x=\"115.363358\" xlink:href=\"#m8ee7f7bd75\" y=\"224.64\"/>\r\n      </g>\r\n     </g>\r\n     <g id=\"text_2\">\r\n      <!-- −2 -->\r\n      <g transform=\"translate(107.992264 239.238437)scale(0.1 -0.1)\">\r\n       <defs>\r\n        <path d=\"M 19.1875 8.296875 \r\nL 53.609375 8.296875 \r\nL 53.609375 0 \r\nL 7.328125 0 \r\nL 7.328125 8.296875 \r\nQ 12.9375 14.109375 22.625 23.890625 \r\nQ 32.328125 33.6875 34.8125 36.53125 \r\nQ 39.546875 41.84375 41.421875 45.53125 \r\nQ 43.3125 49.21875 43.3125 52.78125 \r\nQ 43.3125 58.59375 39.234375 62.25 \r\nQ 35.15625 65.921875 28.609375 65.921875 \r\nQ 23.96875 65.921875 18.8125 64.3125 \r\nQ 13.671875 62.703125 7.8125 59.421875 \r\nL 7.8125 69.390625 \r\nQ 13.765625 71.78125 18.9375 73 \r\nQ 24.125 74.21875 28.421875 74.21875 \r\nQ 39.75 74.21875 46.484375 68.546875 \r\nQ 53.21875 62.890625 53.21875 53.421875 \r\nQ 53.21875 48.921875 51.53125 44.890625 \r\nQ 49.859375 40.875 45.40625 35.40625 \r\nQ 44.1875 33.984375 37.640625 27.21875 \r\nQ 31.109375 20.453125 19.1875 8.296875 \r\nz\r\n\" id=\"DejaVuSans-50\"/>\r\n       </defs>\r\n       <use xlink:href=\"#DejaVuSans-8722\"/>\r\n       <use x=\"83.789062\" xlink:href=\"#DejaVuSans-50\"/>\r\n      </g>\r\n     </g>\r\n    </g>\r\n    <g id=\"xtick_3\">\r\n     <g id=\"line2d_3\">\r\n      <g>\r\n       <use style=\"stroke:#000000;stroke-width:0.8;\" x=\"163.804335\" xlink:href=\"#m8ee7f7bd75\" y=\"224.64\"/>\r\n      </g>\r\n     </g>\r\n     <g id=\"text_3\">\r\n      <!-- −1 -->\r\n      <g transform=\"translate(156.433242 239.238437)scale(0.1 -0.1)\">\r\n       <defs>\r\n        <path d=\"M 12.40625 8.296875 \r\nL 28.515625 8.296875 \r\nL 28.515625 63.921875 \r\nL 10.984375 60.40625 \r\nL 10.984375 69.390625 \r\nL 28.421875 72.90625 \r\nL 38.28125 72.90625 \r\nL 38.28125 8.296875 \r\nL 54.390625 8.296875 \r\nL 54.390625 0 \r\nL 12.40625 0 \r\nz\r\n\" id=\"DejaVuSans-49\"/>\r\n       </defs>\r\n       <use xlink:href=\"#DejaVuSans-8722\"/>\r\n       <use x=\"83.789062\" xlink:href=\"#DejaVuSans-49\"/>\r\n      </g>\r\n     </g>\r\n    </g>\r\n    <g id=\"xtick_4\">\r\n     <g id=\"line2d_4\">\r\n      <g>\r\n       <use style=\"stroke:#000000;stroke-width:0.8;\" x=\"212.245313\" xlink:href=\"#m8ee7f7bd75\" y=\"224.64\"/>\r\n      </g>\r\n     </g>\r\n     <g id=\"text_4\">\r\n      <!-- 0 -->\r\n      <g transform=\"translate(209.064063 239.238437)scale(0.1 -0.1)\">\r\n       <defs>\r\n        <path d=\"M 31.78125 66.40625 \r\nQ 24.171875 66.40625 20.328125 58.90625 \r\nQ 16.5 51.421875 16.5 36.375 \r\nQ 16.5 21.390625 20.328125 13.890625 \r\nQ 24.171875 6.390625 31.78125 6.390625 \r\nQ 39.453125 6.390625 43.28125 13.890625 \r\nQ 47.125 21.390625 47.125 36.375 \r\nQ 47.125 51.421875 43.28125 58.90625 \r\nQ 39.453125 66.40625 31.78125 66.40625 \r\nz\r\nM 31.78125 74.21875 \r\nQ 44.046875 74.21875 50.515625 64.515625 \r\nQ 56.984375 54.828125 56.984375 36.375 \r\nQ 56.984375 17.96875 50.515625 8.265625 \r\nQ 44.046875 -1.421875 31.78125 -1.421875 \r\nQ 19.53125 -1.421875 13.0625 8.265625 \r\nQ 6.59375 17.96875 6.59375 36.375 \r\nQ 6.59375 54.828125 13.0625 64.515625 \r\nQ 19.53125 74.21875 31.78125 74.21875 \r\nz\r\n\" id=\"DejaVuSans-48\"/>\r\n       </defs>\r\n       <use xlink:href=\"#DejaVuSans-48\"/>\r\n      </g>\r\n     </g>\r\n    </g>\r\n    <g id=\"xtick_5\">\r\n     <g id=\"line2d_5\">\r\n      <g>\r\n       <use style=\"stroke:#000000;stroke-width:0.8;\" x=\"260.68629\" xlink:href=\"#m8ee7f7bd75\" y=\"224.64\"/>\r\n      </g>\r\n     </g>\r\n     <g id=\"text_5\">\r\n      <!-- 1 -->\r\n      <g transform=\"translate(257.50504 239.238437)scale(0.1 -0.1)\">\r\n       <use xlink:href=\"#DejaVuSans-49\"/>\r\n      </g>\r\n     </g>\r\n    </g>\r\n    <g id=\"xtick_6\">\r\n     <g id=\"line2d_6\">\r\n      <g>\r\n       <use style=\"stroke:#000000;stroke-width:0.8;\" x=\"309.127267\" xlink:href=\"#m8ee7f7bd75\" y=\"224.64\"/>\r\n      </g>\r\n     </g>\r\n     <g id=\"text_6\">\r\n      <!-- 2 -->\r\n      <g transform=\"translate(305.946017 239.238437)scale(0.1 -0.1)\">\r\n       <use xlink:href=\"#DejaVuSans-50\"/>\r\n      </g>\r\n     </g>\r\n    </g>\r\n    <g id=\"xtick_7\">\r\n     <g id=\"line2d_7\">\r\n      <g>\r\n       <use style=\"stroke:#000000;stroke-width:0.8;\" x=\"357.568244\" xlink:href=\"#m8ee7f7bd75\" y=\"224.64\"/>\r\n      </g>\r\n     </g>\r\n     <g id=\"text_7\">\r\n      <!-- 3 -->\r\n      <g transform=\"translate(354.386994 239.238437)scale(0.1 -0.1)\">\r\n       <use xlink:href=\"#DejaVuSans-51\"/>\r\n      </g>\r\n     </g>\r\n    </g>\r\n   </g>\r\n   <g id=\"matplotlib.axis_2\">\r\n    <g id=\"ytick_1\">\r\n     <g id=\"line2d_8\">\r\n      <defs>\r\n       <path d=\"M 0 0 \r\nL -3.5 0 \r\n\" id=\"mcd0b11ac47\" style=\"stroke:#000000;stroke-width:0.8;\"/>\r\n      </defs>\r\n      <g>\r\n       <use style=\"stroke:#000000;stroke-width:0.8;\" x=\"44.845313\" xlink:href=\"#mcd0b11ac47\" y=\"214.768806\"/>\r\n      </g>\r\n     </g>\r\n     <g id=\"text_8\">\r\n      <!-- −1.00 -->\r\n      <g transform=\"translate(7.2 218.568025)scale(0.1 -0.1)\">\r\n       <defs>\r\n        <path d=\"M 10.6875 12.40625 \r\nL 21 12.40625 \r\nL 21 0 \r\nL 10.6875 0 \r\nz\r\n\" id=\"DejaVuSans-46\"/>\r\n       </defs>\r\n       <use xlink:href=\"#DejaVuSans-8722\"/>\r\n       <use x=\"83.789062\" xlink:href=\"#DejaVuSans-49\"/>\r\n       <use x=\"147.412109\" xlink:href=\"#DejaVuSans-46\"/>\r\n       <use x=\"179.199219\" xlink:href=\"#DejaVuSans-48\"/>\r\n       <use x=\"242.822266\" xlink:href=\"#DejaVuSans-48\"/>\r\n      </g>\r\n     </g>\r\n    </g>\r\n    <g id=\"ytick_2\">\r\n     <g id=\"line2d_9\">\r\n      <g>\r\n       <use style=\"stroke:#000000;stroke-width:0.8;\" x=\"44.845313\" xlink:href=\"#mcd0b11ac47\" y=\"190.056604\"/>\r\n      </g>\r\n     </g>\r\n     <g id=\"text_9\">\r\n      <!-- −0.75 -->\r\n      <g transform=\"translate(7.2 193.855823)scale(0.1 -0.1)\">\r\n       <defs>\r\n        <path d=\"M 8.203125 72.90625 \r\nL 55.078125 72.90625 \r\nL 55.078125 68.703125 \r\nL 28.609375 0 \r\nL 18.3125 0 \r\nL 43.21875 64.59375 \r\nL 8.203125 64.59375 \r\nz\r\n\" id=\"DejaVuSans-55\"/>\r\n        <path d=\"M 10.796875 72.90625 \r\nL 49.515625 72.90625 \r\nL 49.515625 64.59375 \r\nL 19.828125 64.59375 \r\nL 19.828125 46.734375 \r\nQ 21.96875 47.46875 24.109375 47.828125 \r\nQ 26.265625 48.1875 28.421875 48.1875 \r\nQ 40.625 48.1875 47.75 41.5 \r\nQ 54.890625 34.8125 54.890625 23.390625 \r\nQ 54.890625 11.625 47.5625 5.09375 \r\nQ 40.234375 -1.421875 26.90625 -1.421875 \r\nQ 22.3125 -1.421875 17.546875 -0.640625 \r\nQ 12.796875 0.140625 7.71875 1.703125 \r\nL 7.71875 11.625 \r\nQ 12.109375 9.234375 16.796875 8.0625 \r\nQ 21.484375 6.890625 26.703125 6.890625 \r\nQ 35.15625 6.890625 40.078125 11.328125 \r\nQ 45.015625 15.765625 45.015625 23.390625 \r\nQ 45.015625 31 40.078125 35.4375 \r\nQ 35.15625 39.890625 26.703125 39.890625 \r\nQ 22.75 39.890625 18.8125 39.015625 \r\nQ 14.890625 38.140625 10.796875 36.28125 \r\nz\r\n\" id=\"DejaVuSans-53\"/>\r\n       </defs>\r\n       <use xlink:href=\"#DejaVuSans-8722\"/>\r\n       <use x=\"83.789062\" xlink:href=\"#DejaVuSans-48\"/>\r\n       <use x=\"147.412109\" xlink:href=\"#DejaVuSans-46\"/>\r\n       <use x=\"179.199219\" xlink:href=\"#DejaVuSans-55\"/>\r\n       <use x=\"242.822266\" xlink:href=\"#DejaVuSans-53\"/>\r\n      </g>\r\n     </g>\r\n    </g>\r\n    <g id=\"ytick_3\">\r\n     <g id=\"line2d_10\">\r\n      <g>\r\n       <use style=\"stroke:#000000;stroke-width:0.8;\" x=\"44.845313\" xlink:href=\"#mcd0b11ac47\" y=\"165.344403\"/>\r\n      </g>\r\n     </g>\r\n     <g id=\"text_10\">\r\n      <!-- −0.50 -->\r\n      <g transform=\"translate(7.2 169.143622)scale(0.1 -0.1)\">\r\n       <use xlink:href=\"#DejaVuSans-8722\"/>\r\n       <use x=\"83.789062\" xlink:href=\"#DejaVuSans-48\"/>\r\n       <use x=\"147.412109\" xlink:href=\"#DejaVuSans-46\"/>\r\n       <use x=\"179.199219\" xlink:href=\"#DejaVuSans-53\"/>\r\n       <use x=\"242.822266\" xlink:href=\"#DejaVuSans-48\"/>\r\n      </g>\r\n     </g>\r\n    </g>\r\n    <g id=\"ytick_4\">\r\n     <g id=\"line2d_11\">\r\n      <g>\r\n       <use style=\"stroke:#000000;stroke-width:0.8;\" x=\"44.845313\" xlink:href=\"#mcd0b11ac47\" y=\"140.632201\"/>\r\n      </g>\r\n     </g>\r\n     <g id=\"text_11\">\r\n      <!-- −0.25 -->\r\n      <g transform=\"translate(7.2 144.43142)scale(0.1 -0.1)\">\r\n       <use xlink:href=\"#DejaVuSans-8722\"/>\r\n       <use x=\"83.789062\" xlink:href=\"#DejaVuSans-48\"/>\r\n       <use x=\"147.412109\" xlink:href=\"#DejaVuSans-46\"/>\r\n       <use x=\"179.199219\" xlink:href=\"#DejaVuSans-50\"/>\r\n       <use x=\"242.822266\" xlink:href=\"#DejaVuSans-53\"/>\r\n      </g>\r\n     </g>\r\n    </g>\r\n    <g id=\"ytick_5\">\r\n     <g id=\"line2d_12\">\r\n      <g>\r\n       <use style=\"stroke:#000000;stroke-width:0.8;\" x=\"44.845313\" xlink:href=\"#mcd0b11ac47\" y=\"115.92\"/>\r\n      </g>\r\n     </g>\r\n     <g id=\"text_12\">\r\n      <!-- 0.00 -->\r\n      <g transform=\"translate(15.579688 119.719219)scale(0.1 -0.1)\">\r\n       <use xlink:href=\"#DejaVuSans-48\"/>\r\n       <use x=\"63.623047\" xlink:href=\"#DejaVuSans-46\"/>\r\n       <use x=\"95.410156\" xlink:href=\"#DejaVuSans-48\"/>\r\n       <use x=\"159.033203\" xlink:href=\"#DejaVuSans-48\"/>\r\n      </g>\r\n     </g>\r\n    </g>\r\n    <g id=\"ytick_6\">\r\n     <g id=\"line2d_13\">\r\n      <g>\r\n       <use style=\"stroke:#000000;stroke-width:0.8;\" x=\"44.845313\" xlink:href=\"#mcd0b11ac47\" y=\"91.207799\"/>\r\n      </g>\r\n     </g>\r\n     <g id=\"text_13\">\r\n      <!-- 0.25 -->\r\n      <g transform=\"translate(15.579688 95.007017)scale(0.1 -0.1)\">\r\n       <use xlink:href=\"#DejaVuSans-48\"/>\r\n       <use x=\"63.623047\" xlink:href=\"#DejaVuSans-46\"/>\r\n       <use x=\"95.410156\" xlink:href=\"#DejaVuSans-50\"/>\r\n       <use x=\"159.033203\" xlink:href=\"#DejaVuSans-53\"/>\r\n      </g>\r\n     </g>\r\n    </g>\r\n    <g id=\"ytick_7\">\r\n     <g id=\"line2d_14\">\r\n      <g>\r\n       <use style=\"stroke:#000000;stroke-width:0.8;\" x=\"44.845313\" xlink:href=\"#mcd0b11ac47\" y=\"66.495597\"/>\r\n      </g>\r\n     </g>\r\n     <g id=\"text_14\">\r\n      <!-- 0.50 -->\r\n      <g transform=\"translate(15.579688 70.294816)scale(0.1 -0.1)\">\r\n       <use xlink:href=\"#DejaVuSans-48\"/>\r\n       <use x=\"63.623047\" xlink:href=\"#DejaVuSans-46\"/>\r\n       <use x=\"95.410156\" xlink:href=\"#DejaVuSans-53\"/>\r\n       <use x=\"159.033203\" xlink:href=\"#DejaVuSans-48\"/>\r\n      </g>\r\n     </g>\r\n    </g>\r\n    <g id=\"ytick_8\">\r\n     <g id=\"line2d_15\">\r\n      <g>\r\n       <use style=\"stroke:#000000;stroke-width:0.8;\" x=\"44.845313\" xlink:href=\"#mcd0b11ac47\" y=\"41.783396\"/>\r\n      </g>\r\n     </g>\r\n     <g id=\"text_15\">\r\n      <!-- 0.75 -->\r\n      <g transform=\"translate(15.579688 45.582614)scale(0.1 -0.1)\">\r\n       <use xlink:href=\"#DejaVuSans-48\"/>\r\n       <use x=\"63.623047\" xlink:href=\"#DejaVuSans-46\"/>\r\n       <use x=\"95.410156\" xlink:href=\"#DejaVuSans-55\"/>\r\n       <use x=\"159.033203\" xlink:href=\"#DejaVuSans-53\"/>\r\n      </g>\r\n     </g>\r\n    </g>\r\n    <g id=\"ytick_9\">\r\n     <g id=\"line2d_16\">\r\n      <g>\r\n       <use style=\"stroke:#000000;stroke-width:0.8;\" x=\"44.845313\" xlink:href=\"#mcd0b11ac47\" y=\"17.071194\"/>\r\n      </g>\r\n     </g>\r\n     <g id=\"text_16\">\r\n      <!-- 1.00 -->\r\n      <g transform=\"translate(15.579688 20.870413)scale(0.1 -0.1)\">\r\n       <use xlink:href=\"#DejaVuSans-49\"/>\r\n       <use x=\"63.623047\" xlink:href=\"#DejaVuSans-46\"/>\r\n       <use x=\"95.410156\" xlink:href=\"#DejaVuSans-48\"/>\r\n       <use x=\"159.033203\" xlink:href=\"#DejaVuSans-48\"/>\r\n      </g>\r\n     </g>\r\n    </g>\r\n   </g>\r\n   <g id=\"line2d_17\">\r\n    <path clip-path=\"url(#p0641b209e7)\" d=\"M 60.063494 115.92 \r\nL 63.137874 122.189379 \r\nL 66.212255 128.433513 \r\nL 69.286635 134.62726 \r\nL 72.361015 140.745679 \r\nL 75.435395 146.764134 \r\nL 78.509775 152.65839 \r\nL 81.584155 158.404714 \r\nL 84.658536 163.979967 \r\nL 87.732916 169.361699 \r\nL 90.807296 174.528241 \r\nL 93.881676 179.458788 \r\nL 96.956056 184.133486 \r\nL 100.030436 188.533513 \r\nL 103.104817 192.641151 \r\nL 106.179197 196.43986 \r\nL 109.253577 199.914344 \r\nL 112.327957 203.050612 \r\nL 115.402337 205.836037 \r\nL 118.476717 208.259401 \r\nL 121.551098 210.310946 \r\nL 124.625478 211.982413 \r\nL 127.699858 213.26707 \r\nL 130.774238 214.159746 \r\nL 133.848618 214.656844 \r\nL 136.922998 214.756364 \r\nL 139.997379 214.457904 \r\nL 143.071759 213.762668 \r\nL 146.146139 212.673453 \r\nL 149.220519 211.194647 \r\nL 152.294899 209.332203 \r\nL 155.369279 207.093621 \r\nL 158.44366 204.487915 \r\nL 161.51804 201.525577 \r\nL 164.59242 198.218536 \r\nL 167.6668 194.580108 \r\nL 170.74118 190.624943 \r\nL 173.81556 186.368968 \r\nL 176.889941 181.82932 \r\nL 179.964321 177.024278 \r\nL 183.038701 171.97319 \r\nL 186.113081 166.696397 \r\nL 189.187461 161.215145 \r\nL 192.261841 155.551505 \r\nL 195.336222 149.728283 \r\nL 198.410602 143.768927 \r\nL 201.484982 137.697433 \r\nL 204.559362 131.538249 \r\nL 207.633742 125.316176 \r\nL 210.708122 119.056268 \r\nL 213.782503 112.783732 \r\nL 216.856883 106.523824 \r\nL 219.931263 100.301751 \r\nL 223.005643 94.142567 \r\nL 226.080023 88.071073 \r\nL 229.154403 82.111717 \r\nL 232.228784 76.288495 \r\nL 235.303164 70.624855 \r\nL 238.377544 65.143603 \r\nL 241.451924 59.86681 \r\nL 244.526304 54.815722 \r\nL 247.600684 50.01068 \r\nL 250.675065 45.471032 \r\nL 253.749445 41.215057 \r\nL 256.823825 37.259892 \r\nL 259.898205 33.621464 \r\nL 262.972585 30.314423 \r\nL 266.046965 27.352085 \r\nL 269.121346 24.746379 \r\nL 272.195726 22.507797 \r\nL 275.270106 20.645353 \r\nL 278.344486 19.166547 \r\nL 281.418866 18.077332 \r\nL 284.493246 17.382096 \r\nL 287.567627 17.083636 \r\nL 290.642007 17.183156 \r\nL 293.716387 17.680254 \r\nL 296.790767 18.57293 \r\nL 299.865147 19.857587 \r\nL 302.939527 21.529054 \r\nL 306.013908 23.580599 \r\nL 309.088288 26.003963 \r\nL 312.162668 28.789388 \r\nL 315.237048 31.925656 \r\nL 318.311428 35.40014 \r\nL 321.385808 39.198849 \r\nL 324.460189 43.306487 \r\nL 327.534569 47.706514 \r\nL 330.608949 52.381212 \r\nL 333.683329 57.311759 \r\nL 336.757709 62.478301 \r\nL 339.832089 67.860033 \r\nL 342.90647 73.435286 \r\nL 345.98085 79.18161 \r\nL 349.05523 85.075866 \r\nL 352.12961 91.094321 \r\nL 355.20399 97.21274 \r\nL 358.27837 103.406487 \r\nL 361.352751 109.650621 \r\nL 364.427131 115.92 \r\n\" style=\"fill:none;stroke:#1f77b4;stroke-linecap:square;stroke-width:1.5;\"/>\r\n   </g>\r\n   <g id=\"patch_3\">\r\n    <path d=\"M 44.845313 224.64 \r\nL 44.845313 7.2 \r\n\" style=\"fill:none;stroke:#000000;stroke-linecap:square;stroke-linejoin:miter;stroke-width:0.8;\"/>\r\n   </g>\r\n   <g id=\"patch_4\">\r\n    <path d=\"M 379.645313 224.64 \r\nL 379.645313 7.2 \r\n\" style=\"fill:none;stroke:#000000;stroke-linecap:square;stroke-linejoin:miter;stroke-width:0.8;\"/>\r\n   </g>\r\n   <g id=\"patch_5\">\r\n    <path d=\"M 44.845313 224.64 \r\nL 379.645313 224.64 \r\n\" style=\"fill:none;stroke:#000000;stroke-linecap:square;stroke-linejoin:miter;stroke-width:0.8;\"/>\r\n   </g>\r\n   <g id=\"patch_6\">\r\n    <path d=\"M 44.845313 7.2 \r\nL 379.645313 7.2 \r\n\" style=\"fill:none;stroke:#000000;stroke-linecap:square;stroke-linejoin:miter;stroke-width:0.8;\"/>\r\n   </g>\r\n  </g>\r\n </g>\r\n <defs>\r\n  <clipPath id=\"p0641b209e7\">\r\n   <rect height=\"217.44\" width=\"334.8\" x=\"44.845313\" y=\"7.2\"/>\r\n  </clipPath>\r\n </defs>\r\n</svg>\r\n",
      "image/png": "[encoded data removed]"
     },
     "metadata": {
      "needs_background": "light"
     }
    }
   ],
   "source": [
    "plt.plot(series_2pi, series_sin)"
   ]
  },
  {
   "source": [
    "## Series operations"
   ],
   "cell_type": "markdown",
   "metadata": {}
  },
  {
   "cell_type": "code",
   "execution_count": 60,
   "metadata": {},
   "outputs": [
    {
     "output_type": "stream",
     "name": "stdout",
     "text": [
      "0    1\n1    2\n2    3\n3    4\n4    5\ndtype: int64\n0    10\n1    20\n2    30\n3    40\n4    50\ndtype: int64\n0    11\n1    22\n2    33\n3    44\n4    55\ndtype: int64\n"
     ]
    }
   ],
   "source": [
    "# You can add two series\n",
    "\n",
    "series1 = pd.Series([1,2,3,4,5])\n",
    "print(series1)\n",
    "\n",
    "series2 = pd.Series([10,20,30,40,50])\n",
    "print(series2)\n",
    "\n",
    "series3 = series1 + series2\n",
    "print(series3)"
   ]
  },
  {
   "cell_type": "code",
   "execution_count": 61,
   "metadata": {},
   "outputs": [
    {
     "output_type": "stream",
     "name": "stdout",
     "text": [
      "a     NaN\nb     NaN\nc    13.0\nd    24.0\ne    35.0\nf     NaN\ng     NaN\ndtype: float64\n"
     ]
    }
   ],
   "source": [
    "# Even better when you assign labels to your data!\n",
    "\n",
    "series1 = pd.Series([1,2,3,4,5],      index=['a','b','c','d','e'])\n",
    "series2 = pd.Series([10,20,30,40,50], index=['c','d','e','f','g'])\n",
    "\n",
    "print( series1 + series2 )"
   ]
  },
  {
   "cell_type": "code",
   "execution_count": 62,
   "metadata": {},
   "outputs": [
    {
     "output_type": "execute_result",
     "data": {
      "text/plain": [
       "24.0"
      ]
     },
     "metadata": {},
     "execution_count": 62
    }
   ],
   "source": [
    "# So when you apply a method like mean(), the NaNs are handled intelligently...\n",
    "\n",
    "(series1 + series2).mean()"
   ]
  },
  {
   "cell_type": "code",
   "execution_count": 63,
   "metadata": {},
   "outputs": [
    {
     "output_type": "stream",
     "name": "stdout",
     "text": [
      "Pandas mean:  1.5\nNumpy mean:   nan\n"
     ]
    }
   ],
   "source": [
    "# Contrast how NumPy and Pandas handle NaN:\n",
    "\n",
    "print( \"Pandas mean: \", pd.Series( [1.0, 2.0, np.nan] ).mean() )\n",
    "print( \"Numpy mean:  \", np.array(  [1.0, 2.0, np.nan] ).mean() )"
   ]
  },
  {
   "source": [
    "## Creating a dataframe"
   ],
   "cell_type": "markdown",
   "metadata": {}
  },
  {
   "cell_type": "code",
   "execution_count": 66,
   "metadata": {},
   "outputs": [
    {
     "output_type": "execute_result",
     "data": {
      "text/plain": [
       "                NAME          FIRSTREF  \\\n",
       "0        gamma Cep b     Campbell 1988   \n",
       "1        HD 114762 b       Latham 1989   \n",
       "2     PSR B1257+12 B    Wolszczan 1992   \n",
       "3     PSR B1257+12 A    Wolszczan 1992   \n",
       "...              ...               ...   \n",
       "1638       WASP-89 b      Hellier 2015   \n",
       "1639       HD 1666 b     Harakawa 2015   \n",
       "1640      HD 95127 b  Niedzielski 2015   \n",
       "1641    Kepler-432 c       Ciceri 2015   \n",
       "\n",
       "                                               FIRSTURL  DATE  ...  \\\n",
       "0     http://adsabs.harvard.edu/abs/1988ApJ...331..902C  1988  ...   \n",
       "1     http://adsabs.harvard.edu/abs/1989Natur.339...38L  1989  ...   \n",
       "2     http://adsabs.harvard.edu//abs/1992Natur.355.....  1992  ...   \n",
       "3     http://adsabs.harvard.edu//abs/1992Natur.355.....  1992  ...   \n",
       "...                                                 ...   ...  ...   \n",
       "1638  http://adsabs.harvard.edu/abs/2015AJ....150...18H  2015  ...   \n",
       "1639  http://adsabs.harvard.edu/abs/2015ApJ...806....5H  2015  ...   \n",
       "1640  http://adsabs.harvard.edu/abs/2015ApJ...803....1N  2015  ...   \n",
       "1641  http://adsabs.harvard.edu/abs/2015A%26A...573L...  2015  ...   \n",
       "\n",
       "      RA_STRING(h:m:s)  DEC_STRING(d:m:s)  STAR_MASS(msun)  STAR_RADIUS(rsun)  \n",
       "0         +23:39:20.98       +77:37:55.08         1.260000           5.010000  \n",
       "1         +13:12:20.10       +17:31:01.66         0.894578           0.859205  \n",
       "2         13:00:03.577        +12:40:56.4              NaN                NaN  \n",
       "3         13:00:03.577        +12:40:56.4              NaN                NaN  \n",
       "...                ...                ...              ...                ...  \n",
       "1638       20:55:35.98        -18:58:16.1         0.920000           0.880000  \n",
       "1639      +00:20:52.34       -19:55:51.89         1.500000           1.930000  \n",
       "1640      +10:59:35.10       +43:48:52.17         1.200000          20.000000  \n",
       "1641      19:33:07.729         +48:17:09.         1.320000           4.060000  \n",
       "\n",
       "[1642 rows x 17 columns]"
      ],
      "text/html": "<div>\n<style scoped>\n    .dataframe tbody tr th:only-of-type {\n        vertical-align: middle;\n    }\n\n    .dataframe tbody tr th {\n        vertical-align: top;\n    }\n\n    .dataframe thead th {\n        text-align: right;\n    }\n</style>\n<table border=\"1\" class=\"dataframe\">\n  <thead>\n    <tr style=\"text-align: right;\">\n      <th></th>\n      <th>NAME</th>\n      <th>FIRSTREF</th>\n      <th>FIRSTURL</th>\n      <th>DATE</th>\n      <th>...</th>\n      <th>RA_STRING(h:m:s)</th>\n      <th>DEC_STRING(d:m:s)</th>\n      <th>STAR_MASS(msun)</th>\n      <th>STAR_RADIUS(rsun)</th>\n    </tr>\n  </thead>\n  <tbody>\n    <tr>\n      <th>0</th>\n      <td>gamma Cep b</td>\n      <td>Campbell 1988</td>\n      <td>http://adsabs.harvard.edu/abs/1988ApJ...331..902C</td>\n      <td>1988</td>\n      <td>...</td>\n      <td>+23:39:20.98</td>\n      <td>+77:37:55.08</td>\n      <td>1.260000</td>\n      <td>5.010000</td>\n    </tr>\n    <tr>\n      <th>1</th>\n      <td>HD 114762 b</td>\n      <td>Latham 1989</td>\n      <td>http://adsabs.harvard.edu/abs/1989Natur.339...38L</td>\n      <td>1989</td>\n      <td>...</td>\n      <td>+13:12:20.10</td>\n      <td>+17:31:01.66</td>\n      <td>0.894578</td>\n      <td>0.859205</td>\n    </tr>\n    <tr>\n      <th>2</th>\n      <td>PSR B1257+12 B</td>\n      <td>Wolszczan 1992</td>\n      <td>http://adsabs.harvard.edu//abs/1992Natur.355.....</td>\n      <td>1992</td>\n      <td>...</td>\n      <td>13:00:03.577</td>\n      <td>+12:40:56.4</td>\n      <td>NaN</td>\n      <td>NaN</td>\n    </tr>\n    <tr>\n      <th>3</th>\n      <td>PSR B1257+12 A</td>\n      <td>Wolszczan 1992</td>\n      <td>http://adsabs.harvard.edu//abs/1992Natur.355.....</td>\n      <td>1992</td>\n      <td>...</td>\n      <td>13:00:03.577</td>\n      <td>+12:40:56.4</td>\n      <td>NaN</td>\n      <td>NaN</td>\n    </tr>\n    <tr>\n      <th>...</th>\n      <td>...</td>\n      <td>...</td>\n      <td>...</td>\n      <td>...</td>\n      <td>...</td>\n      <td>...</td>\n      <td>...</td>\n      <td>...</td>\n      <td>...</td>\n    </tr>\n    <tr>\n      <th>1638</th>\n      <td>WASP-89 b</td>\n      <td>Hellier 2015</td>\n      <td>http://adsabs.harvard.edu/abs/2015AJ....150...18H</td>\n      <td>2015</td>\n      <td>...</td>\n      <td>20:55:35.98</td>\n      <td>-18:58:16.1</td>\n      <td>0.920000</td>\n      <td>0.880000</td>\n    </tr>\n    <tr>\n      <th>1639</th>\n      <td>HD 1666 b</td>\n      <td>Harakawa 2015</td>\n      <td>http://adsabs.harvard.edu/abs/2015ApJ...806....5H</td>\n      <td>2015</td>\n      <td>...</td>\n      <td>+00:20:52.34</td>\n      <td>-19:55:51.89</td>\n      <td>1.500000</td>\n      <td>1.930000</td>\n    </tr>\n    <tr>\n      <th>1640</th>\n      <td>HD 95127 b</td>\n      <td>Niedzielski 2015</td>\n      <td>http://adsabs.harvard.edu/abs/2015ApJ...803....1N</td>\n      <td>2015</td>\n      <td>...</td>\n      <td>+10:59:35.10</td>\n      <td>+43:48:52.17</td>\n      <td>1.200000</td>\n      <td>20.000000</td>\n    </tr>\n    <tr>\n      <th>1641</th>\n      <td>Kepler-432 c</td>\n      <td>Ciceri 2015</td>\n      <td>http://adsabs.harvard.edu/abs/2015A%26A...573L...</td>\n      <td>2015</td>\n      <td>...</td>\n      <td>19:33:07.729</td>\n      <td>+48:17:09.</td>\n      <td>1.320000</td>\n      <td>4.060000</td>\n    </tr>\n  </tbody>\n</table>\n<p>1642 rows × 17 columns</p>\n</div>"
     },
     "metadata": {},
     "execution_count": 66
    }
   ],
   "source": [
    "# Creating a DataFrame from a file read:\n",
    "\n",
    "file    = \"strata_data/data/exoplanets.csv\"\n",
    "df_file = pd.read_csv(file)\n",
    "df_file"
   ]
  },
  {
   "cell_type": "code",
   "execution_count": 67,
   "metadata": {},
   "outputs": [
    {
     "output_type": "execute_result",
     "data": {
      "text/plain": [
       "     a         b    c  d\n",
       "0    1  0.000000  0.0  a\n",
       "1    2  0.349066  0.0  b\n",
       "2    3  0.698132  0.0  c\n",
       "3    4  1.047198  0.0  a\n",
       "..  ..       ...  ... ..\n",
       "6    7  2.094395  0.0  a\n",
       "7    8  2.443461  0.0  b\n",
       "8    9  2.792527  0.0  c\n",
       "9   10  3.141593  0.0  a\n",
       "\n",
       "[10 rows x 4 columns]"
      ],
      "text/html": "<div>\n<style scoped>\n    .dataframe tbody tr th:only-of-type {\n        vertical-align: middle;\n    }\n\n    .dataframe tbody tr th {\n        vertical-align: top;\n    }\n\n    .dataframe thead th {\n        text-align: right;\n    }\n</style>\n<table border=\"1\" class=\"dataframe\">\n  <thead>\n    <tr style=\"text-align: right;\">\n      <th></th>\n      <th>a</th>\n      <th>b</th>\n      <th>c</th>\n      <th>d</th>\n    </tr>\n  </thead>\n  <tbody>\n    <tr>\n      <th>0</th>\n      <td>1</td>\n      <td>0.000000</td>\n      <td>0.0</td>\n      <td>a</td>\n    </tr>\n    <tr>\n      <th>1</th>\n      <td>2</td>\n      <td>0.349066</td>\n      <td>0.0</td>\n      <td>b</td>\n    </tr>\n    <tr>\n      <th>2</th>\n      <td>3</td>\n      <td>0.698132</td>\n      <td>0.0</td>\n      <td>c</td>\n    </tr>\n    <tr>\n      <th>3</th>\n      <td>4</td>\n      <td>1.047198</td>\n      <td>0.0</td>\n      <td>a</td>\n    </tr>\n    <tr>\n      <th>...</th>\n      <td>...</td>\n      <td>...</td>\n      <td>...</td>\n      <td>...</td>\n    </tr>\n    <tr>\n      <th>6</th>\n      <td>7</td>\n      <td>2.094395</td>\n      <td>0.0</td>\n      <td>a</td>\n    </tr>\n    <tr>\n      <th>7</th>\n      <td>8</td>\n      <td>2.443461</td>\n      <td>0.0</td>\n      <td>b</td>\n    </tr>\n    <tr>\n      <th>8</th>\n      <td>9</td>\n      <td>2.792527</td>\n      <td>0.0</td>\n      <td>c</td>\n    </tr>\n    <tr>\n      <th>9</th>\n      <td>10</td>\n      <td>3.141593</td>\n      <td>0.0</td>\n      <td>a</td>\n    </tr>\n  </tbody>\n</table>\n<p>10 rows × 4 columns</p>\n</div>"
     },
     "metadata": {},
     "execution_count": 67
    }
   ],
   "source": [
    "# Creating a DataFrame from a dictionary\n",
    "\n",
    "dictionary = {'a':[1,2,3,4,5,6,7,8,9,10],\n",
    "              'b':np.linspace(0,np.pi,10),\n",
    "              'c':0.0,\n",
    "              'd':[\"a\",\"b\",\"c\",\"a\",\"b\",\"c\",\"a\",\"b\",\"c\",\"a\"]}\n",
    "\n",
    "df_dict = pd.DataFrame(dictionary)\n",
    "df_dict"
   ]
  },
  {
   "cell_type": "code",
   "execution_count": 68,
   "metadata": {},
   "outputs": [
    {
     "output_type": "execute_result",
     "data": {
      "text/plain": [
       "Index(['a', 'b', 'c', 'd'], dtype='object')"
      ]
     },
     "metadata": {},
     "execution_count": 68
    }
   ],
   "source": [
    "# Inspect the DataFrame colums and index\n",
    "df_dict.columns"
   ]
  },
  {
   "cell_type": "code",
   "execution_count": 69,
   "metadata": {},
   "outputs": [
    {
     "output_type": "execute_result",
     "data": {
      "text/plain": [
       "RangeIndex(start=0, stop=10, step=1)"
      ]
     },
     "metadata": {},
     "execution_count": 69
    }
   ],
   "source": [
    "df_dict.index"
   ]
  },
  {
   "cell_type": "code",
   "execution_count": 70,
   "metadata": {},
   "outputs": [
    {
     "output_type": "stream",
     "name": "stdout",
     "text": [
      "<class 'pandas.core.frame.DataFrame'>\nRangeIndex: 10 entries, 0 to 9\nData columns (total 4 columns):\n #   Column  Non-Null Count  Dtype  \n---  ------  --------------  -----  \n 0   a       10 non-null     int64  \n 1   b       10 non-null     float64\n 2   c       10 non-null     float64\n 3   d       10 non-null     object \ndtypes: float64(2), int64(1), object(1)\nmemory usage: 448.0+ bytes\n"
     ]
    }
   ],
   "source": [
    "df_dict.info()"
   ]
  },
  {
   "cell_type": "code",
   "execution_count": 71,
   "metadata": {},
   "outputs": [],
   "source": [
    "## Dataframe indexing"
   ]
  },
  {
   "cell_type": "code",
   "execution_count": 72,
   "metadata": {},
   "outputs": [
    {
     "output_type": "execute_result",
     "data": {
      "text/plain": [
       "     Alice       Bob     Chuck\n",
       "Jan      1  0.941712  0.937682\n",
       "Feb      2  0.105077  0.296471\n",
       "Mar      3  0.439441  0.603028\n",
       "Apr      4  0.452443  0.436780\n",
       "May      5  0.197276  0.505242"
      ],
      "text/html": "<div>\n<style scoped>\n    .dataframe tbody tr th:only-of-type {\n        vertical-align: middle;\n    }\n\n    .dataframe tbody tr th {\n        vertical-align: top;\n    }\n\n    .dataframe thead th {\n        text-align: right;\n    }\n</style>\n<table border=\"1\" class=\"dataframe\">\n  <thead>\n    <tr style=\"text-align: right;\">\n      <th></th>\n      <th>Alice</th>\n      <th>Bob</th>\n      <th>Chuck</th>\n    </tr>\n  </thead>\n  <tbody>\n    <tr>\n      <th>Jan</th>\n      <td>1</td>\n      <td>0.941712</td>\n      <td>0.937682</td>\n    </tr>\n    <tr>\n      <th>Feb</th>\n      <td>2</td>\n      <td>0.105077</td>\n      <td>0.296471</td>\n    </tr>\n    <tr>\n      <th>Mar</th>\n      <td>3</td>\n      <td>0.439441</td>\n      <td>0.603028</td>\n    </tr>\n    <tr>\n      <th>Apr</th>\n      <td>4</td>\n      <td>0.452443</td>\n      <td>0.436780</td>\n    </tr>\n    <tr>\n      <th>May</th>\n      <td>5</td>\n      <td>0.197276</td>\n      <td>0.505242</td>\n    </tr>\n  </tbody>\n</table>\n</div>"
     },
     "metadata": {},
     "execution_count": 72
    }
   ],
   "source": [
    "df_grades = pd.DataFrame({'Alice' : [1,2,3,4,5], \n",
    "                         'Bob':np.random.random(5), \n",
    "                         'Chuck' : np.random.random(5)},\n",
    "                         index=['Jan', 'Feb', 'Mar', 'Apr', 'May'])\n",
    "df_grades"
   ]
  },
  {
   "cell_type": "code",
   "execution_count": 73,
   "metadata": {},
   "outputs": [
    {
     "output_type": "stream",
     "name": "stdout",
     "text": [
      "Jan    1\nFeb    2\nMar    3\nApr    4\nMay    5\nName: Alice, dtype: int64\n<class 'pandas.core.series.Series'>\n"
     ]
    }
   ],
   "source": [
    "# Indexing is by column first (gives a Series)\n",
    "series_a = df_grades['Alice']\n",
    "\n",
    "print( series_a )\n",
    "print( type(series_a) )"
   ]
  },
  {
   "cell_type": "code",
   "execution_count": 74,
   "metadata": {},
   "outputs": [
    {
     "output_type": "execute_result",
     "data": {
      "text/plain": [
       "2"
      ]
     },
     "metadata": {},
     "execution_count": 74
    }
   ],
   "source": [
    "# Indexing the column name, gives a Series, then 'positional' indexing\n",
    "df_grades['Alice'].iloc[1]"
   ]
  },
  {
   "cell_type": "code",
   "execution_count": 75,
   "metadata": {},
   "outputs": [
    {
     "output_type": "execute_result",
     "data": {
      "text/plain": [
       "1"
      ]
     },
     "metadata": {},
     "execution_count": 75
    }
   ],
   "source": [
    "# Indexing the column name, gives a Series, then 'label' indexing\n",
    "df_grades.loc['Jan','Alice']"
   ]
  },
  {
   "source": [
    "## Iterating over a DataFrame"
   ],
   "cell_type": "markdown",
   "metadata": {}
  },
  {
   "cell_type": "code",
   "execution_count": 76,
   "metadata": {},
   "outputs": [
    {
     "output_type": "stream",
     "name": "stdout",
     "text": [
      "Key: Jan , Value: 1\nKey: Feb , Value: 2\nKey: Mar , Value: 3\nKey: Apr , Value: 4\nKey: May , Value: 5\n"
     ]
    }
   ],
   "source": [
    "for key, value in df_grades['Alice'].iteritems():\n",
    "    print('Key:', '%s' % key, ', Value:', '%s' % value)"
   ]
  },
  {
   "cell_type": "code",
   "execution_count": 77,
   "metadata": {},
   "outputs": [
    {
     "output_type": "stream",
     "name": "stdout",
     "text": [
      "Index: Jan , Row: 1.0\nIndex: Feb , Row: 2.0\nIndex: Mar , Row: 3.0\nIndex: Apr , Row: 4.0\nIndex: May , Row: 5.0\n"
     ]
    }
   ],
   "source": [
    "for index, row in df_grades.iterrows():\n",
    "    print('Index:', '%s' % index, ', Row:', '%s' % row['Alice'])"
   ]
  },
  {
   "source": [
    "## DataFrame Manipulation"
   ],
   "cell_type": "markdown",
   "metadata": {}
  },
  {
   "cell_type": "code",
   "execution_count": 78,
   "metadata": {},
   "outputs": [
    {
     "output_type": "stream",
     "name": "stdout",
     "text": [
      "     Alice\nJan      1\nFeb      2\nMar      3\nApr      4\nMay      5 \n <class 'pandas.core.frame.DataFrame'>\n"
     ]
    }
   ],
   "source": [
    "# Extract a column as a new DataFrame\n",
    "df_col = df_grades[['Alice']]\n",
    "print( df_col, \"\\n\", type(df_col) )"
   ]
  },
  {
   "cell_type": "code",
   "execution_count": 79,
   "metadata": {},
   "outputs": [
    {
     "output_type": "stream",
     "name": "stdout",
     "text": [
      "     Alice       Bob     Chuck\nJan      1  0.941712  0.937682 \n <class 'pandas.core.frame.DataFrame'>\n"
     ]
    }
   ],
   "source": [
    "# Extract a row as a new DataFrame\n",
    "df_row = df_grades.loc['Jan':'Jan']\n",
    "print( df_row, \"\\n\", type(df_row) )"
   ]
  },
  {
   "cell_type": "code",
   "execution_count": 80,
   "metadata": {},
   "outputs": [
    {
     "output_type": "execute_result",
     "data": {
      "text/plain": [
       "Jan    1\n",
       "Feb    2\n",
       "Mar    3\n",
       "Name: Alice, dtype: int64"
      ]
     },
     "metadata": {},
     "execution_count": 80
    }
   ],
   "source": [
    "# Slicing along rows works just as with Series\n",
    "df_grades.loc['Jan':'Mar','Alice']"
   ]
  },
  {
   "cell_type": "code",
   "execution_count": 81,
   "metadata": {},
   "outputs": [
    {
     "output_type": "execute_result",
     "data": {
      "text/plain": [
       "     Alice       Bob\n",
       "Jan      1  0.941712\n",
       "Feb      2  0.105077\n",
       "Mar      3  0.439441\n",
       "Apr      4  0.452443\n",
       "May      5  0.197276"
      ],
      "text/html": "<div>\n<style scoped>\n    .dataframe tbody tr th:only-of-type {\n        vertical-align: middle;\n    }\n\n    .dataframe tbody tr th {\n        vertical-align: top;\n    }\n\n    .dataframe thead th {\n        text-align: right;\n    }\n</style>\n<table border=\"1\" class=\"dataframe\">\n  <thead>\n    <tr style=\"text-align: right;\">\n      <th></th>\n      <th>Alice</th>\n      <th>Bob</th>\n    </tr>\n  </thead>\n  <tbody>\n    <tr>\n      <th>Jan</th>\n      <td>1</td>\n      <td>0.941712</td>\n    </tr>\n    <tr>\n      <th>Feb</th>\n      <td>2</td>\n      <td>0.105077</td>\n    </tr>\n    <tr>\n      <th>Mar</th>\n      <td>3</td>\n      <td>0.439441</td>\n    </tr>\n    <tr>\n      <th>Apr</th>\n      <td>4</td>\n      <td>0.452443</td>\n    </tr>\n    <tr>\n      <th>May</th>\n      <td>5</td>\n      <td>0.197276</td>\n    </tr>\n  </tbody>\n</table>\n</div>"
     },
     "metadata": {},
     "execution_count": 81
    }
   ],
   "source": [
    "# For column range, need to use the .ix attribute of the DataFrame\n",
    "df_grades.loc[:,'Alice':'Bob']"
   ]
  },
  {
   "cell_type": "code",
   "execution_count": 82,
   "metadata": {},
   "outputs": [
    {
     "output_type": "execute_result",
     "data": {
      "text/plain": [
       "          Bob     Chuck\n",
       "Mar  0.439441  0.603028\n",
       "Apr  0.452443  0.436780"
      ],
      "text/html": "<div>\n<style scoped>\n    .dataframe tbody tr th:only-of-type {\n        vertical-align: middle;\n    }\n\n    .dataframe tbody tr th {\n        vertical-align: top;\n    }\n\n    .dataframe thead th {\n        text-align: right;\n    }\n</style>\n<table border=\"1\" class=\"dataframe\">\n  <thead>\n    <tr style=\"text-align: right;\">\n      <th></th>\n      <th>Bob</th>\n      <th>Chuck</th>\n    </tr>\n  </thead>\n  <tbody>\n    <tr>\n      <th>Mar</th>\n      <td>0.439441</td>\n      <td>0.603028</td>\n    </tr>\n    <tr>\n      <th>Apr</th>\n      <td>0.452443</td>\n      <td>0.436780</td>\n    </tr>\n  </tbody>\n</table>\n</div>"
     },
     "metadata": {},
     "execution_count": 82
    }
   ],
   "source": [
    "# For extracting row and column ranges\n",
    "df_grades.loc['Mar':'Apr', 'Bob':'Chuck']"
   ]
  },
  {
   "cell_type": "code",
   "execution_count": 83,
   "metadata": {},
   "outputs": [
    {
     "output_type": "execute_result",
     "data": {
      "text/plain": [
       "     Alice       Bob     Chuck\n",
       "Feb      2  0.105077  0.296471\n",
       "Mar      3  0.439441  0.603028\n",
       "Apr      4  0.452443  0.436780\n",
       "May      5  0.197276  0.505242"
      ],
      "text/html": "<div>\n<style scoped>\n    .dataframe tbody tr th:only-of-type {\n        vertical-align: middle;\n    }\n\n    .dataframe tbody tr th {\n        vertical-align: top;\n    }\n\n    .dataframe thead th {\n        text-align: right;\n    }\n</style>\n<table border=\"1\" class=\"dataframe\">\n  <thead>\n    <tr style=\"text-align: right;\">\n      <th></th>\n      <th>Alice</th>\n      <th>Bob</th>\n      <th>Chuck</th>\n    </tr>\n  </thead>\n  <tbody>\n    <tr>\n      <th>Feb</th>\n      <td>2</td>\n      <td>0.105077</td>\n      <td>0.296471</td>\n    </tr>\n    <tr>\n      <th>Mar</th>\n      <td>3</td>\n      <td>0.439441</td>\n      <td>0.603028</td>\n    </tr>\n    <tr>\n      <th>Apr</th>\n      <td>4</td>\n      <td>0.452443</td>\n      <td>0.436780</td>\n    </tr>\n    <tr>\n      <th>May</th>\n      <td>5</td>\n      <td>0.197276</td>\n      <td>0.505242</td>\n    </tr>\n  </tbody>\n</table>\n</div>"
     },
     "metadata": {},
     "execution_count": 83
    }
   ],
   "source": [
    "# Boolean masks work too\n",
    "df_grades.loc[df_grades['Bob'] < .5]"
   ]
  },
  {
   "cell_type": "code",
   "execution_count": 84,
   "metadata": {},
   "outputs": [
    {
     "output_type": "stream",
     "name": "stdout",
     "text": [
      "[1, 2, 3, 4, 5] <class 'list'>\n[1 2 3 4 5] <class 'numpy.ndarray'>\n"
     ]
    }
   ],
   "source": [
    "# Pandas DataFrames can be cast to other types\n",
    "\n",
    "my_list  = list(df_grades['Alice'])\n",
    "print( my_list, type(my_list) )\n",
    "\n",
    "my_array = np.array(df_grades['Alice'])\n",
    "print( my_array, type(my_array) )"
   ]
  },
  {
   "source": [
    "## Pandas I/O"
   ],
   "cell_type": "markdown",
   "metadata": {}
  },
  {
   "source": [
    "## Set up"
   ],
   "cell_type": "markdown",
   "metadata": {}
  },
  {
   "cell_type": "code",
   "execution_count": 85,
   "metadata": {},
   "outputs": [
    {
     "output_type": "execute_result",
     "data": {
      "text/plain": [
       "'1.2.3'"
      ]
     },
     "metadata": {},
     "execution_count": 85
    }
   ],
   "source": [
    "# Import modules needed for this lesson\n",
    "import numpy as np\n",
    "import pandas as pd\n",
    "%matplotlib inline\n",
    "\n",
    "# Set Jupyter notebook display options\n",
    "pd.options.display.max_rows = 6\n",
    "pd.options.display.max_columns = 8\n",
    "\n",
    "# Test the version of pandas: it should be 0.16 or greater\n",
    "pd.__version__"
   ]
  },
  {
   "source": [
    "## Temp directory"
   ],
   "cell_type": "markdown",
   "metadata": {}
  },
  {
   "cell_type": "code",
   "execution_count": 87,
   "metadata": {},
   "outputs": [],
   "source": [
    "# Remove old tmp dir, Create a new tmp dir\n",
    "import os\n",
    "if not os.path.exists(\"tmp\"):\n",
    "    os.mkdir(\"tmp\")\n",
    "\n",
    "# Define a convenience function to help us clean up\n",
    "def clean_tmp(file_name=\"tmp/exoplanet.csv\"):\n",
    "    if os.path.isfile(file_name):\n",
    "        os.remove(file_name)"
   ]
  },
  {
   "source": [
    "## Reading and inspecting"
   ],
   "cell_type": "markdown",
   "metadata": {}
  },
  {
   "cell_type": "code",
   "execution_count": 88,
   "metadata": {},
   "outputs": [
    {
     "output_type": "stream",
     "name": "stdout",
     "text": [
      "<class 'pandas.core.frame.DataFrame'>\n"
     ]
    }
   ],
   "source": [
    "file_name = \"strata_data/data/exoplanets.csv\"\n",
    "data = pd.read_csv(file_name)\n",
    "print(type(data))"
   ]
  },
  {
   "cell_type": "code",
   "execution_count": 89,
   "metadata": {},
   "outputs": [
    {
     "output_type": "execute_result",
     "data": {
      "text/plain": [
       "          NAME       FIRSTREF  \\\n",
       "0  gamma Cep b  Campbell 1988   \n",
       "1  HD 114762 b    Latham 1989   \n",
       "\n",
       "                                            FIRSTURL  DATE  ...  \\\n",
       "0  http://adsabs.harvard.edu/abs/1988ApJ...331..902C  1988  ...   \n",
       "1  http://adsabs.harvard.edu/abs/1989Natur.339...38L  1989  ...   \n",
       "\n",
       "   RA_STRING(h:m:s)  DEC_STRING(d:m:s)  STAR_MASS(msun)  STAR_RADIUS(rsun)  \n",
       "0      +23:39:20.98       +77:37:55.08         1.260000           5.010000  \n",
       "1      +13:12:20.10       +17:31:01.66         0.894578           0.859205  \n",
       "\n",
       "[2 rows x 17 columns]"
      ],
      "text/html": "<div>\n<style scoped>\n    .dataframe tbody tr th:only-of-type {\n        vertical-align: middle;\n    }\n\n    .dataframe tbody tr th {\n        vertical-align: top;\n    }\n\n    .dataframe thead th {\n        text-align: right;\n    }\n</style>\n<table border=\"1\" class=\"dataframe\">\n  <thead>\n    <tr style=\"text-align: right;\">\n      <th></th>\n      <th>NAME</th>\n      <th>FIRSTREF</th>\n      <th>FIRSTURL</th>\n      <th>DATE</th>\n      <th>...</th>\n      <th>RA_STRING(h:m:s)</th>\n      <th>DEC_STRING(d:m:s)</th>\n      <th>STAR_MASS(msun)</th>\n      <th>STAR_RADIUS(rsun)</th>\n    </tr>\n  </thead>\n  <tbody>\n    <tr>\n      <th>0</th>\n      <td>gamma Cep b</td>\n      <td>Campbell 1988</td>\n      <td>http://adsabs.harvard.edu/abs/1988ApJ...331..902C</td>\n      <td>1988</td>\n      <td>...</td>\n      <td>+23:39:20.98</td>\n      <td>+77:37:55.08</td>\n      <td>1.260000</td>\n      <td>5.010000</td>\n    </tr>\n    <tr>\n      <th>1</th>\n      <td>HD 114762 b</td>\n      <td>Latham 1989</td>\n      <td>http://adsabs.harvard.edu/abs/1989Natur.339...38L</td>\n      <td>1989</td>\n      <td>...</td>\n      <td>+13:12:20.10</td>\n      <td>+17:31:01.66</td>\n      <td>0.894578</td>\n      <td>0.859205</td>\n    </tr>\n  </tbody>\n</table>\n<p>2 rows × 17 columns</p>\n</div>"
     },
     "metadata": {},
     "execution_count": 89
    }
   ],
   "source": [
    "# Preview data after a read.\n",
    "# Notice the first column\n",
    "data.iloc[0:2]"
   ]
  },
  {
   "cell_type": "code",
   "execution_count": 90,
   "metadata": {},
   "outputs": [
    {
     "output_type": "execute_result",
     "data": {
      "text/plain": [
       "RangeIndex(start=0, stop=1642, step=1)"
      ]
     },
     "metadata": {},
     "execution_count": 90
    }
   ],
   "source": [
    "# There is an Index array imbedded in the DataFrame\n",
    "data.index"
   ]
  },
  {
   "cell_type": "code",
   "execution_count": 91,
   "metadata": {},
   "outputs": [
    {
     "output_type": "execute_result",
     "data": {
      "text/plain": [
       "                      NAME        FIRSTREF  \\\n",
       "DATE                                         \n",
       "1988-01-01     gamma Cep b   Campbell 1988   \n",
       "1989-01-01     HD 114762 b     Latham 1989   \n",
       "1992-01-01  PSR B1257+12 B  Wolszczan 1992   \n",
       "...                    ...             ...   \n",
       "1996-01-01        47 UMa b     Butler 1996   \n",
       "1996-01-01        70 Vir b      Marcy 1996   \n",
       "1997-01-01      16 Cyg B b    Cochran 1997   \n",
       "\n",
       "                                                     FIRSTURL  NUM_OBS  ...  \\\n",
       "DATE                                                                    ...   \n",
       "1988-01-01  http://adsabs.harvard.edu/abs/1988ApJ...331..902C    131.0  ...   \n",
       "1989-01-01  http://adsabs.harvard.edu/abs/1989Natur.339...38L     74.0  ...   \n",
       "1992-01-01  http://adsabs.harvard.edu//abs/1992Natur.355.....      NaN  ...   \n",
       "...                                                       ...      ...  ...   \n",
       "1996-01-01  http://adsabs.harvard.edu/abs/1996ApJ...464L.153B      NaN  ...   \n",
       "1996-01-01  http://adsabs.harvard.edu/abs/1996ApJ...464L.147M     74.0  ...   \n",
       "1997-01-01  http://adsabs.harvard.edu/abs/1997ApJ...483..457C     95.0  ...   \n",
       "\n",
       "            RA_STRING(h:m:s)  DEC_STRING(d:m:s)  STAR_MASS(msun)  \\\n",
       "DATE                                                               \n",
       "1988-01-01      +23:39:20.98       +77:37:55.08         1.260000   \n",
       "1989-01-01      +13:12:20.10       +17:31:01.66         0.894578   \n",
       "1992-01-01      13:00:03.577        +12:40:56.4              NaN   \n",
       "...                      ...                ...              ...   \n",
       "1996-01-01      +10:59:28.22       +40:25:48.44         1.063000   \n",
       "1996-01-01      +13:28:25.95       +13:46:48.68         1.101000   \n",
       "1997-01-01      +19:41:52.10       +50:31:04.51         0.956000   \n",
       "\n",
       "            STAR_RADIUS(rsun)  \n",
       "DATE                           \n",
       "1988-01-01           5.010000  \n",
       "1989-01-01           0.859205  \n",
       "1992-01-01                NaN  \n",
       "...                       ...  \n",
       "1996-01-01           1.118690  \n",
       "1996-01-01           1.597750  \n",
       "1997-01-01           1.117600  \n",
       "\n",
       "[10 rows x 16 columns]"
      ],
      "text/html": "<div>\n<style scoped>\n    .dataframe tbody tr th:only-of-type {\n        vertical-align: middle;\n    }\n\n    .dataframe tbody tr th {\n        vertical-align: top;\n    }\n\n    .dataframe thead th {\n        text-align: right;\n    }\n</style>\n<table border=\"1\" class=\"dataframe\">\n  <thead>\n    <tr style=\"text-align: right;\">\n      <th></th>\n      <th>NAME</th>\n      <th>FIRSTREF</th>\n      <th>FIRSTURL</th>\n      <th>NUM_OBS</th>\n      <th>...</th>\n      <th>RA_STRING(h:m:s)</th>\n      <th>DEC_STRING(d:m:s)</th>\n      <th>STAR_MASS(msun)</th>\n      <th>STAR_RADIUS(rsun)</th>\n    </tr>\n    <tr>\n      <th>DATE</th>\n      <th></th>\n      <th></th>\n      <th></th>\n      <th></th>\n      <th></th>\n      <th></th>\n      <th></th>\n      <th></th>\n      <th></th>\n    </tr>\n  </thead>\n  <tbody>\n    <tr>\n      <th>1988-01-01</th>\n      <td>gamma Cep b</td>\n      <td>Campbell 1988</td>\n      <td>http://adsabs.harvard.edu/abs/1988ApJ...331..902C</td>\n      <td>131.0</td>\n      <td>...</td>\n      <td>+23:39:20.98</td>\n      <td>+77:37:55.08</td>\n      <td>1.260000</td>\n      <td>5.010000</td>\n    </tr>\n    <tr>\n      <th>1989-01-01</th>\n      <td>HD 114762 b</td>\n      <td>Latham 1989</td>\n      <td>http://adsabs.harvard.edu/abs/1989Natur.339...38L</td>\n      <td>74.0</td>\n      <td>...</td>\n      <td>+13:12:20.10</td>\n      <td>+17:31:01.66</td>\n      <td>0.894578</td>\n      <td>0.859205</td>\n    </tr>\n    <tr>\n      <th>1992-01-01</th>\n      <td>PSR B1257+12 B</td>\n      <td>Wolszczan 1992</td>\n      <td>http://adsabs.harvard.edu//abs/1992Natur.355.....</td>\n      <td>NaN</td>\n      <td>...</td>\n      <td>13:00:03.577</td>\n      <td>+12:40:56.4</td>\n      <td>NaN</td>\n      <td>NaN</td>\n    </tr>\n    <tr>\n      <th>...</th>\n      <td>...</td>\n      <td>...</td>\n      <td>...</td>\n      <td>...</td>\n      <td>...</td>\n      <td>...</td>\n      <td>...</td>\n      <td>...</td>\n      <td>...</td>\n    </tr>\n    <tr>\n      <th>1996-01-01</th>\n      <td>47 UMa b</td>\n      <td>Butler 1996</td>\n      <td>http://adsabs.harvard.edu/abs/1996ApJ...464L.153B</td>\n      <td>NaN</td>\n      <td>...</td>\n      <td>+10:59:28.22</td>\n      <td>+40:25:48.44</td>\n      <td>1.063000</td>\n      <td>1.118690</td>\n    </tr>\n    <tr>\n      <th>1996-01-01</th>\n      <td>70 Vir b</td>\n      <td>Marcy 1996</td>\n      <td>http://adsabs.harvard.edu/abs/1996ApJ...464L.147M</td>\n      <td>74.0</td>\n      <td>...</td>\n      <td>+13:28:25.95</td>\n      <td>+13:46:48.68</td>\n      <td>1.101000</td>\n      <td>1.597750</td>\n    </tr>\n    <tr>\n      <th>1997-01-01</th>\n      <td>16 Cyg B b</td>\n      <td>Cochran 1997</td>\n      <td>http://adsabs.harvard.edu/abs/1997ApJ...483..457C</td>\n      <td>95.0</td>\n      <td>...</td>\n      <td>+19:41:52.10</td>\n      <td>+50:31:04.51</td>\n      <td>0.956000</td>\n      <td>1.117600</td>\n    </tr>\n  </tbody>\n</table>\n<p>10 rows × 16 columns</p>\n</div>"
     },
     "metadata": {},
     "execution_count": 91
    }
   ],
   "source": [
    "# We can use a column to create a better Index\n",
    "data = pd.read_csv(file_name, parse_dates=True, index_col='DATE')\n",
    "data.head(10)     # another way to preview data after a read"
   ]
  },
  {
   "cell_type": "code",
   "execution_count": 92,
   "metadata": {},
   "outputs": [
    {
     "output_type": "execute_result",
     "data": {
      "text/plain": [
       "DatetimeIndex(['1988-01-01', '1989-01-01', '1992-01-01', '1992-01-01',\n",
       "               '1993-01-01', '1994-01-01', '1995-01-01', '1996-01-01',\n",
       "               '1996-01-01', '1997-01-01',\n",
       "               ...\n",
       "               '2015-01-01', '2015-01-01', '2015-01-01', '2015-01-01',\n",
       "               '2015-01-01', '2015-01-01', '2015-01-01', '2015-01-01',\n",
       "               '2015-01-01', '2015-01-01'],\n",
       "              dtype='datetime64[ns]', name='DATE', length=1642, freq=None)"
      ]
     },
     "metadata": {},
     "execution_count": 92
    }
   ],
   "source": [
    "# Notice it is not just an Index, but a DatetimeIndex; note the dtype\n",
    "data.index"
   ]
  },
  {
   "cell_type": "code",
   "execution_count": 93,
   "metadata": {},
   "outputs": [
    {
     "output_type": "execute_result",
     "data": {
      "text/plain": [
       "                      NAME        FIRSTREF  \\\n",
       "DATE                                         \n",
       "2015-01-01     gamma Cep b   Campbell 1988   \n",
       "2015-01-01     HD 114762 b     Latham 1989   \n",
       "2015-01-01  PSR B1257+12 B  Wolszczan 1992   \n",
       "\n",
       "                                                     FIRSTURL  NUM_OBS  ...  \\\n",
       "DATE                                                                    ...   \n",
       "2015-01-01  http://adsabs.harvard.edu/abs/1988ApJ...331..902C    131.0  ...   \n",
       "2015-01-01  http://adsabs.harvard.edu/abs/1989Natur.339...38L     74.0  ...   \n",
       "2015-01-01  http://adsabs.harvard.edu//abs/1992Natur.355.....      NaN  ...   \n",
       "\n",
       "            RA_STRING(h:m:s)  DEC_STRING(d:m:s)  STAR_MASS(msun)  \\\n",
       "DATE                                                               \n",
       "2015-01-01      +23:39:20.98       +77:37:55.08         1.260000   \n",
       "2015-01-01      +13:12:20.10       +17:31:01.66         0.894578   \n",
       "2015-01-01      13:00:03.577        +12:40:56.4              NaN   \n",
       "\n",
       "            STAR_RADIUS(rsun)  \n",
       "DATE                           \n",
       "2015-01-01           5.010000  \n",
       "2015-01-01           0.859205  \n",
       "2015-01-01                NaN  \n",
       "\n",
       "[3 rows x 16 columns]"
      ],
      "text/html": "<div>\n<style scoped>\n    .dataframe tbody tr th:only-of-type {\n        vertical-align: middle;\n    }\n\n    .dataframe tbody tr th {\n        vertical-align: top;\n    }\n\n    .dataframe thead th {\n        text-align: right;\n    }\n</style>\n<table border=\"1\" class=\"dataframe\">\n  <thead>\n    <tr style=\"text-align: right;\">\n      <th></th>\n      <th>NAME</th>\n      <th>FIRSTREF</th>\n      <th>FIRSTURL</th>\n      <th>NUM_OBS</th>\n      <th>...</th>\n      <th>RA_STRING(h:m:s)</th>\n      <th>DEC_STRING(d:m:s)</th>\n      <th>STAR_MASS(msun)</th>\n      <th>STAR_RADIUS(rsun)</th>\n    </tr>\n    <tr>\n      <th>DATE</th>\n      <th></th>\n      <th></th>\n      <th></th>\n      <th></th>\n      <th></th>\n      <th></th>\n      <th></th>\n      <th></th>\n      <th></th>\n    </tr>\n  </thead>\n  <tbody>\n    <tr>\n      <th>2015-01-01</th>\n      <td>gamma Cep b</td>\n      <td>Campbell 1988</td>\n      <td>http://adsabs.harvard.edu/abs/1988ApJ...331..902C</td>\n      <td>131.0</td>\n      <td>...</td>\n      <td>+23:39:20.98</td>\n      <td>+77:37:55.08</td>\n      <td>1.260000</td>\n      <td>5.010000</td>\n    </tr>\n    <tr>\n      <th>2015-01-01</th>\n      <td>HD 114762 b</td>\n      <td>Latham 1989</td>\n      <td>http://adsabs.harvard.edu/abs/1989Natur.339...38L</td>\n      <td>74.0</td>\n      <td>...</td>\n      <td>+13:12:20.10</td>\n      <td>+17:31:01.66</td>\n      <td>0.894578</td>\n      <td>0.859205</td>\n    </tr>\n    <tr>\n      <th>2015-01-01</th>\n      <td>PSR B1257+12 B</td>\n      <td>Wolszczan 1992</td>\n      <td>http://adsabs.harvard.edu//abs/1992Natur.355.....</td>\n      <td>NaN</td>\n      <td>...</td>\n      <td>13:00:03.577</td>\n      <td>+12:40:56.4</td>\n      <td>NaN</td>\n      <td>NaN</td>\n    </tr>\n  </tbody>\n</table>\n<p>3 rows × 16 columns</p>\n</div>"
     },
     "metadata": {},
     "execution_count": 93
    }
   ],
   "source": [
    "# You can sort by the Index\n",
    "data = data.set_index(data.index.sort_values(ascending=False))\n",
    "data.iloc[0:3]"
   ]
  },
  {
   "source": [
    "## Data cleaning"
   ],
   "cell_type": "markdown",
   "metadata": {}
  },
  {
   "cell_type": "code",
   "execution_count": 94,
   "metadata": {},
   "outputs": [
    {
     "output_type": "execute_result",
     "data": {
      "text/plain": [
       "Index(['NAME', 'FIRSTREF', 'FIRSTURL', 'NUM_OBS', 'MASS(mjupiter)',\n",
       "       'RADIUS(rjupiter)', 'PERIOD(day)', 'ECCENTRICITY',\n",
       "       'SEMI_MAJOR_AXIS(AU)', 'SEPARATION(AU)', 'STAR_NAME', 'DIST(PARSEC)',\n",
       "       'RA_STRING(h:m:s)', 'DEC_STRING(d:m:s)', 'STAR_MASS(msun)',\n",
       "       'STAR_RADIUS(rsun)'],\n",
       "      dtype='object')"
      ]
     },
     "metadata": {},
     "execution_count": 94
    }
   ],
   "source": [
    "# View the labels of some or all of the columns\n",
    "# data.columns[0:10]\n",
    "data.columns"
   ]
  },
  {
   "cell_type": "code",
   "execution_count": 95,
   "metadata": {},
   "outputs": [
    {
     "output_type": "execute_result",
     "data": {
      "text/plain": [
       "DATE\n",
       "2015-01-01   NaN\n",
       "2015-01-01   NaN\n",
       "2015-01-01   NaN\n",
       "              ..\n",
       "1992-01-01   NaN\n",
       "1989-01-01   NaN\n",
       "1988-01-01   NaN\n",
       "Name: RADIUS(rjupiter), Length: 1642, dtype: float64"
      ]
     },
     "metadata": {},
     "execution_count": 95
    }
   ],
   "source": [
    "# extracting columns\n",
    "data['RADIUS(rjupiter)']"
   ]
  },
  {
   "cell_type": "code",
   "execution_count": 96,
   "metadata": {},
   "outputs": [
    {
     "output_type": "stream",
     "name": "stdout",
     "text": [
      "<class 'pandas.core.series.Series'>\n"
     ]
    },
    {
     "output_type": "execute_result",
     "data": {
      "text/plain": [
       "DATE\n",
       "2015-01-01   NaN\n",
       "2015-01-01   NaN\n",
       "2015-01-01   NaN\n",
       "              ..\n",
       "2015-01-01   NaN\n",
       "2015-01-01   NaN\n",
       "2015-01-01   NaN\n",
       "Name: RADIUS(rjupiter), Length: 10, dtype: float64"
      ]
     },
     "metadata": {},
     "execution_count": 96
    }
   ],
   "source": [
    "extract_data = data['RADIUS(rjupiter)']\n",
    "print(type(extract_data))\n",
    "extract_data.iloc[0:10]"
   ]
  },
  {
   "cell_type": "code",
   "execution_count": 108,
   "metadata": {},
   "outputs": [],
   "source": [
    "# Add a column labeled 'price'\n",
    "data['price'] = 1e6 # One *MILLION* dollars!\n",
    "\n",
    "# adding a column 'FIRSTURL' so later code works\n",
    "data['FIRSTURL'] = 'xyz'"
   ]
  },
  {
   "cell_type": "code",
   "execution_count": 105,
   "metadata": {},
   "outputs": [
    {
     "output_type": "execute_result",
     "data": {
      "text/plain": [
       "DATE\n",
       "2015-01-01    1000000.0\n",
       "2015-01-01    1000000.0\n",
       "2015-01-01    1000000.0\n",
       "2015-01-01    1000000.0\n",
       "2015-01-01    1000000.0\n",
       "Name: price, dtype: float64"
      ]
     },
     "metadata": {},
     "execution_count": 105
    }
   ],
   "source": [
    "# Inspect the updated DataFrame\n",
    "data.price.iloc[0:5]"
   ]
  },
  {
   "cell_type": "code",
   "execution_count": 109,
   "metadata": {},
   "outputs": [],
   "source": [
    "# Demonstration that you can delete columns after a file read\n",
    "del data['FIRSTURL']"
   ]
  },
  {
   "cell_type": "code",
   "execution_count": 110,
   "metadata": {},
   "outputs": [
    {
     "output_type": "execute_result",
     "data": {
      "text/plain": [
       "                      NAME          FIRSTREF  NUM_OBS  MASS(mjupiter)  ...  \\\n",
       "DATE                                                                   ...   \n",
       "2015-01-01     gamma Cep b     Campbell 1988    131.0        1.517280  ...   \n",
       "2015-01-01     HD 114762 b       Latham 1989     74.0       11.635100  ...   \n",
       "2015-01-01  PSR B1257+12 B    Wolszczan 1992      NaN        0.013531  ...   \n",
       "...                    ...               ...      ...             ...  ...   \n",
       "1992-01-01       HD 1666 b     Harakawa 2015     99.0        6.470720  ...   \n",
       "1989-01-01      HD 95127 b  Niedzielski 2015     41.0        5.036200  ...   \n",
       "1988-01-01    Kepler-432 c       Ciceri 2015     45.0        2.364020  ...   \n",
       "\n",
       "            DEC_STRING(d:m:s)  STAR_MASS(msun)  STAR_RADIUS(rsun)      price  \n",
       "DATE                                                                          \n",
       "2015-01-01       +77:37:55.08         1.260000           5.010000  1000000.0  \n",
       "2015-01-01       +17:31:01.66         0.894578           0.859205  1000000.0  \n",
       "2015-01-01        +12:40:56.4              NaN                NaN  1000000.0  \n",
       "...                       ...              ...                ...        ...  \n",
       "1992-01-01       -19:55:51.89         1.500000           1.930000  1000000.0  \n",
       "1989-01-01       +43:48:52.17         1.200000          20.000000  1000000.0  \n",
       "1988-01-01         +48:17:09.         1.320000           4.060000  1000000.0  \n",
       "\n",
       "[1642 rows x 16 columns]"
      ],
      "text/html": "<div>\n<style scoped>\n    .dataframe tbody tr th:only-of-type {\n        vertical-align: middle;\n    }\n\n    .dataframe tbody tr th {\n        vertical-align: top;\n    }\n\n    .dataframe thead th {\n        text-align: right;\n    }\n</style>\n<table border=\"1\" class=\"dataframe\">\n  <thead>\n    <tr style=\"text-align: right;\">\n      <th></th>\n      <th>NAME</th>\n      <th>FIRSTREF</th>\n      <th>NUM_OBS</th>\n      <th>MASS(mjupiter)</th>\n      <th>...</th>\n      <th>DEC_STRING(d:m:s)</th>\n      <th>STAR_MASS(msun)</th>\n      <th>STAR_RADIUS(rsun)</th>\n      <th>price</th>\n    </tr>\n    <tr>\n      <th>DATE</th>\n      <th></th>\n      <th></th>\n      <th></th>\n      <th></th>\n      <th></th>\n      <th></th>\n      <th></th>\n      <th></th>\n      <th></th>\n    </tr>\n  </thead>\n  <tbody>\n    <tr>\n      <th>2015-01-01</th>\n      <td>gamma Cep b</td>\n      <td>Campbell 1988</td>\n      <td>131.0</td>\n      <td>1.517280</td>\n      <td>...</td>\n      <td>+77:37:55.08</td>\n      <td>1.260000</td>\n      <td>5.010000</td>\n      <td>1000000.0</td>\n    </tr>\n    <tr>\n      <th>2015-01-01</th>\n      <td>HD 114762 b</td>\n      <td>Latham 1989</td>\n      <td>74.0</td>\n      <td>11.635100</td>\n      <td>...</td>\n      <td>+17:31:01.66</td>\n      <td>0.894578</td>\n      <td>0.859205</td>\n      <td>1000000.0</td>\n    </tr>\n    <tr>\n      <th>2015-01-01</th>\n      <td>PSR B1257+12 B</td>\n      <td>Wolszczan 1992</td>\n      <td>NaN</td>\n      <td>0.013531</td>\n      <td>...</td>\n      <td>+12:40:56.4</td>\n      <td>NaN</td>\n      <td>NaN</td>\n      <td>1000000.0</td>\n    </tr>\n    <tr>\n      <th>...</th>\n      <td>...</td>\n      <td>...</td>\n      <td>...</td>\n      <td>...</td>\n      <td>...</td>\n      <td>...</td>\n      <td>...</td>\n      <td>...</td>\n      <td>...</td>\n    </tr>\n    <tr>\n      <th>1992-01-01</th>\n      <td>HD 1666 b</td>\n      <td>Harakawa 2015</td>\n      <td>99.0</td>\n      <td>6.470720</td>\n      <td>...</td>\n      <td>-19:55:51.89</td>\n      <td>1.500000</td>\n      <td>1.930000</td>\n      <td>1000000.0</td>\n    </tr>\n    <tr>\n      <th>1989-01-01</th>\n      <td>HD 95127 b</td>\n      <td>Niedzielski 2015</td>\n      <td>41.0</td>\n      <td>5.036200</td>\n      <td>...</td>\n      <td>+43:48:52.17</td>\n      <td>1.200000</td>\n      <td>20.000000</td>\n      <td>1000000.0</td>\n    </tr>\n    <tr>\n      <th>1988-01-01</th>\n      <td>Kepler-432 c</td>\n      <td>Ciceri 2015</td>\n      <td>45.0</td>\n      <td>2.364020</td>\n      <td>...</td>\n      <td>+48:17:09.</td>\n      <td>1.320000</td>\n      <td>4.060000</td>\n      <td>1000000.0</td>\n    </tr>\n  </tbody>\n</table>\n<p>1642 rows × 16 columns</p>\n</div>"
     },
     "metadata": {},
     "execution_count": 110
    }
   ],
   "source": [
    "data"
   ]
  },
  {
   "cell_type": "code",
   "execution_count": 111,
   "metadata": {},
   "outputs": [
    {
     "output_type": "execute_result",
     "data": {
      "text/plain": [
       "                    PLANET        FIRSTREF  NUM_OBS  MASS(mjupiter)  ...  \\\n",
       "DATE                                                                 ...   \n",
       "2015-01-01     gamma Cep b   Campbell 1988    131.0        1.517280  ...   \n",
       "2015-01-01     HD 114762 b     Latham 1989     74.0       11.635100  ...   \n",
       "2015-01-01  PSR B1257+12 B  Wolszczan 1992      NaN        0.013531  ...   \n",
       "\n",
       "            DEC_STRING(d:m:s)  STAR_MASS(msun)  STAR_RADIUS(rsun)      price  \n",
       "DATE                                                                          \n",
       "2015-01-01       +77:37:55.08         1.260000           5.010000  1000000.0  \n",
       "2015-01-01       +17:31:01.66         0.894578           0.859205  1000000.0  \n",
       "2015-01-01        +12:40:56.4              NaN                NaN  1000000.0  \n",
       "\n",
       "[3 rows x 16 columns]"
      ],
      "text/html": "<div>\n<style scoped>\n    .dataframe tbody tr th:only-of-type {\n        vertical-align: middle;\n    }\n\n    .dataframe tbody tr th {\n        vertical-align: top;\n    }\n\n    .dataframe thead th {\n        text-align: right;\n    }\n</style>\n<table border=\"1\" class=\"dataframe\">\n  <thead>\n    <tr style=\"text-align: right;\">\n      <th></th>\n      <th>PLANET</th>\n      <th>FIRSTREF</th>\n      <th>NUM_OBS</th>\n      <th>MASS(mjupiter)</th>\n      <th>...</th>\n      <th>DEC_STRING(d:m:s)</th>\n      <th>STAR_MASS(msun)</th>\n      <th>STAR_RADIUS(rsun)</th>\n      <th>price</th>\n    </tr>\n    <tr>\n      <th>DATE</th>\n      <th></th>\n      <th></th>\n      <th></th>\n      <th></th>\n      <th></th>\n      <th></th>\n      <th></th>\n      <th></th>\n      <th></th>\n    </tr>\n  </thead>\n  <tbody>\n    <tr>\n      <th>2015-01-01</th>\n      <td>gamma Cep b</td>\n      <td>Campbell 1988</td>\n      <td>131.0</td>\n      <td>1.517280</td>\n      <td>...</td>\n      <td>+77:37:55.08</td>\n      <td>1.260000</td>\n      <td>5.010000</td>\n      <td>1000000.0</td>\n    </tr>\n    <tr>\n      <th>2015-01-01</th>\n      <td>HD 114762 b</td>\n      <td>Latham 1989</td>\n      <td>74.0</td>\n      <td>11.635100</td>\n      <td>...</td>\n      <td>+17:31:01.66</td>\n      <td>0.894578</td>\n      <td>0.859205</td>\n      <td>1000000.0</td>\n    </tr>\n    <tr>\n      <th>2015-01-01</th>\n      <td>PSR B1257+12 B</td>\n      <td>Wolszczan 1992</td>\n      <td>NaN</td>\n      <td>0.013531</td>\n      <td>...</td>\n      <td>+12:40:56.4</td>\n      <td>NaN</td>\n      <td>NaN</td>\n      <td>1000000.0</td>\n    </tr>\n  </tbody>\n</table>\n<p>3 rows × 16 columns</p>\n</div>"
     },
     "metadata": {},
     "execution_count": 111
    }
   ],
   "source": [
    "# Change the label of a single column\n",
    "data = data.rename(columns={'NAME':'PLANET'})\n",
    "data.iloc[0:3]"
   ]
  },
  {
   "source": [
    "## File formats"
   ],
   "cell_type": "markdown",
   "metadata": {}
  },
  {
   "cell_type": "code",
   "execution_count": 114,
   "metadata": {},
   "outputs": [
    {
     "output_type": "stream",
     "name": "stdout",
     "text": [
      "pd.read_clipboard\npd.read_csv\npd.read_excel\npd.read_feather\npd.read_fwf\npd.read_gbq\npd.read_hdf\npd.read_html\npd.read_json\npd.read_orc\npd.read_parquet\npd.read_pickle\npd.read_sas\npd.read_spss\npd.read_sql\npd.read_sql_query\npd.read_sql_table\npd.read_stata\npd.read_table\n\n"
     ]
    }
   ],
   "source": [
    "# Print a list of all read_* methods in pandas\n",
    "\n",
    "print(\"\".join([\"pd.%s\\n\" % reader \n",
    "               for reader in dir(pd) \n",
    "               if reader.startswith('read_')]))"
   ]
  },
  {
   "cell_type": "code",
   "execution_count": 115,
   "metadata": {},
   "outputs": [
    {
     "output_type": "stream",
     "name": "stdout",
     "text": [
      "pd.DataFrame.to_clipboard\npd.DataFrame.to_csv\npd.DataFrame.to_dict\npd.DataFrame.to_excel\npd.DataFrame.to_feather\npd.DataFrame.to_gbq\npd.DataFrame.to_hdf\npd.DataFrame.to_html\npd.DataFrame.to_json\npd.DataFrame.to_latex\npd.DataFrame.to_markdown\npd.DataFrame.to_numpy\npd.DataFrame.to_parquet\npd.DataFrame.to_period\npd.DataFrame.to_pickle\npd.DataFrame.to_records\npd.DataFrame.to_sql\npd.DataFrame.to_stata\npd.DataFrame.to_string\npd.DataFrame.to_timestamp\npd.DataFrame.to_xarray\n\n"
     ]
    }
   ],
   "source": [
    "# DataFrame can be cast to files or other objects\n",
    "\n",
    "print(\"\".join([\"pd.DataFrame.%s\\n\" % reader \n",
    "               for reader in dir(pd.DataFrame) \n",
    "               if reader.startswith('to_')]))"
   ]
  },
  {
   "source": [
    "## CSV"
   ],
   "cell_type": "markdown",
   "metadata": {}
  },
  {
   "cell_type": "code",
   "execution_count": 116,
   "metadata": {},
   "outputs": [],
   "source": [
    "df = pd.read_csv('strata_data/data/exoplanets.csv', \n",
    "                 parse_dates=['DATE'],\n",
    "                 encoding='utf-8')"
   ]
  },
  {
   "cell_type": "code",
   "execution_count": 117,
   "metadata": {},
   "outputs": [
    {
     "output_type": "stream",
     "name": "stdout",
     "text": [
      "<class 'pandas.core.frame.DataFrame'>\nRangeIndex: 1642 entries, 0 to 1641\nData columns (total 17 columns):\n #   Column               Non-Null Count  Dtype         \n---  ------               --------------  -----         \n 0   NAME                 1642 non-null   object        \n 1   FIRSTREF             1642 non-null   object        \n 2   FIRSTURL             1642 non-null   object        \n 3   DATE                 1642 non-null   datetime64[ns]\n 4   NUM_OBS              653 non-null    float64       \n 5   MASS(mjupiter)       1641 non-null   float64       \n 6   RADIUS(rjupiter)     1147 non-null   float64       \n 7   PERIOD(day)          1629 non-null   float64       \n 8   ECCENTRICITY         857 non-null    float64       \n 9   SEMI_MAJOR_AXIS(AU)  1629 non-null   float64       \n 10  SEPARATION(AU)       1638 non-null   float64       \n 11  STAR_NAME            1642 non-null   object        \n 12  DIST(PARSEC)         737 non-null    float64       \n 13  RA_STRING(h:m:s)     1642 non-null   object        \n 14  DEC_STRING(d:m:s)    1642 non-null   object        \n 15  STAR_MASS(msun)      927 non-null    float64       \n 16  STAR_RADIUS(rsun)    1585 non-null   float64       \ndtypes: datetime64[ns](1), float64(10), object(6)\nmemory usage: 218.2+ KB\n"
     ]
    }
   ],
   "source": [
    "df.info()"
   ]
  },
  {
   "cell_type": "code",
   "execution_count": 118,
   "metadata": {},
   "outputs": [
    {
     "output_type": "execute_result",
     "data": {
      "text/plain": [
       "       NAME     FIRSTREF                                           FIRSTURL  \\\n",
       "7  47 UMa b  Butler 1996  http://adsabs.harvard.edu/abs/1996ApJ...464L.153B   \n",
       "\n",
       "        DATE  ...  RA_STRING(h:m:s)  DEC_STRING(d:m:s)  STAR_MASS(msun)  \\\n",
       "7 1996-01-01  ...      +10:59:28.22       +40:25:48.44            1.063   \n",
       "\n",
       "   STAR_RADIUS(rsun)  \n",
       "7            1.11869  \n",
       "\n",
       "[1 rows x 17 columns]"
      ],
      "text/html": "<div>\n<style scoped>\n    .dataframe tbody tr th:only-of-type {\n        vertical-align: middle;\n    }\n\n    .dataframe tbody tr th {\n        vertical-align: top;\n    }\n\n    .dataframe thead th {\n        text-align: right;\n    }\n</style>\n<table border=\"1\" class=\"dataframe\">\n  <thead>\n    <tr style=\"text-align: right;\">\n      <th></th>\n      <th>NAME</th>\n      <th>FIRSTREF</th>\n      <th>FIRSTURL</th>\n      <th>DATE</th>\n      <th>...</th>\n      <th>RA_STRING(h:m:s)</th>\n      <th>DEC_STRING(d:m:s)</th>\n      <th>STAR_MASS(msun)</th>\n      <th>STAR_RADIUS(rsun)</th>\n    </tr>\n  </thead>\n  <tbody>\n    <tr>\n      <th>7</th>\n      <td>47 UMa b</td>\n      <td>Butler 1996</td>\n      <td>http://adsabs.harvard.edu/abs/1996ApJ...464L.153B</td>\n      <td>1996-01-01</td>\n      <td>...</td>\n      <td>+10:59:28.22</td>\n      <td>+40:25:48.44</td>\n      <td>1.063</td>\n      <td>1.11869</td>\n    </tr>\n  </tbody>\n</table>\n<p>1 rows × 17 columns</p>\n</div>"
     },
     "metadata": {},
     "execution_count": 118
    }
   ],
   "source": [
    "# The first exoplanet to get news headlines was in 1996.\n",
    "# Use some indexing to inspect the rows.\n",
    "# Combining head() and .iloc[] bracket indexing.\n",
    "df.head(8).iloc[-1:]"
   ]
  },
  {
   "cell_type": "code",
   "execution_count": 119,
   "metadata": {},
   "outputs": [
    {
     "output_type": "execute_result",
     "data": {
      "text/plain": [
       "'47 UMa b'"
      ]
     },
     "metadata": {},
     "execution_count": 119
    }
   ],
   "source": [
    "# Extract the name using [row index] and [column label]\n",
    "df.loc[7,'NAME']"
   ]
  },
  {
   "cell_type": "code",
   "execution_count": 120,
   "metadata": {},
   "outputs": [
    {
     "output_type": "execute_result",
     "data": {
      "text/plain": [
       "2.54589"
      ]
     },
     "metadata": {},
     "execution_count": 120
    }
   ],
   "source": [
    "# Extract the mass using the [column label] and [row index]\n",
    "df.loc[7,'MASS(mjupiter)']"
   ]
  },
  {
   "cell_type": "code",
   "execution_count": 121,
   "metadata": {},
   "outputs": [
    {
     "output_type": "execute_result",
     "data": {
      "text/plain": [
       "2.54589"
      ]
     },
     "metadata": {},
     "execution_count": 121
    }
   ],
   "source": [
    "# Extract the mass using and [row index] and [column index]\n",
    "# The MASS(mjupiter) column is the 5th labeled column (not counting the Index)\n",
    "# All pandas DataFrames have the method .iloc() \n",
    "df.iloc[7,5]"
   ]
  },
  {
   "cell_type": "code",
   "execution_count": 122,
   "metadata": {},
   "outputs": [],
   "source": [
    "df.to_csv('tmp/exoplanets.csv', index=False, encoding='utf-8')"
   ]
  },
  {
   "source": [
    "## CSV Online"
   ],
   "cell_type": "markdown",
   "metadata": {}
  },
  {
   "cell_type": "code",
   "execution_count": 124,
   "metadata": {},
   "outputs": [
    {
     "output_type": "execute_result",
     "data": {
      "text/plain": [
       "            water_level  surface_area  reservoir_storage  \\\n",
       "date                                                       \n",
       "1966-01-01       480.88        968.23               9426   \n",
       "1966-02-01       492.67       1573.66              24376   \n",
       "1966-03-01       492.68       1574.32              24392   \n",
       "...                 ...           ...                ...   \n",
       "2021-04-06       492.25       1548.05              23721   \n",
       "2021-04-07       492.21       1545.80              23659   \n",
       "2021-04-08       492.09       1539.14              23474   \n",
       "\n",
       "            conservation_storage  percent_full  conservation_capacity  \\\n",
       "date                                                                    \n",
       "1966-01-01                  8817          36.8                  23972   \n",
       "1966-02-01                 23767          99.1                  23972   \n",
       "1966-03-01                 23783          99.2                  23972   \n",
       "...                          ...           ...                    ...   \n",
       "2021-04-06                 23112          96.4                  23972   \n",
       "2021-04-07                 23050          96.2                  23972   \n",
       "2021-04-08                 22865          95.4                  23972   \n",
       "\n",
       "            dead_pool_capacity  \n",
       "date                            \n",
       "1966-01-01                 609  \n",
       "1966-02-01                 609  \n",
       "1966-03-01                 609  \n",
       "...                        ...  \n",
       "2021-04-06                 609  \n",
       "2021-04-07                 609  \n",
       "2021-04-08                 609  \n",
       "\n",
       "[16615 rows x 7 columns]"
      ],
      "text/html": "<div>\n<style scoped>\n    .dataframe tbody tr th:only-of-type {\n        vertical-align: middle;\n    }\n\n    .dataframe tbody tr th {\n        vertical-align: top;\n    }\n\n    .dataframe thead th {\n        text-align: right;\n    }\n</style>\n<table border=\"1\" class=\"dataframe\">\n  <thead>\n    <tr style=\"text-align: right;\">\n      <th></th>\n      <th>water_level</th>\n      <th>surface_area</th>\n      <th>reservoir_storage</th>\n      <th>conservation_storage</th>\n      <th>percent_full</th>\n      <th>conservation_capacity</th>\n      <th>dead_pool_capacity</th>\n    </tr>\n    <tr>\n      <th>date</th>\n      <th></th>\n      <th></th>\n      <th></th>\n      <th></th>\n      <th></th>\n      <th></th>\n      <th></th>\n    </tr>\n  </thead>\n  <tbody>\n    <tr>\n      <th>1966-01-01</th>\n      <td>480.88</td>\n      <td>968.23</td>\n      <td>9426</td>\n      <td>8817</td>\n      <td>36.8</td>\n      <td>23972</td>\n      <td>609</td>\n    </tr>\n    <tr>\n      <th>1966-02-01</th>\n      <td>492.67</td>\n      <td>1573.66</td>\n      <td>24376</td>\n      <td>23767</td>\n      <td>99.1</td>\n      <td>23972</td>\n      <td>609</td>\n    </tr>\n    <tr>\n      <th>1966-03-01</th>\n      <td>492.68</td>\n      <td>1574.32</td>\n      <td>24392</td>\n      <td>23783</td>\n      <td>99.2</td>\n      <td>23972</td>\n      <td>609</td>\n    </tr>\n    <tr>\n      <th>...</th>\n      <td>...</td>\n      <td>...</td>\n      <td>...</td>\n      <td>...</td>\n      <td>...</td>\n      <td>...</td>\n      <td>...</td>\n    </tr>\n    <tr>\n      <th>2021-04-06</th>\n      <td>492.25</td>\n      <td>1548.05</td>\n      <td>23721</td>\n      <td>23112</td>\n      <td>96.4</td>\n      <td>23972</td>\n      <td>609</td>\n    </tr>\n    <tr>\n      <th>2021-04-07</th>\n      <td>492.21</td>\n      <td>1545.80</td>\n      <td>23659</td>\n      <td>23050</td>\n      <td>96.2</td>\n      <td>23972</td>\n      <td>609</td>\n    </tr>\n    <tr>\n      <th>2021-04-08</th>\n      <td>492.09</td>\n      <td>1539.14</td>\n      <td>23474</td>\n      <td>22865</td>\n      <td>95.4</td>\n      <td>23972</td>\n      <td>609</td>\n    </tr>\n  </tbody>\n</table>\n<p>16615 rows × 7 columns</p>\n</div>"
     },
     "metadata": {},
     "execution_count": 124
    }
   ],
   "source": [
    "url = 'http://waterdatafortexas.org/reservoirs/individual/austin.csv'\n",
    "df  = pd.read_csv(url, comment='#', index_col='date', parse_dates=True)\n",
    "df\n",
    "\n",
    "# note: you can parse dates, and ignore comment lines"
   ]
  },
  {
   "source": [
    "## Excel"
   ],
   "cell_type": "markdown",
   "metadata": {}
  },
  {
   "cell_type": "code",
   "execution_count": 125,
   "metadata": {},
   "outputs": [
    {
     "output_type": "stream",
     "name": "stderr",
     "text": [
      "<ipython-input-125-c6a950cf95b5>:5: FutureWarning: As the xlwt package is no longer maintained, the xlwt engine will be removed in a future version of pandas. This is the only engine in pandas that supports writing in the xls format. Install openpyxl and write to an xlsx file instead. You can set the option io.excel.xls.writer to 'xlwt' to silence this warning. While this option is deprecated and will also raise a warning, it can be globally set and the warning suppressed.\n  df.to_excel(file_name, index=False, encoding='utf-8')\n"
     ]
    }
   ],
   "source": [
    "# Save the DataFrame as an Excel file\n",
    "file_name = 'tmp/exoplanets.xls'\n",
    "clean_tmp(file_name)\n",
    "\n",
    "df.to_excel(file_name, index=False, encoding='utf-8')"
   ]
  },
  {
   "cell_type": "code",
   "execution_count": 126,
   "metadata": {},
   "outputs": [
    {
     "output_type": "error",
     "ename": "TypeError",
     "evalue": "read_excel() got an unexpected keyword argument 'sheetnames'",
     "traceback": [
      "\u001b[1;31m---------------------------------------------------------------------------\u001b[0m",
      "\u001b[1;31mTypeError\u001b[0m                                 Traceback (most recent call last)",
      "\u001b[1;32m<ipython-input-126-b624c19747d3>\u001b[0m in \u001b[0;36m<module>\u001b[1;34m\u001b[0m\n\u001b[0;32m      1\u001b[0m \u001b[1;31m# Read the Excel file\u001b[0m\u001b[1;33m\u001b[0m\u001b[1;33m\u001b[0m\u001b[1;33m\u001b[0m\u001b[0m\n\u001b[0;32m      2\u001b[0m \u001b[0mfile_name\u001b[0m \u001b[1;33m=\u001b[0m \u001b[1;34m'tmp/exoplanets.xls'\u001b[0m\u001b[1;33m\u001b[0m\u001b[1;33m\u001b[0m\u001b[0m\n\u001b[1;32m----> 3\u001b[1;33m \u001b[0mdf\u001b[0m \u001b[1;33m=\u001b[0m \u001b[0mpd\u001b[0m\u001b[1;33m.\u001b[0m\u001b[0mread_excel\u001b[0m\u001b[1;33m(\u001b[0m\u001b[0mfile_name\u001b[0m\u001b[1;33m,\u001b[0m \u001b[0msheetnames\u001b[0m\u001b[1;33m=\u001b[0m\u001b[1;33m[\u001b[0m\u001b[1;36m0\u001b[0m\u001b[1;33m]\u001b[0m\u001b[1;33m,\u001b[0m \u001b[0mencoding\u001b[0m\u001b[1;33m=\u001b[0m\u001b[1;34m'utf-8'\u001b[0m\u001b[1;33m)\u001b[0m\u001b[1;33m\u001b[0m\u001b[1;33m\u001b[0m\u001b[0m\n\u001b[0m\u001b[0;32m      4\u001b[0m \u001b[0mdf\u001b[0m\u001b[1;33m.\u001b[0m\u001b[0mhead\u001b[0m\u001b[1;33m(\u001b[0m\u001b[1;36m3\u001b[0m\u001b[1;33m)\u001b[0m\u001b[1;33m\u001b[0m\u001b[1;33m\u001b[0m\u001b[0m\n",
      "\u001b[1;32m~\\anaconda3\\lib\\site-packages\\pandas\\util\\_decorators.py\u001b[0m in \u001b[0;36mwrapper\u001b[1;34m(*args, **kwargs)\u001b[0m\n\u001b[0;32m    297\u001b[0m                 )\n\u001b[0;32m    298\u001b[0m                 \u001b[0mwarnings\u001b[0m\u001b[1;33m.\u001b[0m\u001b[0mwarn\u001b[0m\u001b[1;33m(\u001b[0m\u001b[0mmsg\u001b[0m\u001b[1;33m,\u001b[0m \u001b[0mFutureWarning\u001b[0m\u001b[1;33m,\u001b[0m \u001b[0mstacklevel\u001b[0m\u001b[1;33m=\u001b[0m\u001b[0mstacklevel\u001b[0m\u001b[1;33m)\u001b[0m\u001b[1;33m\u001b[0m\u001b[1;33m\u001b[0m\u001b[0m\n\u001b[1;32m--> 299\u001b[1;33m             \u001b[1;32mreturn\u001b[0m \u001b[0mfunc\u001b[0m\u001b[1;33m(\u001b[0m\u001b[1;33m*\u001b[0m\u001b[0margs\u001b[0m\u001b[1;33m,\u001b[0m \u001b[1;33m**\u001b[0m\u001b[0mkwargs\u001b[0m\u001b[1;33m)\u001b[0m\u001b[1;33m\u001b[0m\u001b[1;33m\u001b[0m\u001b[0m\n\u001b[0m\u001b[0;32m    300\u001b[0m \u001b[1;33m\u001b[0m\u001b[0m\n\u001b[0;32m    301\u001b[0m         \u001b[1;32mreturn\u001b[0m \u001b[0mwrapper\u001b[0m\u001b[1;33m\u001b[0m\u001b[1;33m\u001b[0m\u001b[0m\n",
      "\u001b[1;31mTypeError\u001b[0m: read_excel() got an unexpected keyword argument 'sheetnames'"
     ]
    }
   ],
   "source": [
    "# Read the Excel file\n",
    "file_name = 'tmp/exoplanets.xls'\n",
    "df = pd.read_excel(file_name, sheetnames=[0], encoding='utf-8')\n",
    "df.head(3)"
   ]
  },
  {
   "cell_type": "code",
   "execution_count": 127,
   "metadata": {},
   "outputs": [],
   "source": [
    "## SQLite"
   ]
  },
  {
   "cell_type": "code",
   "execution_count": 128,
   "metadata": {},
   "outputs": [],
   "source": [
    "file_name = \"tmp/exoplanets.sqlite\"\n",
    "clean_tmp(file_name)\n",
    "\n",
    "from sqlalchemy import create_engine\n",
    "engine = create_engine('sqlite:///' + file_name)"
   ]
  },
  {
   "cell_type": "code",
   "execution_count": 129,
   "metadata": {},
   "outputs": [],
   "source": [
    "df.to_sql('table', engine, index=False)"
   ]
  },
  {
   "cell_type": "code",
   "execution_count": 130,
   "metadata": {},
   "outputs": [
    {
     "output_type": "execute_result",
     "data": {
      "text/plain": [
       "   water_level  surface_area  reservoir_storage  conservation_storage  \\\n",
       "0       480.88        968.23               9426                  8817   \n",
       "1       492.67       1573.66              24376                 23767   \n",
       "2       492.68       1574.32              24392                 23783   \n",
       "3       492.40       1556.78              23953                 23344   \n",
       "4       492.54       1565.29              24172                 23563   \n",
       "\n",
       "   percent_full  conservation_capacity  dead_pool_capacity  \n",
       "0          36.8                  23972                 609  \n",
       "1          99.1                  23972                 609  \n",
       "2          99.2                  23972                 609  \n",
       "3          97.4                  23972                 609  \n",
       "4          98.3                  23972                 609  "
      ],
      "text/html": "<div>\n<style scoped>\n    .dataframe tbody tr th:only-of-type {\n        vertical-align: middle;\n    }\n\n    .dataframe tbody tr th {\n        vertical-align: top;\n    }\n\n    .dataframe thead th {\n        text-align: right;\n    }\n</style>\n<table border=\"1\" class=\"dataframe\">\n  <thead>\n    <tr style=\"text-align: right;\">\n      <th></th>\n      <th>water_level</th>\n      <th>surface_area</th>\n      <th>reservoir_storage</th>\n      <th>conservation_storage</th>\n      <th>percent_full</th>\n      <th>conservation_capacity</th>\n      <th>dead_pool_capacity</th>\n    </tr>\n  </thead>\n  <tbody>\n    <tr>\n      <th>0</th>\n      <td>480.88</td>\n      <td>968.23</td>\n      <td>9426</td>\n      <td>8817</td>\n      <td>36.8</td>\n      <td>23972</td>\n      <td>609</td>\n    </tr>\n    <tr>\n      <th>1</th>\n      <td>492.67</td>\n      <td>1573.66</td>\n      <td>24376</td>\n      <td>23767</td>\n      <td>99.1</td>\n      <td>23972</td>\n      <td>609</td>\n    </tr>\n    <tr>\n      <th>2</th>\n      <td>492.68</td>\n      <td>1574.32</td>\n      <td>24392</td>\n      <td>23783</td>\n      <td>99.2</td>\n      <td>23972</td>\n      <td>609</td>\n    </tr>\n    <tr>\n      <th>3</th>\n      <td>492.40</td>\n      <td>1556.78</td>\n      <td>23953</td>\n      <td>23344</td>\n      <td>97.4</td>\n      <td>23972</td>\n      <td>609</td>\n    </tr>\n    <tr>\n      <th>4</th>\n      <td>492.54</td>\n      <td>1565.29</td>\n      <td>24172</td>\n      <td>23563</td>\n      <td>98.3</td>\n      <td>23972</td>\n      <td>609</td>\n    </tr>\n  </tbody>\n</table>\n</div>"
     },
     "metadata": {},
     "execution_count": 130
    }
   ],
   "source": [
    "df = pd.read_sql('table', engine)\n",
    "df.head()"
   ]
  },
  {
   "source": [
    "## JSON"
   ],
   "cell_type": "markdown",
   "metadata": {}
  },
  {
   "cell_type": "code",
   "execution_count": 131,
   "metadata": {},
   "outputs": [],
   "source": [
    "# Writing to JSON file\n",
    "file_name = \"tmp/exoplanets.json\"\n",
    "clean_tmp(file_name)\n",
    "\n",
    "df.to_json(file_name)"
   ]
  },
  {
   "cell_type": "code",
   "execution_count": 132,
   "metadata": {},
   "outputs": [
    {
     "output_type": "execute_result",
     "data": {
      "text/plain": [
       "   water_level  surface_area  reservoir_storage  conservation_storage  \\\n",
       "0       480.88        968.23               9426                  8817   \n",
       "1       492.67       1573.66              24376                 23767   \n",
       "2       492.68       1574.32              24392                 23783   \n",
       "3       492.40       1556.78              23953                 23344   \n",
       "4       492.54       1565.29              24172                 23563   \n",
       "\n",
       "   percent_full  conservation_capacity  dead_pool_capacity  \n",
       "0          36.8                  23972                 609  \n",
       "1          99.1                  23972                 609  \n",
       "2          99.2                  23972                 609  \n",
       "3          97.4                  23972                 609  \n",
       "4          98.3                  23972                 609  "
      ],
      "text/html": "<div>\n<style scoped>\n    .dataframe tbody tr th:only-of-type {\n        vertical-align: middle;\n    }\n\n    .dataframe tbody tr th {\n        vertical-align: top;\n    }\n\n    .dataframe thead th {\n        text-align: right;\n    }\n</style>\n<table border=\"1\" class=\"dataframe\">\n  <thead>\n    <tr style=\"text-align: right;\">\n      <th></th>\n      <th>water_level</th>\n      <th>surface_area</th>\n      <th>reservoir_storage</th>\n      <th>conservation_storage</th>\n      <th>percent_full</th>\n      <th>conservation_capacity</th>\n      <th>dead_pool_capacity</th>\n    </tr>\n  </thead>\n  <tbody>\n    <tr>\n      <th>0</th>\n      <td>480.88</td>\n      <td>968.23</td>\n      <td>9426</td>\n      <td>8817</td>\n      <td>36.8</td>\n      <td>23972</td>\n      <td>609</td>\n    </tr>\n    <tr>\n      <th>1</th>\n      <td>492.67</td>\n      <td>1573.66</td>\n      <td>24376</td>\n      <td>23767</td>\n      <td>99.1</td>\n      <td>23972</td>\n      <td>609</td>\n    </tr>\n    <tr>\n      <th>2</th>\n      <td>492.68</td>\n      <td>1574.32</td>\n      <td>24392</td>\n      <td>23783</td>\n      <td>99.2</td>\n      <td>23972</td>\n      <td>609</td>\n    </tr>\n    <tr>\n      <th>3</th>\n      <td>492.40</td>\n      <td>1556.78</td>\n      <td>23953</td>\n      <td>23344</td>\n      <td>97.4</td>\n      <td>23972</td>\n      <td>609</td>\n    </tr>\n    <tr>\n      <th>4</th>\n      <td>492.54</td>\n      <td>1565.29</td>\n      <td>24172</td>\n      <td>23563</td>\n      <td>98.3</td>\n      <td>23972</td>\n      <td>609</td>\n    </tr>\n  </tbody>\n</table>\n</div>"
     },
     "metadata": {},
     "execution_count": 132
    }
   ],
   "source": [
    "# Reading the JSON file results in columns sorted by label\n",
    "\n",
    "file_name = \"tmp/exoplanets.json\"\n",
    "df = pd.read_json(file_name)\n",
    "df.head()"
   ]
  },
  {
   "cell_type": "code",
   "execution_count": 133,
   "metadata": {},
   "outputs": [
    {
     "output_type": "stream",
     "text": [
      "\u001b[1;31mSignature:\u001b[0m\n",
      "\u001b[0mpd\u001b[0m\u001b[1;33m.\u001b[0m\u001b[0mread_json\u001b[0m\u001b[1;33m(\u001b[0m\u001b[1;33m\n",
      "\u001b[0m    \u001b[0mpath_or_buf\u001b[0m\u001b[1;33m=\u001b[0m\u001b[1;32mNone\u001b[0m\u001b[1;33m,\u001b[0m\u001b[1;33m\n",
      "\u001b[0m    \u001b[0morient\u001b[0m\u001b[1;33m=\u001b[0m\u001b[1;32mNone\u001b[0m\u001b[1;33m,\u001b[0m\u001b[1;33m\n",
      "\u001b[0m    \u001b[0mtyp\u001b[0m\u001b[1;33m=\u001b[0m\u001b[1;34m'frame'\u001b[0m\u001b[1;33m,\u001b[0m\u001b[1;33m\n",
      "\u001b[0m    \u001b[0mdtype\u001b[0m\u001b[1;33m=\u001b[0m\u001b[1;32mNone\u001b[0m\u001b[1;33m,\u001b[0m\u001b[1;33m\n",
      "\u001b[0m    \u001b[0mconvert_axes\u001b[0m\u001b[1;33m=\u001b[0m\u001b[1;32mNone\u001b[0m\u001b[1;33m,\u001b[0m\u001b[1;33m\n",
      "\u001b[0m    \u001b[0mconvert_dates\u001b[0m\u001b[1;33m=\u001b[0m\u001b[1;32mTrue\u001b[0m\u001b[1;33m,\u001b[0m\u001b[1;33m\n",
      "\u001b[0m    \u001b[0mkeep_default_dates\u001b[0m\u001b[1;33m:\u001b[0m \u001b[0mbool\u001b[0m \u001b[1;33m=\u001b[0m \u001b[1;32mTrue\u001b[0m\u001b[1;33m,\u001b[0m\u001b[1;33m\n",
      "\u001b[0m    \u001b[0mnumpy\u001b[0m\u001b[1;33m:\u001b[0m \u001b[0mbool\u001b[0m \u001b[1;33m=\u001b[0m \u001b[1;32mFalse\u001b[0m\u001b[1;33m,\u001b[0m\u001b[1;33m\n",
      "\u001b[0m    \u001b[0mprecise_float\u001b[0m\u001b[1;33m:\u001b[0m \u001b[0mbool\u001b[0m \u001b[1;33m=\u001b[0m \u001b[1;32mFalse\u001b[0m\u001b[1;33m,\u001b[0m\u001b[1;33m\n",
      "\u001b[0m    \u001b[0mdate_unit\u001b[0m\u001b[1;33m=\u001b[0m\u001b[1;32mNone\u001b[0m\u001b[1;33m,\u001b[0m\u001b[1;33m\n",
      "\u001b[0m    \u001b[0mencoding\u001b[0m\u001b[1;33m=\u001b[0m\u001b[1;32mNone\u001b[0m\u001b[1;33m,\u001b[0m\u001b[1;33m\n",
      "\u001b[0m    \u001b[0mlines\u001b[0m\u001b[1;33m:\u001b[0m \u001b[0mbool\u001b[0m \u001b[1;33m=\u001b[0m \u001b[1;32mFalse\u001b[0m\u001b[1;33m,\u001b[0m\u001b[1;33m\n",
      "\u001b[0m    \u001b[0mchunksize\u001b[0m\u001b[1;33m:\u001b[0m \u001b[0mUnion\u001b[0m\u001b[1;33m[\u001b[0m\u001b[0mint\u001b[0m\u001b[1;33m,\u001b[0m \u001b[0mNoneType\u001b[0m\u001b[1;33m]\u001b[0m \u001b[1;33m=\u001b[0m \u001b[1;32mNone\u001b[0m\u001b[1;33m,\u001b[0m\u001b[1;33m\n",
      "\u001b[0m    \u001b[0mcompression\u001b[0m\u001b[1;33m:\u001b[0m \u001b[0mUnion\u001b[0m\u001b[1;33m[\u001b[0m\u001b[0mstr\u001b[0m\u001b[1;33m,\u001b[0m \u001b[0mDict\u001b[0m\u001b[1;33m[\u001b[0m\u001b[0mstr\u001b[0m\u001b[1;33m,\u001b[0m \u001b[0mAny\u001b[0m\u001b[1;33m]\u001b[0m\u001b[1;33m,\u001b[0m \u001b[0mNoneType\u001b[0m\u001b[1;33m]\u001b[0m \u001b[1;33m=\u001b[0m \u001b[1;34m'infer'\u001b[0m\u001b[1;33m,\u001b[0m\u001b[1;33m\n",
      "\u001b[0m    \u001b[0mnrows\u001b[0m\u001b[1;33m:\u001b[0m \u001b[0mUnion\u001b[0m\u001b[1;33m[\u001b[0m\u001b[0mint\u001b[0m\u001b[1;33m,\u001b[0m \u001b[0mNoneType\u001b[0m\u001b[1;33m]\u001b[0m \u001b[1;33m=\u001b[0m \u001b[1;32mNone\u001b[0m\u001b[1;33m,\u001b[0m\u001b[1;33m\n",
      "\u001b[0m    \u001b[0mstorage_options\u001b[0m\u001b[1;33m:\u001b[0m \u001b[0mUnion\u001b[0m\u001b[1;33m[\u001b[0m\u001b[0mDict\u001b[0m\u001b[1;33m[\u001b[0m\u001b[0mstr\u001b[0m\u001b[1;33m,\u001b[0m \u001b[0mAny\u001b[0m\u001b[1;33m]\u001b[0m\u001b[1;33m,\u001b[0m \u001b[0mNoneType\u001b[0m\u001b[1;33m]\u001b[0m \u001b[1;33m=\u001b[0m \u001b[1;32mNone\u001b[0m\u001b[1;33m,\u001b[0m\u001b[1;33m\n",
      "\u001b[0m\u001b[1;33m)\u001b[0m\u001b[1;33m\u001b[0m\u001b[1;33m\u001b[0m\u001b[0m\n",
      "\u001b[1;31mDocstring:\u001b[0m\n",
      "Convert a JSON string to pandas object.\n",
      "\n",
      "Parameters\n",
      "----------\n",
      "path_or_buf : a valid JSON str, path object or file-like object\n",
      "    Any valid string path is acceptable. The string could be a URL. Valid\n",
      "    URL schemes include http, ftp, s3, and file. For file URLs, a host is\n",
      "    expected. A local file could be:\n",
      "    ``file://localhost/path/to/table.json``.\n",
      "\n",
      "    If you want to pass in a path object, pandas accepts any\n",
      "    ``os.PathLike``.\n",
      "\n",
      "    By file-like object, we refer to objects with a ``read()`` method,\n",
      "    such as a file handle (e.g. via builtin ``open`` function)\n",
      "    or ``StringIO``.\n",
      "orient : str\n",
      "    Indication of expected JSON string format.\n",
      "    Compatible JSON strings can be produced by ``to_json()`` with a\n",
      "    corresponding orient value.\n",
      "    The set of possible orients is:\n",
      "\n",
      "    - ``'split'`` : dict like\n",
      "      ``{index -> [index], columns -> [columns], data -> [values]}``\n",
      "    - ``'records'`` : list like\n",
      "      ``[{column -> value}, ... , {column -> value}]``\n",
      "    - ``'index'`` : dict like ``{index -> {column -> value}}``\n",
      "    - ``'columns'`` : dict like ``{column -> {index -> value}}``\n",
      "    - ``'values'`` : just the values array\n",
      "\n",
      "    The allowed and default values depend on the value\n",
      "    of the `typ` parameter.\n",
      "\n",
      "    * when ``typ == 'series'``,\n",
      "\n",
      "      - allowed orients are ``{'split','records','index'}``\n",
      "      - default is ``'index'``\n",
      "      - The Series index must be unique for orient ``'index'``.\n",
      "\n",
      "    * when ``typ == 'frame'``,\n",
      "\n",
      "      - allowed orients are ``{'split','records','index',\n",
      "        'columns','values', 'table'}``\n",
      "      - default is ``'columns'``\n",
      "      - The DataFrame index must be unique for orients ``'index'`` and\n",
      "        ``'columns'``.\n",
      "      - The DataFrame columns must be unique for orients ``'index'``,\n",
      "        ``'columns'``, and ``'records'``.\n",
      "\n",
      "typ : {'frame', 'series'}, default 'frame'\n",
      "    The type of object to recover.\n",
      "\n",
      "dtype : bool or dict, default None\n",
      "    If True, infer dtypes; if a dict of column to dtype, then use those;\n",
      "    if False, then don't infer dtypes at all, applies only to the data.\n",
      "\n",
      "    For all ``orient`` values except ``'table'``, default is True.\n",
      "\n",
      "    .. versionchanged:: 0.25.0\n",
      "\n",
      "       Not applicable for ``orient='table'``.\n",
      "\n",
      "convert_axes : bool, default None\n",
      "    Try to convert the axes to the proper dtypes.\n",
      "\n",
      "    For all ``orient`` values except ``'table'``, default is True.\n",
      "\n",
      "    .. versionchanged:: 0.25.0\n",
      "\n",
      "       Not applicable for ``orient='table'``.\n",
      "\n",
      "convert_dates : bool or list of str, default True\n",
      "    If True then default datelike columns may be converted (depending on\n",
      "    keep_default_dates).\n",
      "    If False, no dates will be converted.\n",
      "    If a list of column names, then those columns will be converted and\n",
      "    default datelike columns may also be converted (depending on\n",
      "    keep_default_dates).\n",
      "\n",
      "keep_default_dates : bool, default True\n",
      "    If parsing dates (convert_dates is not False), then try to parse the\n",
      "    default datelike columns.\n",
      "    A column label is datelike if\n",
      "\n",
      "    * it ends with ``'_at'``,\n",
      "\n",
      "    * it ends with ``'_time'``,\n",
      "\n",
      "    * it begins with ``'timestamp'``,\n",
      "\n",
      "    * it is ``'modified'``, or\n",
      "\n",
      "    * it is ``'date'``.\n",
      "\n",
      "numpy : bool, default False\n",
      "    Direct decoding to numpy arrays. Supports numeric data only, but\n",
      "    non-numeric column and index labels are supported. Note also that the\n",
      "    JSON ordering MUST be the same for each term if numpy=True.\n",
      "\n",
      "    .. deprecated:: 1.0.0\n",
      "\n",
      "precise_float : bool, default False\n",
      "    Set to enable usage of higher precision (strtod) function when\n",
      "    decoding string to double values. Default (False) is to use fast but\n",
      "    less precise builtin functionality.\n",
      "\n",
      "date_unit : str, default None\n",
      "    The timestamp unit to detect if converting dates. The default behaviour\n",
      "    is to try and detect the correct precision, but if this is not desired\n",
      "    then pass one of 's', 'ms', 'us' or 'ns' to force parsing only seconds,\n",
      "    milliseconds, microseconds or nanoseconds respectively.\n",
      "\n",
      "encoding : str, default is 'utf-8'\n",
      "    The encoding to use to decode py3 bytes.\n",
      "\n",
      "lines : bool, default False\n",
      "    Read the file as a json object per line.\n",
      "\n",
      "chunksize : int, optional\n",
      "    Return JsonReader object for iteration.\n",
      "    See the `line-delimited json docs\n",
      "    <https://pandas.pydata.org/pandas-docs/stable/user_guide/io.html#line-delimited-json>`_\n",
      "    for more information on ``chunksize``.\n",
      "    This can only be passed if `lines=True`.\n",
      "    If this is None, the file will be read into memory all at once.\n",
      "\n",
      "    .. versionchanged:: 1.2\n",
      "\n",
      "       ``JsonReader`` is a context manager.\n",
      "\n",
      "compression : {'infer', 'gzip', 'bz2', 'zip', 'xz', None}, default 'infer'\n",
      "    For on-the-fly decompression of on-disk data. If 'infer', then use\n",
      "    gzip, bz2, zip or xz if path_or_buf is a string ending in\n",
      "    '.gz', '.bz2', '.zip', or 'xz', respectively, and no decompression\n",
      "    otherwise. If using 'zip', the ZIP file must contain only one data\n",
      "    file to be read in. Set to None for no decompression.\n",
      "\n",
      "nrows : int, optional\n",
      "    The number of lines from the line-delimited jsonfile that has to be read.\n",
      "    This can only be passed if `lines=True`.\n",
      "    If this is None, all the rows will be returned.\n",
      "\n",
      "    .. versionadded:: 1.1\n",
      "\n",
      "storage_options : dict, optional\n",
      "    Extra options that make sense for a particular storage connection, e.g.\n",
      "    host, port, username, password, etc., if using a URL that will\n",
      "    be parsed by ``fsspec``, e.g., starting \"s3://\", \"gcs://\". An error\n",
      "    will be raised if providing this argument with a non-fsspec URL.\n",
      "    See the fsspec and backend storage implementation docs for the set of\n",
      "    allowed keys and values.\n",
      "\n",
      "    .. versionadded:: 1.2.0\n",
      "\n",
      "Returns\n",
      "-------\n",
      "Series or DataFrame\n",
      "    The type returned depends on the value of `typ`.\n",
      "\n",
      "See Also\n",
      "--------\n",
      "DataFrame.to_json : Convert a DataFrame to a JSON string.\n",
      "Series.to_json : Convert a Series to a JSON string.\n",
      "\n",
      "Notes\n",
      "-----\n",
      "Specific to ``orient='table'``, if a :class:`DataFrame` with a literal\n",
      ":class:`Index` name of `index` gets written with :func:`to_json`, the\n",
      "subsequent read operation will incorrectly set the :class:`Index` name to\n",
      "``None``. This is because `index` is also used by :func:`DataFrame.to_json`\n",
      "to denote a missing :class:`Index` name, and the subsequent\n",
      ":func:`read_json` operation cannot distinguish between the two. The same\n",
      "limitation is encountered with a :class:`MultiIndex` and any names\n",
      "beginning with ``'level_'``.\n",
      "\n",
      "Examples\n",
      "--------\n",
      ">>> df = pd.DataFrame([['a', 'b'], ['c', 'd']],\n",
      "...                   index=['row 1', 'row 2'],\n",
      "...                   columns=['col 1', 'col 2'])\n",
      "\n",
      "Encoding/decoding a Dataframe using ``'split'`` formatted JSON:\n",
      "\n",
      ">>> df.to_json(orient='split')\n",
      "'{\"columns\":[\"col 1\",\"col 2\"],\n",
      "  \"index\":[\"row 1\",\"row 2\"],\n",
      "  \"data\":[[\"a\",\"b\"],[\"c\",\"d\"]]}'\n",
      ">>> pd.read_json(_, orient='split')\n",
      "      col 1 col 2\n",
      "row 1     a     b\n",
      "row 2     c     d\n",
      "\n",
      "Encoding/decoding a Dataframe using ``'index'`` formatted JSON:\n",
      "\n",
      ">>> df.to_json(orient='index')\n",
      "'{\"row 1\":{\"col 1\":\"a\",\"col 2\":\"b\"},\"row 2\":{\"col 1\":\"c\",\"col 2\":\"d\"}}'\n",
      ">>> pd.read_json(_, orient='index')\n",
      "      col 1 col 2\n",
      "row 1     a     b\n",
      "row 2     c     d\n",
      "\n",
      "Encoding/decoding a Dataframe using ``'records'`` formatted JSON.\n",
      "Note that index labels are not preserved with this encoding.\n",
      "\n",
      ">>> df.to_json(orient='records')\n",
      "'[{\"col 1\":\"a\",\"col 2\":\"b\"},{\"col 1\":\"c\",\"col 2\":\"d\"}]'\n",
      ">>> pd.read_json(_, orient='records')\n",
      "  col 1 col 2\n",
      "0     a     b\n",
      "1     c     d\n",
      "\n",
      "Encoding with Table Schema\n",
      "\n",
      ">>> df.to_json(orient='table')\n",
      "'{\"schema\": {\"fields\": [{\"name\": \"index\", \"type\": \"string\"},\n",
      "                        {\"name\": \"col 1\", \"type\": \"string\"},\n",
      "                        {\"name\": \"col 2\", \"type\": \"string\"}],\n",
      "                \"primaryKey\": \"index\",\n",
      "                \"pandas_version\": \"0.20.0\"},\n",
      "    \"data\": [{\"index\": \"row 1\", \"col 1\": \"a\", \"col 2\": \"b\"},\n",
      "            {\"index\": \"row 2\", \"col 1\": \"c\", \"col 2\": \"d\"}]}'\n",
      "\u001b[1;31mFile:\u001b[0m      c:\\users\\jeffs\\anaconda3\\lib\\site-packages\\pandas\\io\\json\\_json.py\n",
      "\u001b[1;31mType:\u001b[0m      function\n"
     ],
     "name": "stdout"
    }
   ],
   "source": [
    "pd.read_json?"
   ]
  },
  {
   "source": [
    "## HDF5"
   ],
   "cell_type": "markdown",
   "metadata": {}
  },
  {
   "cell_type": "code",
   "execution_count": 134,
   "metadata": {},
   "outputs": [],
   "source": [
    "file_name = \"tmp/exoplanets.hdf\"\n",
    "clean_tmp(file_name)\n",
    "\n",
    "df.to_hdf(file_name,\n",
    "          'df',\n",
    "           mode='w',\n",
    "           format='table',\n",
    "           encoding='utf-8')"
   ]
  },
  {
   "cell_type": "code",
   "execution_count": 135,
   "metadata": {},
   "outputs": [
    {
     "output_type": "execute_result",
     "data": {
      "text/plain": [
       "   water_level  surface_area  reservoir_storage  conservation_storage  \\\n",
       "0       480.88        968.23               9426                  8817   \n",
       "1       492.67       1573.66              24376                 23767   \n",
       "2       492.68       1574.32              24392                 23783   \n",
       "3       492.40       1556.78              23953                 23344   \n",
       "4       492.54       1565.29              24172                 23563   \n",
       "\n",
       "   percent_full  conservation_capacity  dead_pool_capacity  \n",
       "0          36.8                  23972                 609  \n",
       "1          99.1                  23972                 609  \n",
       "2          99.2                  23972                 609  \n",
       "3          97.4                  23972                 609  \n",
       "4          98.3                  23972                 609  "
      ],
      "text/html": "<div>\n<style scoped>\n    .dataframe tbody tr th:only-of-type {\n        vertical-align: middle;\n    }\n\n    .dataframe tbody tr th {\n        vertical-align: top;\n    }\n\n    .dataframe thead th {\n        text-align: right;\n    }\n</style>\n<table border=\"1\" class=\"dataframe\">\n  <thead>\n    <tr style=\"text-align: right;\">\n      <th></th>\n      <th>water_level</th>\n      <th>surface_area</th>\n      <th>reservoir_storage</th>\n      <th>conservation_storage</th>\n      <th>percent_full</th>\n      <th>conservation_capacity</th>\n      <th>dead_pool_capacity</th>\n    </tr>\n  </thead>\n  <tbody>\n    <tr>\n      <th>0</th>\n      <td>480.88</td>\n      <td>968.23</td>\n      <td>9426</td>\n      <td>8817</td>\n      <td>36.8</td>\n      <td>23972</td>\n      <td>609</td>\n    </tr>\n    <tr>\n      <th>1</th>\n      <td>492.67</td>\n      <td>1573.66</td>\n      <td>24376</td>\n      <td>23767</td>\n      <td>99.1</td>\n      <td>23972</td>\n      <td>609</td>\n    </tr>\n    <tr>\n      <th>2</th>\n      <td>492.68</td>\n      <td>1574.32</td>\n      <td>24392</td>\n      <td>23783</td>\n      <td>99.2</td>\n      <td>23972</td>\n      <td>609</td>\n    </tr>\n    <tr>\n      <th>3</th>\n      <td>492.40</td>\n      <td>1556.78</td>\n      <td>23953</td>\n      <td>23344</td>\n      <td>97.4</td>\n      <td>23972</td>\n      <td>609</td>\n    </tr>\n    <tr>\n      <th>4</th>\n      <td>492.54</td>\n      <td>1565.29</td>\n      <td>24172</td>\n      <td>23563</td>\n      <td>98.3</td>\n      <td>23972</td>\n      <td>609</td>\n    </tr>\n  </tbody>\n</table>\n</div>"
     },
     "metadata": {},
     "execution_count": 135
    }
   ],
   "source": [
    "file_name = \"tmp/exoplanets.hdf\"\n",
    "df = pd.read_hdf(file_name,'df',encoding='utf-8')\n",
    "df.head()"
   ]
  },
  {
   "source": [
    "## Cleaning Temp Files"
   ],
   "cell_type": "markdown",
   "metadata": {}
  },
  {
   "cell_type": "code",
   "execution_count": 137,
   "metadata": {},
   "outputs": [],
   "source": [
    "# Always check for existence before removing\n",
    "if os.path.exists(\"tmp\"):\n",
    "    os.listdir(\"tmp\")"
   ]
  },
  {
   "cell_type": "code",
   "execution_count": 138,
   "metadata": {},
   "outputs": [],
   "source": [
    "# Build a list of files inside, remove each one by one, then remove the dir\n",
    "if os.path.exists(\"tmp\"):\n",
    "    file_list = os.listdir(\"tmp\")\n",
    "    for file in file_list:\n",
    "        clean_tmp(os.path.join(\"tmp\", file))\n",
    "    os.rmdir(\"tmp\")"
   ]
  },
  {
   "source": [
    "## Here the speaker begins to jump around the demo notebook and breezes over the last bit.  More info found in that file. "
   ],
   "cell_type": "markdown",
   "metadata": {}
  }
 ]
}